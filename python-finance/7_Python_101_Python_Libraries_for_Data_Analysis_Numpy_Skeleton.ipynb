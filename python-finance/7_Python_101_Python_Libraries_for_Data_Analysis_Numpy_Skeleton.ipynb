{
  "nbformat": 4,
  "nbformat_minor": 0,
  "metadata": {
    "colab": {
      "name": "7. Python 101 - Python Libraries for Data Analysis - Numpy Skeleton.ipynb",
      "provenance": [],
      "collapsed_sections": []
    },
    "kernelspec": {
      "name": "python3",
      "display_name": "Python 3"
    }
  },
  "cells": [
    {
      "cell_type": "markdown",
      "metadata": {
        "id": "f7yOpaRM5IbG"
      },
      "source": [
        "# 1. NUMPY BASICS"
      ]
    },
    {
      "cell_type": "code",
      "metadata": {
        "id": "Bqk10u47qEmJ",
        "colab": {
          "base_uri": "https://localhost:8080/"
        },
        "outputId": "480ed307-b56e-42f6-8100-c869af9a5644"
      },
      "source": [
        "# NumPy is a Linear Algebra Library used for multidimensional arrays\n",
        "# NumPy brings the best of two worlds: (1) C/Fortran computational efficiency, (2) Python language easy syntax \n",
        "import numpy as np\n",
        "# Let's define a one-dimensional array \n",
        "my_list = [10, 20, 50, 60, 70]\n",
        "my_list\n"
      ],
      "execution_count": 1,
      "outputs": [
        {
          "output_type": "execute_result",
          "data": {
            "text/plain": [
              "[10, 20, 50, 60, 70]"
            ]
          },
          "metadata": {
            "tags": []
          },
          "execution_count": 1
        }
      ]
    },
    {
      "cell_type": "code",
      "metadata": {
        "id": "b98d-lkK5NbQ",
        "colab": {
          "base_uri": "https://localhost:8080/"
        },
        "outputId": "d1da50b7-af0f-4bd0-f2d1-3646f33feb37"
      },
      "source": [
        "# Let's create a numpy array from the list \"my_list\"\n",
        "x = np.array(my_list)\n",
        "x"
      ],
      "execution_count": 3,
      "outputs": [
        {
          "output_type": "execute_result",
          "data": {
            "text/plain": [
              "array([10, 20, 50, 60, 70])"
            ]
          },
          "metadata": {
            "tags": []
          },
          "execution_count": 3
        }
      ]
    },
    {
      "cell_type": "code",
      "metadata": {
        "id": "tljNDWBw5Nf9",
        "colab": {
          "base_uri": "https://localhost:8080/"
        },
        "outputId": "aa42593d-c899-482d-efe6-3cd5be3ccea7"
      },
      "source": [
        "type(x)"
      ],
      "execution_count": 4,
      "outputs": [
        {
          "output_type": "execute_result",
          "data": {
            "text/plain": [
              "numpy.ndarray"
            ]
          },
          "metadata": {
            "tags": []
          },
          "execution_count": 4
        }
      ]
    },
    {
      "cell_type": "code",
      "metadata": {
        "id": "wpiZ25fZ5NiN",
        "colab": {
          "base_uri": "https://localhost:8080/"
        },
        "outputId": "05a57853-e507-4581-b934-fb3980bc891a"
      },
      "source": [
        "# Multi-dimensional (Matrix definition) \n",
        "matrix = np.array( [ [5, 8], [9, 12]])\n",
        "matrix"
      ],
      "execution_count": 5,
      "outputs": [
        {
          "output_type": "execute_result",
          "data": {
            "text/plain": [
              "array([[ 5,  8],\n",
              "       [ 9, 12]])"
            ]
          },
          "metadata": {
            "tags": []
          },
          "execution_count": 5
        }
      ]
    },
    {
      "cell_type": "markdown",
      "metadata": {
        "id": "tmB_S-JfHZRL"
      },
      "source": [
        "**MINI CHALLENGE #1:** \n",
        "- **Write a code that creates the following 2x4 numpy array**\n",
        "\n",
        "```\n",
        "[[4 6 8 7] \n",
        "[20 5 6 9]]\n",
        "```"
      ]
    },
    {
      "cell_type": "code",
      "metadata": {
        "id": "Nabjzl1oKtGX",
        "colab": {
          "base_uri": "https://localhost:8080/"
        },
        "outputId": "e84dfed3-5267-4e97-87c4-322a0fa6be94"
      },
      "source": [
        "matrix4 = np.array( [ [4, 6, 8, 7], [20, 5, 6, 9] ] )\n",
        "print(matrix4)"
      ],
      "execution_count": 7,
      "outputs": [
        {
          "output_type": "stream",
          "text": [
            "[[ 4  6  8  7]\n",
            " [20  5  6  9]]\n"
          ],
          "name": "stdout"
        }
      ]
    },
    {
      "cell_type": "markdown",
      "metadata": {
        "id": "uBuqdDQM6Qd9"
      },
      "source": [
        "# 2. BUILT-IN METHODS AND FUNCTIONS "
      ]
    },
    {
      "cell_type": "code",
      "metadata": {
        "id": "yXQV-Nrg5No3",
        "colab": {
          "base_uri": "https://localhost:8080/"
        },
        "outputId": "3c791b49-945a-4ebe-d4e3-83cd4d6558c4"
      },
      "source": [
        "# \"rand()\" uniform distribution between 0 and 1\n",
        "x = np.random.rand(15)\n",
        "x"
      ],
      "execution_count": 8,
      "outputs": [
        {
          "output_type": "execute_result",
          "data": {
            "text/plain": [
              "array([0.75789587, 0.08419082, 0.27168572, 0.70080546, 0.68932428,\n",
              "       0.71106709, 0.70533689, 0.66142109, 0.69061016, 0.62824506,\n",
              "       0.36893487, 0.31868598, 0.82623254, 0.75570512, 0.14389548])"
            ]
          },
          "metadata": {
            "tags": []
          },
          "execution_count": 8
        }
      ]
    },
    {
      "cell_type": "code",
      "metadata": {
        "id": "PpJUCdB15NkT",
        "colab": {
          "base_uri": "https://localhost:8080/"
        },
        "outputId": "c91987ab-4f87-4dc9-f292-29c56cc0e34b"
      },
      "source": [
        "# you can create a matrix of random number as well\n",
        "x = np.random.rand(5, 5)\n",
        "x"
      ],
      "execution_count": 9,
      "outputs": [
        {
          "output_type": "execute_result",
          "data": {
            "text/plain": [
              "array([[0.62195318, 0.42415015, 0.46536079, 0.68688899, 0.10712414],\n",
              "       [0.5601215 , 0.24424131, 0.15136729, 0.64471745, 0.30476012],\n",
              "       [0.97829611, 0.29451848, 0.10372234, 0.55451632, 0.67084396],\n",
              "       [0.56248361, 0.98967467, 0.4517154 , 0.88204164, 0.43079864],\n",
              "       [0.05407513, 0.40067039, 0.48439544, 0.63630445, 0.60590813]])"
            ]
          },
          "metadata": {
            "tags": []
          },
          "execution_count": 9
        }
      ]
    },
    {
      "cell_type": "code",
      "metadata": {
        "id": "7EzMNrrm6YHA",
        "colab": {
          "base_uri": "https://localhost:8080/"
        },
        "outputId": "0ce71f69-e9a9-44f6-800d-32d449ab51e6"
      },
      "source": [
        "# \"randn()\" normal distribution between 0 and 1\n",
        "x = np.random.randn(10)\n",
        "x\n"
      ],
      "execution_count": 10,
      "outputs": [
        {
          "output_type": "execute_result",
          "data": {
            "text/plain": [
              "array([ 0.83613435,  0.06322491, -1.23762635, -1.09498333,  0.32534842,\n",
              "       -0.83559836,  0.18252207, -2.90028847,  0.55405792, -1.44658009])"
            ]
          },
          "metadata": {
            "tags": []
          },
          "execution_count": 10
        }
      ]
    },
    {
      "cell_type": "code",
      "metadata": {
        "id": "RBcU5xgb6YL0",
        "colab": {
          "base_uri": "https://localhost:8080/"
        },
        "outputId": "ab73b327-f5f8-4685-ef50-ab86d811796b"
      },
      "source": [
        "# \"randint\" is used to generate random integers between upper and lower bounds\n",
        "x = np.random.randint(1, 10)\n",
        "x"
      ],
      "execution_count": 12,
      "outputs": [
        {
          "output_type": "execute_result",
          "data": {
            "text/plain": [
              "3"
            ]
          },
          "metadata": {
            "tags": []
          },
          "execution_count": 12
        }
      ]
    },
    {
      "cell_type": "code",
      "metadata": {
        "id": "O3JdVtvo6YP7",
        "colab": {
          "base_uri": "https://localhost:8080/"
        },
        "outputId": "5a66c268-61ef-41a0-ec56-7c9a86b2e9b3"
      },
      "source": [
        "# \"randint\" can be used to generate a certain number of random itegers as follows\n",
        "x = np.random.randint(1, 100, 15)\n",
        "x"
      ],
      "execution_count": 14,
      "outputs": [
        {
          "output_type": "execute_result",
          "data": {
            "text/plain": [
              "array([55, 64,  4,  4, 96, 83, 66, 23, 85, 82, 91,  5, 44, 47, 25])"
            ]
          },
          "metadata": {
            "tags": []
          },
          "execution_count": 14
        }
      ]
    },
    {
      "cell_type": "code",
      "metadata": {
        "id": "EOOLMB416YUh",
        "colab": {
          "base_uri": "https://localhost:8080/"
        },
        "outputId": "9baa5c53-67ab-40ee-89fa-0617ee6be1b2"
      },
      "source": [
        "# np.arange creates an evenly spaced values within a given interval\n",
        "x = np.arange(1, 50)\n",
        "x"
      ],
      "execution_count": 15,
      "outputs": [
        {
          "output_type": "execute_result",
          "data": {
            "text/plain": [
              "array([ 1,  2,  3,  4,  5,  6,  7,  8,  9, 10, 11, 12, 13, 14, 15, 16, 17,\n",
              "       18, 19, 20, 21, 22, 23, 24, 25, 26, 27, 28, 29, 30, 31, 32, 33, 34,\n",
              "       35, 36, 37, 38, 39, 40, 41, 42, 43, 44, 45, 46, 47, 48, 49])"
            ]
          },
          "metadata": {
            "tags": []
          },
          "execution_count": 15
        }
      ]
    },
    {
      "cell_type": "code",
      "metadata": {
        "id": "Jz7eJuio6YY4",
        "colab": {
          "base_uri": "https://localhost:8080/"
        },
        "outputId": "1ca52d1d-b3cc-4ac8-b01f-1d67ff977207"
      },
      "source": [
        "# Create an evenly spaced values with a step of 5\n",
        "x = np.arange(1, 50, 5)\n",
        "x"
      ],
      "execution_count": 16,
      "outputs": [
        {
          "output_type": "execute_result",
          "data": {
            "text/plain": [
              "array([ 1,  6, 11, 16, 21, 26, 31, 36, 41, 46])"
            ]
          },
          "metadata": {
            "tags": []
          },
          "execution_count": 16
        }
      ]
    },
    {
      "cell_type": "code",
      "metadata": {
        "id": "sft1flaM6YXF",
        "colab": {
          "base_uri": "https://localhost:8080/"
        },
        "outputId": "99205b4a-9394-4602-c50d-3c53181510f7"
      },
      "source": [
        "# create a diagonal of ones and zeros everywhere else\n",
        "x = np.eye(15)\n",
        "x"
      ],
      "execution_count": 17,
      "outputs": [
        {
          "output_type": "execute_result",
          "data": {
            "text/plain": [
              "array([[1., 0., 0., 0., 0., 0., 0., 0., 0., 0., 0., 0., 0., 0., 0.],\n",
              "       [0., 1., 0., 0., 0., 0., 0., 0., 0., 0., 0., 0., 0., 0., 0.],\n",
              "       [0., 0., 1., 0., 0., 0., 0., 0., 0., 0., 0., 0., 0., 0., 0.],\n",
              "       [0., 0., 0., 1., 0., 0., 0., 0., 0., 0., 0., 0., 0., 0., 0.],\n",
              "       [0., 0., 0., 0., 1., 0., 0., 0., 0., 0., 0., 0., 0., 0., 0.],\n",
              "       [0., 0., 0., 0., 0., 1., 0., 0., 0., 0., 0., 0., 0., 0., 0.],\n",
              "       [0., 0., 0., 0., 0., 0., 1., 0., 0., 0., 0., 0., 0., 0., 0.],\n",
              "       [0., 0., 0., 0., 0., 0., 0., 1., 0., 0., 0., 0., 0., 0., 0.],\n",
              "       [0., 0., 0., 0., 0., 0., 0., 0., 1., 0., 0., 0., 0., 0., 0.],\n",
              "       [0., 0., 0., 0., 0., 0., 0., 0., 0., 1., 0., 0., 0., 0., 0.],\n",
              "       [0., 0., 0., 0., 0., 0., 0., 0., 0., 0., 1., 0., 0., 0., 0.],\n",
              "       [0., 0., 0., 0., 0., 0., 0., 0., 0., 0., 0., 1., 0., 0., 0.],\n",
              "       [0., 0., 0., 0., 0., 0., 0., 0., 0., 0., 0., 0., 1., 0., 0.],\n",
              "       [0., 0., 0., 0., 0., 0., 0., 0., 0., 0., 0., 0., 0., 1., 0.],\n",
              "       [0., 0., 0., 0., 0., 0., 0., 0., 0., 0., 0., 0., 0., 0., 1.]])"
            ]
          },
          "metadata": {
            "tags": []
          },
          "execution_count": 17
        }
      ]
    },
    {
      "cell_type": "code",
      "metadata": {
        "id": "zZgMftc96fZm",
        "colab": {
          "base_uri": "https://localhost:8080/"
        },
        "outputId": "38c2ff60-c14c-4ad5-c258-1c382ecf3e3e"
      },
      "source": [
        "# Array of ones\n",
        "x = np.ones(10)\n",
        "x"
      ],
      "execution_count": 18,
      "outputs": [
        {
          "output_type": "execute_result",
          "data": {
            "text/plain": [
              "array([1., 1., 1., 1., 1., 1., 1., 1., 1., 1.])"
            ]
          },
          "metadata": {
            "tags": []
          },
          "execution_count": 18
        }
      ]
    },
    {
      "cell_type": "code",
      "metadata": {
        "id": "VQ8fp8Qb6feB",
        "colab": {
          "base_uri": "https://localhost:8080/"
        },
        "outputId": "bc523434-5c34-4552-a131-9dbde09c1f4a"
      },
      "source": [
        "# Matrices of ones\n",
        "x = np.ones((15, 15))\n",
        "x"
      ],
      "execution_count": 19,
      "outputs": [
        {
          "output_type": "execute_result",
          "data": {
            "text/plain": [
              "array([[1., 1., 1., 1., 1., 1., 1., 1., 1., 1., 1., 1., 1., 1., 1.],\n",
              "       [1., 1., 1., 1., 1., 1., 1., 1., 1., 1., 1., 1., 1., 1., 1.],\n",
              "       [1., 1., 1., 1., 1., 1., 1., 1., 1., 1., 1., 1., 1., 1., 1.],\n",
              "       [1., 1., 1., 1., 1., 1., 1., 1., 1., 1., 1., 1., 1., 1., 1.],\n",
              "       [1., 1., 1., 1., 1., 1., 1., 1., 1., 1., 1., 1., 1., 1., 1.],\n",
              "       [1., 1., 1., 1., 1., 1., 1., 1., 1., 1., 1., 1., 1., 1., 1.],\n",
              "       [1., 1., 1., 1., 1., 1., 1., 1., 1., 1., 1., 1., 1., 1., 1.],\n",
              "       [1., 1., 1., 1., 1., 1., 1., 1., 1., 1., 1., 1., 1., 1., 1.],\n",
              "       [1., 1., 1., 1., 1., 1., 1., 1., 1., 1., 1., 1., 1., 1., 1.],\n",
              "       [1., 1., 1., 1., 1., 1., 1., 1., 1., 1., 1., 1., 1., 1., 1.],\n",
              "       [1., 1., 1., 1., 1., 1., 1., 1., 1., 1., 1., 1., 1., 1., 1.],\n",
              "       [1., 1., 1., 1., 1., 1., 1., 1., 1., 1., 1., 1., 1., 1., 1.],\n",
              "       [1., 1., 1., 1., 1., 1., 1., 1., 1., 1., 1., 1., 1., 1., 1.],\n",
              "       [1., 1., 1., 1., 1., 1., 1., 1., 1., 1., 1., 1., 1., 1., 1.],\n",
              "       [1., 1., 1., 1., 1., 1., 1., 1., 1., 1., 1., 1., 1., 1., 1.]])"
            ]
          },
          "metadata": {
            "tags": []
          },
          "execution_count": 19
        }
      ]
    },
    {
      "cell_type": "code",
      "metadata": {
        "id": "TTROXKYo6YSn",
        "colab": {
          "base_uri": "https://localhost:8080/"
        },
        "outputId": "ed3196e7-b491-428f-a633-139ccad79327"
      },
      "source": [
        "# Array of zeros\n",
        "x = np.zeros(20)\n",
        "x"
      ],
      "execution_count": 20,
      "outputs": [
        {
          "output_type": "execute_result",
          "data": {
            "text/plain": [
              "array([0., 0., 0., 0., 0., 0., 0., 0., 0., 0., 0., 0., 0., 0., 0., 0., 0.,\n",
              "       0., 0., 0.])"
            ]
          },
          "metadata": {
            "tags": []
          },
          "execution_count": 20
        }
      ]
    },
    {
      "cell_type": "code",
      "metadata": {
        "colab": {
          "base_uri": "https://localhost:8080/"
        },
        "id": "xWhLTxoG-QGC",
        "outputId": "d82ad8d4-ecff-4e08-eaeb-4249c41037f8"
      },
      "source": [
        "x = np.zeros((10, 10))\n",
        "x"
      ],
      "execution_count": 21,
      "outputs": [
        {
          "output_type": "execute_result",
          "data": {
            "text/plain": [
              "array([[0., 0., 0., 0., 0., 0., 0., 0., 0., 0.],\n",
              "       [0., 0., 0., 0., 0., 0., 0., 0., 0., 0.],\n",
              "       [0., 0., 0., 0., 0., 0., 0., 0., 0., 0.],\n",
              "       [0., 0., 0., 0., 0., 0., 0., 0., 0., 0.],\n",
              "       [0., 0., 0., 0., 0., 0., 0., 0., 0., 0.],\n",
              "       [0., 0., 0., 0., 0., 0., 0., 0., 0., 0.],\n",
              "       [0., 0., 0., 0., 0., 0., 0., 0., 0., 0.],\n",
              "       [0., 0., 0., 0., 0., 0., 0., 0., 0., 0.],\n",
              "       [0., 0., 0., 0., 0., 0., 0., 0., 0., 0.],\n",
              "       [0., 0., 0., 0., 0., 0., 0., 0., 0., 0.]])"
            ]
          },
          "metadata": {
            "tags": []
          },
          "execution_count": 21
        }
      ]
    },
    {
      "cell_type": "markdown",
      "metadata": {
        "id": "IGiQ87EjKzh-"
      },
      "source": [
        "**MINI CHALLENGE #2:**\n",
        "- **Write a code that takes in a number x from the user and creates a 1x20 array with random numbers ranging from 0 to x**"
      ]
    },
    {
      "cell_type": "code",
      "metadata": {
        "colab": {
          "base_uri": "https://localhost:8080/"
        },
        "id": "UYYyu5iy-OwP",
        "outputId": "077b5a31-5c30-4648-a2d9-57ae5e151221"
      },
      "source": [
        "x = int(input('Please enter a positive integer value: '))\n",
        "arr = np.random.randint(0, x, 20)\n",
        "arr"
      ],
      "execution_count": 23,
      "outputs": [
        {
          "output_type": "stream",
          "text": [
            "Please enter a positive integer value: 30\n"
          ],
          "name": "stdout"
        },
        {
          "output_type": "execute_result",
          "data": {
            "text/plain": [
              "array([25, 22, 25,  0, 25, 26, 29, 17, 24, 26, 24,  4,  0, 16, 23, 15, 26,\n",
              "        9, 13, 20])"
            ]
          },
          "metadata": {
            "tags": []
          },
          "execution_count": 23
        }
      ]
    },
    {
      "cell_type": "code",
      "metadata": {
        "id": "xg1mPZKKML5j"
      },
      "source": [
        ""
      ],
      "execution_count": null,
      "outputs": []
    },
    {
      "cell_type": "markdown",
      "metadata": {
        "id": "980PKtbu9Z0k"
      },
      "source": [
        "# 3. SHAPE, LENGTH, TYPE, RESHAPE, AND MAX/MIN VALUES"
      ]
    },
    {
      "cell_type": "code",
      "metadata": {
        "id": "MIxxZhxSADVj",
        "colab": {
          "base_uri": "https://localhost:8080/"
        },
        "outputId": "eb8157f8-25ba-4576-db97-685b00771031"
      },
      "source": [
        "# Let's define a one-dimensional array \n",
        "my_list = [-30, 4, 50, 70, 120, 17, 95, 8]\n",
        "my_list"
      ],
      "execution_count": 30,
      "outputs": [
        {
          "output_type": "execute_result",
          "data": {
            "text/plain": [
              "[-30, 4, 50, 70, 120, 17, 95, 8]"
            ]
          },
          "metadata": {
            "tags": []
          },
          "execution_count": 30
        }
      ]
    },
    {
      "cell_type": "code",
      "metadata": {
        "colab": {
          "base_uri": "https://localhost:8080/"
        },
        "id": "HioQ5k7KCZWn",
        "outputId": "ddb4901b-b8cc-47e0-ccfe-bccf0d886a93"
      },
      "source": [
        "x = np.array(my_list)\n",
        "x"
      ],
      "execution_count": 31,
      "outputs": [
        {
          "output_type": "execute_result",
          "data": {
            "text/plain": [
              "array([-30,   4,  50,  70, 120,  17,  95,   8])"
            ]
          },
          "metadata": {
            "tags": []
          },
          "execution_count": 31
        }
      ]
    },
    {
      "cell_type": "code",
      "metadata": {
        "id": "O9mMBErG6YJr",
        "colab": {
          "base_uri": "https://localhost:8080/"
        },
        "outputId": "48ccbb6d-50df-4a35-9281-cb72b2e5952d"
      },
      "source": [
        "# Get Length of a numpy array\n",
        "len(x)"
      ],
      "execution_count": 32,
      "outputs": [
        {
          "output_type": "execute_result",
          "data": {
            "text/plain": [
              "8"
            ]
          },
          "metadata": {
            "tags": []
          },
          "execution_count": 32
        }
      ]
    },
    {
      "cell_type": "code",
      "metadata": {
        "id": "fo3vYjNI9lGF",
        "colab": {
          "base_uri": "https://localhost:8080/"
        },
        "outputId": "ecb6a929-699a-4da4-8596-5c888383b066"
      },
      "source": [
        "# Get shape\n",
        "x.shape"
      ],
      "execution_count": 33,
      "outputs": [
        {
          "output_type": "execute_result",
          "data": {
            "text/plain": [
              "(8,)"
            ]
          },
          "metadata": {
            "tags": []
          },
          "execution_count": 33
        }
      ]
    },
    {
      "cell_type": "code",
      "metadata": {
        "id": "fdkzRVuB9lR6",
        "colab": {
          "base_uri": "https://localhost:8080/"
        },
        "outputId": "b3ee39ae-1c3c-4e92-e326-04e09117de03"
      },
      "source": [
        "# Obtain the datatype\n",
        "x.dtype"
      ],
      "execution_count": 29,
      "outputs": [
        {
          "output_type": "execute_result",
          "data": {
            "text/plain": [
              "dtype('int64')"
            ]
          },
          "metadata": {
            "tags": []
          },
          "execution_count": 29
        }
      ]
    },
    {
      "cell_type": "code",
      "metadata": {
        "id": "GVnOSYnU9lLU",
        "colab": {
          "base_uri": "https://localhost:8080/"
        },
        "outputId": "399bbab9-d4e6-408c-d35f-26fae75d78bd"
      },
      "source": [
        "# Reshape 1D array into a matrix\n",
        "z = x.reshape(2, 4)\n",
        "z"
      ],
      "execution_count": 34,
      "outputs": [
        {
          "output_type": "execute_result",
          "data": {
            "text/plain": [
              "array([[-30,   4,  50,  70],\n",
              "       [120,  17,  95,   8]])"
            ]
          },
          "metadata": {
            "tags": []
          },
          "execution_count": 34
        }
      ]
    },
    {
      "cell_type": "code",
      "metadata": {
        "id": "zb1UVnsW9lI_",
        "colab": {
          "base_uri": "https://localhost:8080/"
        },
        "outputId": "2648def2-cb0f-47dd-9e20-077612e69781"
      },
      "source": [
        "# Obtain the maximum element (value)\n",
        "x.max()"
      ],
      "execution_count": 36,
      "outputs": [
        {
          "output_type": "execute_result",
          "data": {
            "text/plain": [
              "120"
            ]
          },
          "metadata": {
            "tags": []
          },
          "execution_count": 36
        }
      ]
    },
    {
      "cell_type": "code",
      "metadata": {
        "id": "q1yArvkA-R5P",
        "colab": {
          "base_uri": "https://localhost:8080/"
        },
        "outputId": "44d6f54e-3055-43d8-fa26-61412db3a622"
      },
      "source": [
        "# Obtain the minimum element (value)\n",
        "x.min()"
      ],
      "execution_count": 37,
      "outputs": [
        {
          "output_type": "execute_result",
          "data": {
            "text/plain": [
              "-30"
            ]
          },
          "metadata": {
            "tags": []
          },
          "execution_count": 37
        }
      ]
    },
    {
      "cell_type": "code",
      "metadata": {
        "id": "ehXgrFee-R3F",
        "colab": {
          "base_uri": "https://localhost:8080/"
        },
        "outputId": "4b59c95b-3963-4653-f3a7-b3ea820dcf22"
      },
      "source": [
        "# Obtain the location of the max element\n",
        "x.argmax()"
      ],
      "execution_count": 38,
      "outputs": [
        {
          "output_type": "execute_result",
          "data": {
            "text/plain": [
              "4"
            ]
          },
          "metadata": {
            "tags": []
          },
          "execution_count": 38
        }
      ]
    },
    {
      "cell_type": "code",
      "metadata": {
        "id": "EnaJTGEy-R0Y",
        "colab": {
          "base_uri": "https://localhost:8080/"
        },
        "outputId": "3e458970-6fa1-4e6b-c8ab-8af3b40fdfa0"
      },
      "source": [
        "# Obtain the location of the min element\n",
        "x.argmin()"
      ],
      "execution_count": 39,
      "outputs": [
        {
          "output_type": "execute_result",
          "data": {
            "text/plain": [
              "0"
            ]
          },
          "metadata": {
            "tags": []
          },
          "execution_count": 39
        }
      ]
    },
    {
      "cell_type": "markdown",
      "metadata": {
        "id": "7LavgBBnIIJz"
      },
      "source": [
        "**MINI CHALLENGE #3:**\n",
        "- **Write a code that creates a 4x5 array inwhich numbers range between 300 and 500 such that the difference between elements is 10**"
      ]
    },
    {
      "cell_type": "code",
      "metadata": {
        "id": "CtwsbAQ6NGiN",
        "colab": {
          "base_uri": "https://localhost:8080/"
        },
        "outputId": "022c21af-ac2f-4489-91de-e8cbea0677f2"
      },
      "source": [
        "x = np.arange(300, 500, 10)\n",
        "z = x.reshape(4, 5)\n",
        "z"
      ],
      "execution_count": 41,
      "outputs": [
        {
          "output_type": "execute_result",
          "data": {
            "text/plain": [
              "array([[300, 310, 320, 330, 340],\n",
              "       [350, 360, 370, 380, 390],\n",
              "       [400, 410, 420, 430, 440],\n",
              "       [450, 460, 470, 480, 490]])"
            ]
          },
          "metadata": {
            "tags": []
          },
          "execution_count": 41
        }
      ]
    },
    {
      "cell_type": "markdown",
      "metadata": {
        "id": "zQ-QhrsgM2x8"
      },
      "source": [
        "**MINI CHALLENGE #4:**\n",
        "- **Write a code that creates a 20x20 numpy array of random values that ranges from -1000 to 1000 and obtain the maximum, minimum, and mean values** "
      ]
    },
    {
      "cell_type": "code",
      "metadata": {
        "id": "PS3ofoabMb9V",
        "colab": {
          "base_uri": "https://localhost:8080/"
        },
        "outputId": "894b7719-a6cb-431d-98d9-8c31d8f50d46"
      },
      "source": [
        "x = np.random.randint(-1000, 1000, (20, 20))\n",
        "x"
      ],
      "execution_count": 49,
      "outputs": [
        {
          "output_type": "execute_result",
          "data": {
            "text/plain": [
              "array([[ 117, -476, -488, -988, -911,   35,  518,  641, -118,  156, -324,\n",
              "        -440,  470, -339,  972, -220,  952,  785, -954,  388],\n",
              "       [ 963,  503, -605, -233,  905, -356, -894, -594,  844, -723, -614,\n",
              "         766, -617, -692, -360,  624, -443, -724,  303,  736],\n",
              "       [ 444,  447,  539,  594, -862, -137,  708, -724,  840,   70, -774,\n",
              "         320, -445, -479, -873,   18,  805,  203,  175,  326],\n",
              "       [ 730, -620,  -86,  608, -169,  173, -508,  772,  463, -916, -936,\n",
              "         689, -218, -325,   46, -997,  742,  432,  462, -951],\n",
              "       [ 461,  577,  -93,  262,  778,  -35,  794, -759,  702, -341, -326,\n",
              "          16, -205,   46,  299,  472, -286, -523,  350, -240],\n",
              "       [ 596, -267,  578,  153,  626, -661,  678,  329, -541,  742, -494,\n",
              "         465, -947,  712,  488, -246,  -91, -306,  302,  817],\n",
              "       [-654,  756, -538,  861, -542,  437,  854,  375,   20,  229,  510,\n",
              "        -497, -830,  129,  618, -992,  985, -822, -702, -123],\n",
              "       [ 981,  135, -915, -657,  545,  908, -157, -800, -693,  119,  373,\n",
              "        -285, -753, -616,  922,  669,  214, -859,  820, -178],\n",
              "       [-592, -526, -496,  364, -212, -703, -979, -748, -663, -367,  384,\n",
              "         -81, -344,  775, -198, -695, -392, -107, -404,  215],\n",
              "       [ 832, -959, -324,  245, -524,  270,  199,  699,  874, -294,  928,\n",
              "        -208, -304,   -4,   33,  745,  659,  260,  576, -821],\n",
              "       [ 873,    0,  463,  368,  655,  954, -213,  293,  244,  466, -395,\n",
              "        -139, -711,  348, -225, -112,  395,  922,  887,  729],\n",
              "       [ 978, -368,  422,  637,  338,  -58,  416, -571, -718,  416, -905,\n",
              "         106, -108, -699,  707, -930, -767, -822, -708, -260],\n",
              "       [ 795,  738,  952,  644,  324, -219,   68, -663,  585, -980, -660,\n",
              "        -826,  380,  432,  131, -187,  144,  639, -940, -409],\n",
              "       [-729, -711,  750,  -89, -765,  446,  356,  153,  910,   -6,  -32,\n",
              "        -515,  890,  369, -394, -719, -115, -953,  125,   21],\n",
              "       [ 175,  936,  405,  617, -696,  745, -439,  739,   40,  532, -321,\n",
              "         766, -580,  437, -936, -747, -494,  489,  -87,  988],\n",
              "       [ 719,  871,  281,  515, -891, -897,  386, -536, -727,  -74, -327,\n",
              "         153, -984, -451,  854,   96, -618,  845, -617, -506],\n",
              "       [ 416, -694, -996,  918,  -21, -919, -285,  -73, -618,  334,  -36,\n",
              "        -927, -138, -187, -653,  395,  811,  593,   21,  333],\n",
              "       [ 116, -321, -804, -501,  327,  290,  390,   99, -640, -760, -174,\n",
              "         371, -407, -636,  -95, -261, -466,  280,   21,  717],\n",
              "       [ 172,  408,   49, -510,  536, -725, -445, -116, -697, -868, -160,\n",
              "        -803, -973,  671,  142,  500, -357,  335, -581,  796],\n",
              "       [ 563, -873, -798,  240,  823, -451, -247,  675,  922, -458,  554,\n",
              "        -466, -536,  376, -766,   65,  755, -141, -258, -163]])"
            ]
          },
          "metadata": {
            "tags": []
          },
          "execution_count": 49
        }
      ]
    },
    {
      "cell_type": "code",
      "metadata": {
        "colab": {
          "base_uri": "https://localhost:8080/"
        },
        "id": "spPqemwTIE7P",
        "outputId": "b19ddea5-f556-4a8f-fa3c-86b404f0cea0"
      },
      "source": [
        "x.shape"
      ],
      "execution_count": 50,
      "outputs": [
        {
          "output_type": "execute_result",
          "data": {
            "text/plain": [
              "(20, 20)"
            ]
          },
          "metadata": {
            "tags": []
          },
          "execution_count": 50
        }
      ]
    },
    {
      "cell_type": "code",
      "metadata": {
        "colab": {
          "base_uri": "https://localhost:8080/"
        },
        "id": "RXfFVLcZKfDu",
        "outputId": "92f68dd8-6b8a-4943-ae13-4dcff1fe1b2d"
      },
      "source": [
        "x.max()"
      ],
      "execution_count": 51,
      "outputs": [
        {
          "output_type": "execute_result",
          "data": {
            "text/plain": [
              "988"
            ]
          },
          "metadata": {
            "tags": []
          },
          "execution_count": 51
        }
      ]
    },
    {
      "cell_type": "code",
      "metadata": {
        "colab": {
          "base_uri": "https://localhost:8080/"
        },
        "id": "URxOlAJLKfL8",
        "outputId": "1129bed7-b5c5-4b89-8dc8-853cced580e8"
      },
      "source": [
        "x.min()"
      ],
      "execution_count": 52,
      "outputs": [
        {
          "output_type": "execute_result",
          "data": {
            "text/plain": [
              "-997"
            ]
          },
          "metadata": {
            "tags": []
          },
          "execution_count": 52
        }
      ]
    },
    {
      "cell_type": "code",
      "metadata": {
        "colab": {
          "base_uri": "https://localhost:8080/"
        },
        "id": "IGdv_yuCKfWq",
        "outputId": "4c786fe4-4618-4443-8619-49f91c673a93"
      },
      "source": [
        "x.mean()"
      ],
      "execution_count": 54,
      "outputs": [
        {
          "output_type": "execute_result",
          "data": {
            "text/plain": [
              "-6.22"
            ]
          },
          "metadata": {
            "tags": []
          },
          "execution_count": 54
        }
      ]
    },
    {
      "cell_type": "code",
      "metadata": {
        "colab": {
          "base_uri": "https://localhost:8080/"
        },
        "id": "vURhoUgBK0uo",
        "outputId": "60022dc1-be1d-473e-c037-ddc64fe148e3"
      },
      "source": [
        "print('The maximum value is: {} and the minimun value is: {}'.format(x.max(), x.min()))"
      ],
      "execution_count": 55,
      "outputs": [
        {
          "output_type": "stream",
          "text": [
            "The maximum value is: 988 and the minimun value is: -997\n"
          ],
          "name": "stdout"
        }
      ]
    },
    {
      "cell_type": "markdown",
      "metadata": {
        "id": "VRyk_VYQArV3"
      },
      "source": [
        "# 4. MATHEMATICAL OPERATIONS"
      ]
    },
    {
      "cell_type": "code",
      "metadata": {
        "id": "vm-gmaQG-Vvd",
        "colab": {
          "base_uri": "https://localhost:8080/"
        },
        "outputId": "f8c604c3-0497-4302-8ab5-33a0ee602b23"
      },
      "source": [
        "# np.arange() returns an evenly spaced values within a given interval\n",
        "x = np.arange(1, 10)\n",
        "x"
      ],
      "execution_count": 56,
      "outputs": [
        {
          "output_type": "execute_result",
          "data": {
            "text/plain": [
              "array([1, 2, 3, 4, 5, 6, 7, 8, 9])"
            ]
          },
          "metadata": {
            "tags": []
          },
          "execution_count": 56
        }
      ]
    },
    {
      "cell_type": "code",
      "metadata": {
        "id": "yzC5WGBIAzNk",
        "colab": {
          "base_uri": "https://localhost:8080/"
        },
        "outputId": "771e526f-d5b4-4845-ae14-5c713382de17"
      },
      "source": [
        "y = np.arange(1, 10)\n",
        "y"
      ],
      "execution_count": 57,
      "outputs": [
        {
          "output_type": "execute_result",
          "data": {
            "text/plain": [
              "array([1, 2, 3, 4, 5, 6, 7, 8, 9])"
            ]
          },
          "metadata": {
            "tags": []
          },
          "execution_count": 57
        }
      ]
    },
    {
      "cell_type": "code",
      "metadata": {
        "id": "ED0OSzpw2p9R",
        "colab": {
          "base_uri": "https://localhost:8080/"
        },
        "outputId": "60d0acbe-4044-4327-beb7-fb9e5d2babc3"
      },
      "source": [
        "# Add 2 numpy arrays together\n",
        "sum = x + y\n",
        "sum"
      ],
      "execution_count": 58,
      "outputs": [
        {
          "output_type": "execute_result",
          "data": {
            "text/plain": [
              "array([ 2,  4,  6,  8, 10, 12, 14, 16, 18])"
            ]
          },
          "metadata": {
            "tags": []
          },
          "execution_count": 58
        }
      ]
    },
    {
      "cell_type": "code",
      "metadata": {
        "id": "TH6xTJcuAzK-",
        "colab": {
          "base_uri": "https://localhost:8080/"
        },
        "outputId": "ea89809d-dec5-41bc-9b6f-85c8527204de"
      },
      "source": [
        "squared = x**2\n",
        "squared"
      ],
      "execution_count": 59,
      "outputs": [
        {
          "output_type": "execute_result",
          "data": {
            "text/plain": [
              "array([ 1,  4,  9, 16, 25, 36, 49, 64, 81])"
            ]
          },
          "metadata": {
            "tags": []
          },
          "execution_count": 59
        }
      ]
    },
    {
      "cell_type": "code",
      "metadata": {
        "id": "A0T25q5bAzIw",
        "colab": {
          "base_uri": "https://localhost:8080/"
        },
        "outputId": "3fb3b543-58bb-408b-9a50-ca301a6e03ee"
      },
      "source": [
        "sqrt = np.sqrt(squared)\n",
        "sqrt"
      ],
      "execution_count": 60,
      "outputs": [
        {
          "output_type": "execute_result",
          "data": {
            "text/plain": [
              "array([1., 2., 3., 4., 5., 6., 7., 8., 9.])"
            ]
          },
          "metadata": {
            "tags": []
          },
          "execution_count": 60
        }
      ]
    },
    {
      "cell_type": "code",
      "metadata": {
        "id": "1HvrjH4fAzGd",
        "colab": {
          "base_uri": "https://localhost:8080/"
        },
        "outputId": "20416529-2bd1-45cc-ba7b-e1e54f60b88e"
      },
      "source": [
        "z = np.exp(y)\n",
        "z"
      ],
      "execution_count": 61,
      "outputs": [
        {
          "output_type": "execute_result",
          "data": {
            "text/plain": [
              "array([2.71828183e+00, 7.38905610e+00, 2.00855369e+01, 5.45981500e+01,\n",
              "       1.48413159e+02, 4.03428793e+02, 1.09663316e+03, 2.98095799e+03,\n",
              "       8.10308393e+03])"
            ]
          },
          "metadata": {
            "tags": []
          },
          "execution_count": 61
        }
      ]
    },
    {
      "cell_type": "markdown",
      "metadata": {
        "id": "-mj5Mwc2MmY2"
      },
      "source": [
        "**MINI CHALLENGE #5:**\n",
        "- **Given the X and Y values below, obtain the distance between them**\n",
        "\n",
        "\n",
        "```\n",
        "X = [3, 20, 30]\n",
        "Y = [4, 6, 7]\n",
        "```"
      ]
    },
    {
      "cell_type": "markdown",
      "metadata": {
        "id": "hXlvc72KPZN4"
      },
      "source": [
        "The linear distance between the two points is the square root of the sum of the squared values of the x-axis distance and the y-axis distance.\n",
        "\n",
        "d=√((x_2-x_1)²+(y_2-y_1)²)\n"
      ]
    },
    {
      "cell_type": "code",
      "metadata": {
        "id": "LfvrGIb83zCA",
        "colab": {
          "base_uri": "https://localhost:8080/"
        },
        "outputId": "a3086c06-b153-4e3b-cabb-4c4e78a0a624"
      },
      "source": [
        "# 1st\n",
        "x = [3, 20, 30]\n",
        "y = [4, 6, 7]\n",
        "d = np.sqrt(np.square(y[0] - x[0]) + np.square(y[1] - x[1]) + np.square(y[2] - x[2]))\n",
        "d"
      ],
      "execution_count": 65,
      "outputs": [
        {
          "output_type": "execute_result",
          "data": {
            "text/plain": [
              "26.94438717061496"
            ]
          },
          "metadata": {
            "tags": []
          },
          "execution_count": 65
        }
      ]
    },
    {
      "cell_type": "code",
      "metadata": {
        "colab": {
          "base_uri": "https://localhost:8080/"
        },
        "id": "HLTrJvaPSBw2",
        "outputId": "6095fe3c-9db1-4222-a51f-fb3c6d54b68c"
      },
      "source": [
        "# 2d \n",
        "x = np.array([3, 20, 30])\n",
        "y = np.array([4, 6, 7])\n",
        "z = np.square(x - y)\n",
        "print(z)"
      ],
      "execution_count": 66,
      "outputs": [
        {
          "output_type": "stream",
          "text": [
            "[  1 196 529]\n"
          ],
          "name": "stdout"
        }
      ]
    },
    {
      "cell_type": "code",
      "metadata": {
        "colab": {
          "base_uri": "https://localhost:8080/"
        },
        "id": "EfYC2QA3Sejk",
        "outputId": "3a084aba-d3e9-4c5b-9c69-ccce008743ea"
      },
      "source": [
        "dist = np.sqrt(np.sum(z))\n",
        "dist"
      ],
      "execution_count": 68,
      "outputs": [
        {
          "output_type": "execute_result",
          "data": {
            "text/plain": [
              "26.94438717061496"
            ]
          },
          "metadata": {
            "tags": []
          },
          "execution_count": 68
        }
      ]
    },
    {
      "cell_type": "markdown",
      "metadata": {
        "id": "ZA-Yb20mCYLl"
      },
      "source": [
        "# 5. SLICING AND INDEXING "
      ]
    },
    {
      "cell_type": "code",
      "metadata": {
        "id": "Bu6rhQ99BFCp",
        "colab": {
          "base_uri": "https://localhost:8080/"
        },
        "outputId": "998b2650-039f-49b9-eb6e-d70d0ac553f7"
      },
      "source": [
        "x = np.array([20, 40, 50, 60, 70])\n",
        "x"
      ],
      "execution_count": 76,
      "outputs": [
        {
          "output_type": "execute_result",
          "data": {
            "text/plain": [
              "array([20, 40, 50, 60, 70])"
            ]
          },
          "metadata": {
            "tags": []
          },
          "execution_count": 76
        }
      ]
    },
    {
      "cell_type": "code",
      "metadata": {
        "id": "9TuEXJxgCdi_",
        "colab": {
          "base_uri": "https://localhost:8080/"
        },
        "outputId": "fac7ec20-7753-4644-abf9-8d47f4306b02"
      },
      "source": [
        "# Access specific index from the numpy array\n",
        "x[0]"
      ],
      "execution_count": 77,
      "outputs": [
        {
          "output_type": "execute_result",
          "data": {
            "text/plain": [
              "20"
            ]
          },
          "metadata": {
            "tags": []
          },
          "execution_count": 77
        }
      ]
    },
    {
      "cell_type": "code",
      "metadata": {
        "id": "EjisujRgCdh4",
        "colab": {
          "base_uri": "https://localhost:8080/"
        },
        "outputId": "2e63ee7f-7237-43c9-f96a-b51a5147ac1c"
      },
      "source": [
        "# Starting from the first index 0 up until and NOT inlcluding the last element\n",
        "x[0:4]"
      ],
      "execution_count": 78,
      "outputs": [
        {
          "output_type": "execute_result",
          "data": {
            "text/plain": [
              "array([20, 40, 50, 60])"
            ]
          },
          "metadata": {
            "tags": []
          },
          "execution_count": 78
        }
      ]
    },
    {
      "cell_type": "code",
      "metadata": {
        "id": "1nWlP602Cdg3",
        "colab": {
          "base_uri": "https://localhost:8080/"
        },
        "outputId": "39e43e9f-4619-4410-c37a-09c5416551fe"
      },
      "source": [
        "# Broadcasting, altering several values in a numpy array at once\n",
        "x[0:2] = 10\n",
        "x"
      ],
      "execution_count": 79,
      "outputs": [
        {
          "output_type": "execute_result",
          "data": {
            "text/plain": [
              "array([10, 10, 50, 60, 70])"
            ]
          },
          "metadata": {
            "tags": []
          },
          "execution_count": 79
        }
      ]
    },
    {
      "cell_type": "code",
      "metadata": {
        "id": "fVKbwHguCddn",
        "colab": {
          "base_uri": "https://localhost:8080/"
        },
        "outputId": "2efdfec9-2511-4be4-8331-ef73d0b572e4"
      },
      "source": [
        "# Let's define a two dimensional numpy array\n",
        "matrix = np.random.randint(1, 10, (5, 5))\n",
        "matrix"
      ],
      "execution_count": 80,
      "outputs": [
        {
          "output_type": "execute_result",
          "data": {
            "text/plain": [
              "array([[8, 4, 1, 3, 9],\n",
              "       [8, 8, 8, 5, 9],\n",
              "       [3, 3, 4, 4, 7],\n",
              "       [3, 4, 8, 7, 9],\n",
              "       [4, 8, 9, 4, 1]])"
            ]
          },
          "metadata": {
            "tags": []
          },
          "execution_count": 80
        }
      ]
    },
    {
      "cell_type": "code",
      "metadata": {
        "id": "Ea7ukwEzCda-",
        "colab": {
          "base_uri": "https://localhost:8080/"
        },
        "outputId": "248387f2-33f0-4039-cf8d-c629c1003a35"
      },
      "source": [
        "# Get a row from a matrix\n",
        "matrix[0]"
      ],
      "execution_count": 81,
      "outputs": [
        {
          "output_type": "execute_result",
          "data": {
            "text/plain": [
              "array([8, 4, 1, 3, 9])"
            ]
          },
          "metadata": {
            "tags": []
          },
          "execution_count": 81
        }
      ]
    },
    {
      "cell_type": "code",
      "metadata": {
        "colab": {
          "base_uri": "https://localhost:8080/"
        },
        "id": "uve4nuxZnYF-",
        "outputId": "7d2c25ce-6a12-458c-d348-be72e571e7df"
      },
      "source": [
        "matrix[4]"
      ],
      "execution_count": 83,
      "outputs": [
        {
          "output_type": "execute_result",
          "data": {
            "text/plain": [
              "array([4, 8, 9, 4, 1])"
            ]
          },
          "metadata": {
            "tags": []
          },
          "execution_count": 83
        }
      ]
    },
    {
      "cell_type": "code",
      "metadata": {
        "id": "8KJk10J8Ci8k",
        "colab": {
          "base_uri": "https://localhost:8080/"
        },
        "outputId": "989ed9da-81f8-4ff2-ca0a-3b01387c3882"
      },
      "source": [
        "# Get one element\n",
        "matrix[0][0]"
      ],
      "execution_count": 84,
      "outputs": [
        {
          "output_type": "execute_result",
          "data": {
            "text/plain": [
              "8"
            ]
          },
          "metadata": {
            "tags": []
          },
          "execution_count": 84
        }
      ]
    },
    {
      "cell_type": "code",
      "metadata": {
        "id": "lWsIgHYRCi5e",
        "colab": {
          "base_uri": "https://localhost:8080/"
        },
        "outputId": "03903eee-70cc-4344-afd0-0de79947c1df"
      },
      "source": [
        "matrix[4][4]"
      ],
      "execution_count": 85,
      "outputs": [
        {
          "output_type": "execute_result",
          "data": {
            "text/plain": [
              "1"
            ]
          },
          "metadata": {
            "tags": []
          },
          "execution_count": 85
        }
      ]
    },
    {
      "cell_type": "code",
      "metadata": {
        "id": "Gn7-PKS9Ci4c",
        "colab": {
          "base_uri": "https://localhost:8080/"
        },
        "outputId": "e9aac30f-f8d2-4cd9-9d63-087f821c45d5"
      },
      "source": [
        "matrix[2][2]"
      ],
      "execution_count": 86,
      "outputs": [
        {
          "output_type": "execute_result",
          "data": {
            "text/plain": [
              "4"
            ]
          },
          "metadata": {
            "tags": []
          },
          "execution_count": 86
        }
      ]
    },
    {
      "cell_type": "code",
      "metadata": {
        "id": "MGap8pfACi1M",
        "colab": {
          "base_uri": "https://localhost:8080/"
        },
        "outputId": "c6215bb7-082a-47f7-f0c4-13ebabb06089"
      },
      "source": [
        "mini_matrix = matrix[:3]\n",
        "mini_matrix"
      ],
      "execution_count": 89,
      "outputs": [
        {
          "output_type": "execute_result",
          "data": {
            "text/plain": [
              "array([[8, 4, 1, 3, 9],\n",
              "       [8, 8, 8, 5, 9],\n",
              "       [3, 3, 4, 4, 7]])"
            ]
          },
          "metadata": {
            "tags": []
          },
          "execution_count": 89
        }
      ]
    },
    {
      "cell_type": "code",
      "metadata": {
        "id": "ANJFZWTdCdX9",
        "colab": {
          "base_uri": "https://localhost:8080/"
        },
        "outputId": "e9bdc8f3-3358-4965-b48e-98ac8d89d56b"
      },
      "source": [
        "mini_matrix2 = matrix[:, 2:]\n",
        "mini_matrix2"
      ],
      "execution_count": 91,
      "outputs": [
        {
          "output_type": "execute_result",
          "data": {
            "text/plain": [
              "array([[1, 3, 9],\n",
              "       [8, 5, 9],\n",
              "       [4, 4, 7],\n",
              "       [8, 7, 9],\n",
              "       [9, 4, 1]])"
            ]
          },
          "metadata": {
            "tags": []
          },
          "execution_count": 91
        }
      ]
    },
    {
      "cell_type": "code",
      "metadata": {
        "colab": {
          "base_uri": "https://localhost:8080/"
        },
        "id": "Oh9Nxo_Bp4pZ",
        "outputId": "fb0d484c-78e9-421a-bc4d-2e6c3a7a81d5"
      },
      "source": [
        "matrix"
      ],
      "execution_count": 94,
      "outputs": [
        {
          "output_type": "execute_result",
          "data": {
            "text/plain": [
              "array([[8, 4, 1, 3, 9],\n",
              "       [8, 8, 8, 5, 9],\n",
              "       [3, 3, 4, 4, 7],\n",
              "       [3, 4, 8, 7, 9],\n",
              "       [4, 8, 9, 4, 1]])"
            ]
          },
          "metadata": {
            "tags": []
          },
          "execution_count": 94
        }
      ]
    },
    {
      "cell_type": "code",
      "metadata": {
        "colab": {
          "base_uri": "https://localhost:8080/"
        },
        "id": "9p6La9qjpikW",
        "outputId": "9b17adc0-c44a-4fc8-e657-decfe4a4def7"
      },
      "source": [
        "mini_matrix3 = matrix[1:3, 1:3]\n",
        "mini_matrix3"
      ],
      "execution_count": 95,
      "outputs": [
        {
          "output_type": "execute_result",
          "data": {
            "text/plain": [
              "array([[8, 8],\n",
              "       [3, 4]])"
            ]
          },
          "metadata": {
            "tags": []
          },
          "execution_count": 95
        }
      ]
    },
    {
      "cell_type": "markdown",
      "metadata": {
        "id": "zgyFPV5R8dUS"
      },
      "source": [
        "**MINI CHALLENGE #6:**\n",
        "- **In the following matrix, replace the last row with -1**\n",
        "- **Multiply the 2x2 matrix in the upper right corner by 2**\n",
        "\n",
        "\n",
        "\n",
        "```\n",
        "X = [2 30 20 -2 -4]\n",
        "    [3 4  40 -3 -2]\n",
        "    [-3 4 -6 90 10]\n",
        "    [25 45 34 22 12]\n",
        "    [13 24 22 32 37]\n",
        "```\n",
        "\n"
      ]
    },
    {
      "cell_type": "code",
      "metadata": {
        "colab": {
          "base_uri": "https://localhost:8080/"
        },
        "id": "MzpCsvLjswzV",
        "outputId": "f906cdae-94b7-4fa8-c99b-c8012dd2f6a5"
      },
      "source": [
        "#x = np.array([2, 30, 20, -2, -4], [3, 4, 40, -3, -2], [-3, 4, -6, 90, 10], [25, 45, 34, 22, 12], [13, 24, 22, 32, 37])\n",
        "\n",
        "# X = [2 30 20 -2 -4]\n",
        "#     [3 4  40 -3 -2]\n",
        "#     [-3 4 -6 90 10]\n",
        "#     [25 45 34 22 12]\n",
        "#     [13 24 22 32 37]\n",
        "\n",
        "matrix = np.matrix('2 30 20 -2 -4; 3 4  40 -3 -2; -3 4 -6 90 10; 25 45 34 22 12; 13 24 22 32 37')\n",
        "matrix"
      ],
      "execution_count": 118,
      "outputs": [
        {
          "output_type": "execute_result",
          "data": {
            "text/plain": [
              "matrix([[ 2, 30, 20, -2, -4],\n",
              "        [ 3,  4, 40, -3, -2],\n",
              "        [-3,  4, -6, 90, 10],\n",
              "        [25, 45, 34, 22, 12],\n",
              "        [13, 24, 22, 32, 37]])"
            ]
          },
          "metadata": {
            "tags": []
          },
          "execution_count": 118
        }
      ]
    },
    {
      "cell_type": "code",
      "metadata": {
        "colab": {
          "base_uri": "https://localhost:8080/"
        },
        "id": "KYouf2leuuU8",
        "outputId": "0ad785ad-3bb6-4106-8cdd-4bda967ae854"
      },
      "source": [
        "# matrix[4][:5] = -1\n",
        "\n",
        "matrix[4] = -2\n",
        "matrix"
      ],
      "execution_count": 119,
      "outputs": [
        {
          "output_type": "execute_result",
          "data": {
            "text/plain": [
              "matrix([[ 2, 30, 20, -2, -4],\n",
              "        [ 3,  4, 40, -3, -2],\n",
              "        [-3,  4, -6, 90, 10],\n",
              "        [25, 45, 34, 22, 12],\n",
              "        [-2, -2, -2, -2, -2]])"
            ]
          },
          "metadata": {
            "tags": []
          },
          "execution_count": 119
        }
      ]
    },
    {
      "cell_type": "code",
      "metadata": {
        "colab": {
          "base_uri": "https://localhost:8080/"
        },
        "id": "8RpkfguLvmGd",
        "outputId": "46927d94-9a11-4337-e011-cdab90288df0"
      },
      "source": [
        "matrix[:2, 3:5]*2"
      ],
      "execution_count": 116,
      "outputs": [
        {
          "output_type": "execute_result",
          "data": {
            "text/plain": [
              "matrix([[-4, -8],\n",
              "        [-6, -4]])"
            ]
          },
          "metadata": {
            "tags": []
          },
          "execution_count": 116
        }
      ]
    },
    {
      "cell_type": "code",
      "metadata": {
        "colab": {
          "base_uri": "https://localhost:8080/"
        },
        "id": "ry-TLn2ywvux",
        "outputId": "8bbb19c9-e015-4bd5-bab9-8ff3cc6bb87a"
      },
      "source": [
        "matrix[:2, 3:] = matrix[:2, 3:]*2\n",
        "matrix"
      ],
      "execution_count": 120,
      "outputs": [
        {
          "output_type": "execute_result",
          "data": {
            "text/plain": [
              "matrix([[ 2, 30, 20, -4, -8],\n",
              "        [ 3,  4, 40, -6, -4],\n",
              "        [-3,  4, -6, 90, 10],\n",
              "        [25, 45, 34, 22, 12],\n",
              "        [-2, -2, -2, -2, -2]])"
            ]
          },
          "metadata": {
            "tags": []
          },
          "execution_count": 120
        }
      ]
    },
    {
      "cell_type": "markdown",
      "metadata": {
        "id": "juuMOEq7Col_"
      },
      "source": [
        "# 6. ELEMENTS SELECTION (CONDITIONAL)"
      ]
    },
    {
      "cell_type": "code",
      "metadata": {
        "id": "UujCvuhMCt4K",
        "colab": {
          "base_uri": "https://localhost:8080/"
        },
        "outputId": "e1b924ff-f112-4919-e513-e54dd93464c2"
      },
      "source": [
        "matrix = np.random.randint(1, 10, (5, 5))\n",
        "matrix"
      ],
      "execution_count": 121,
      "outputs": [
        {
          "output_type": "execute_result",
          "data": {
            "text/plain": [
              "array([[2, 2, 9, 3, 3],\n",
              "       [3, 2, 5, 4, 7],\n",
              "       [6, 2, 7, 7, 5],\n",
              "       [1, 6, 5, 7, 1],\n",
              "       [7, 1, 1, 8, 2]])"
            ]
          },
          "metadata": {
            "tags": []
          },
          "execution_count": 121
        }
      ]
    },
    {
      "cell_type": "code",
      "metadata": {
        "id": "JBgJ8ugyCvht",
        "colab": {
          "base_uri": "https://localhost:8080/"
        },
        "outputId": "67237b0c-d1b9-4203-ebe0-47f871b4f0fd"
      },
      "source": [
        "new_matrix = matrix[ matrix > 3 ]\n",
        "new_matrix"
      ],
      "execution_count": 122,
      "outputs": [
        {
          "output_type": "execute_result",
          "data": {
            "text/plain": [
              "array([9, 5, 4, 7, 6, 7, 7, 5, 6, 5, 7, 7, 8])"
            ]
          },
          "metadata": {
            "tags": []
          },
          "execution_count": 122
        }
      ]
    },
    {
      "cell_type": "code",
      "metadata": {
        "id": "TIQ-A7IBCvgl",
        "colab": {
          "base_uri": "https://localhost:8080/"
        },
        "outputId": "9ddf1237-ea3d-4715-a9aa-4643e835ff79"
      },
      "source": [
        "new_matrix = matrix[ matrix % 2 == 0 ]\n",
        "new_matrix"
      ],
      "execution_count": 123,
      "outputs": [
        {
          "output_type": "execute_result",
          "data": {
            "text/plain": [
              "array([2, 2, 2, 4, 6, 2, 6, 8, 2])"
            ]
          },
          "metadata": {
            "tags": []
          },
          "execution_count": 123
        }
      ]
    },
    {
      "cell_type": "code",
      "metadata": {
        "colab": {
          "base_uri": "https://localhost:8080/"
        },
        "id": "dCDGU0qP-MqR",
        "outputId": "307d724e-d233-47e3-ac30-35a313e518ce"
      },
      "source": [
        "new_matrix = matrix[ matrix % 2 == 1 ]\n",
        "new_matrix"
      ],
      "execution_count": 124,
      "outputs": [
        {
          "output_type": "execute_result",
          "data": {
            "text/plain": [
              "array([9, 3, 3, 3, 5, 7, 7, 7, 5, 1, 5, 7, 1, 7, 1, 1])"
            ]
          },
          "metadata": {
            "tags": []
          },
          "execution_count": 124
        }
      ]
    },
    {
      "cell_type": "markdown",
      "metadata": {
        "id": "39QiMh-W8ogs"
      },
      "source": [
        "**MINI CHALLENGE #7:**\n",
        "- **In the following matrix, replace negative elements by 0 and replace odd elements with 25**\n",
        "\n",
        "\n",
        "```\n",
        "X = [2 30 20 -2 -4]\n",
        "    [3 4  40 -3 -2]\n",
        "    [-3 4 -6 90 10]\n",
        "    [25 45 34 22 12]\n",
        "    [13 24 22 32 37]\n",
        "```\n"
      ]
    },
    {
      "cell_type": "code",
      "metadata": {
        "id": "AbN-vySf9gen",
        "colab": {
          "base_uri": "https://localhost:8080/"
        },
        "outputId": "49ecc838-53d7-48c1-ce7c-62d9f6cd931c"
      },
      "source": [
        " x = np.matrix('2 30 20 -2 -4; 3 4  40 -3 -2; -3 4 -6 90 10; 25 45 34 22 12; 13 24 22 32 37')\n",
        " x"
      ],
      "execution_count": 133,
      "outputs": [
        {
          "output_type": "execute_result",
          "data": {
            "text/plain": [
              "matrix([[ 2, 30, 20, -2, -4],\n",
              "        [ 3,  4, 40, -3, -2],\n",
              "        [-3,  4, -6, 90, 10],\n",
              "        [25, 45, 34, 22, 12],\n",
              "        [13, 24, 22, 32, 37]])"
            ]
          },
          "metadata": {
            "tags": []
          },
          "execution_count": 133
        }
      ]
    },
    {
      "cell_type": "code",
      "metadata": {
        "colab": {
          "base_uri": "https://localhost:8080/"
        },
        "id": "7prYUwB9-6gg",
        "outputId": "b68a373b-6cee-470f-95ed-cacc2269e985"
      },
      "source": [
        "x[ x < 0 ] = 0\n",
        "x"
      ],
      "execution_count": 134,
      "outputs": [
        {
          "output_type": "execute_result",
          "data": {
            "text/plain": [
              "matrix([[ 2, 30, 20,  0,  0],\n",
              "        [ 3,  4, 40,  0,  0],\n",
              "        [ 0,  4,  0, 90, 10],\n",
              "        [25, 45, 34, 22, 12],\n",
              "        [13, 24, 22, 32, 37]])"
            ]
          },
          "metadata": {
            "tags": []
          },
          "execution_count": 134
        }
      ]
    },
    {
      "cell_type": "code",
      "metadata": {
        "colab": {
          "base_uri": "https://localhost:8080/"
        },
        "id": "hsI1NWx6_dPr",
        "outputId": "ab8215c3-cb5d-4dbd-9fa1-7545d236bddd"
      },
      "source": [
        "x[ x % 2 == 1 ] = 25\n",
        "x"
      ],
      "execution_count": 135,
      "outputs": [
        {
          "output_type": "execute_result",
          "data": {
            "text/plain": [
              "matrix([[ 2, 30, 20,  0,  0],\n",
              "        [25,  4, 40,  0,  0],\n",
              "        [ 0,  4,  0, 90, 10],\n",
              "        [25, 25, 34, 22, 12],\n",
              "        [25, 24, 22, 32, 25]])"
            ]
          },
          "metadata": {
            "tags": []
          },
          "execution_count": 135
        }
      ]
    },
    {
      "cell_type": "markdown",
      "metadata": {
        "id": "dakv7iPFgw7Y"
      },
      "source": [
        "# EXCELLENT JOB!"
      ]
    },
    {
      "cell_type": "markdown",
      "metadata": {
        "id": "pNWQrMz6KnIF"
      },
      "source": [
        "# MINI CHALLENGES SOLUTIONS"
      ]
    },
    {
      "cell_type": "markdown",
      "metadata": {
        "id": "6AMqSvtAKj6o"
      },
      "source": [
        "**MINI CHALLENGE #1 SOLUTION:** \n",
        "- **Write a code that creates the following 2x4 numpy array**\n",
        "\n",
        "```\n",
        "[[4 6 8 7] \n",
        "[20 5 6 9]]\n",
        "```"
      ]
    },
    {
      "cell_type": "code",
      "metadata": {
        "id": "ivvFzDy-KlQP"
      },
      "source": [
        "x = np.array([[[4, 6, 8, 7] , [20, 5, 6, 9]]])\n",
        "x"
      ],
      "execution_count": null,
      "outputs": []
    },
    {
      "cell_type": "markdown",
      "metadata": {
        "id": "2GskzNkOMFu0"
      },
      "source": [
        "**MINI CHALLENGE #2 SOLUTION:**\n",
        "- **Write a code that takes in a number x from the user and creates a 1x20 array with random numbers ranging from 0 to x**"
      ]
    },
    {
      "cell_type": "code",
      "metadata": {
        "id": "0vnDfvwFMFu3"
      },
      "source": [
        "x = int(input(\"Please enter a positive integer value: \"))\n",
        "x = np.random.randint(1, x, 20)\n",
        "x"
      ],
      "execution_count": null,
      "outputs": []
    },
    {
      "cell_type": "markdown",
      "metadata": {
        "id": "LOVruiHdMRMd"
      },
      "source": [
        "**MINI CHALLENGE #3 SOLUTION:**\n",
        "- **Write a code that creates a 4x5 array inwhich numbers ranging between 300 and 500 such that the difference between elements is 10**"
      ]
    },
    {
      "cell_type": "code",
      "metadata": {
        "id": "WtSncbsHMRMg"
      },
      "source": [
        "x = np.arange(300, 500, 10)\n",
        "x.shape"
      ],
      "execution_count": null,
      "outputs": []
    },
    {
      "cell_type": "code",
      "metadata": {
        "id": "2_8vFVF7MRMp"
      },
      "source": [
        "x = x.reshape(4, 5)\n",
        "print(x)"
      ],
      "execution_count": null,
      "outputs": []
    },
    {
      "cell_type": "markdown",
      "metadata": {
        "id": "NSuiOFRx1pSY"
      },
      "source": [
        "**MINI CHALLENGE #4 SOLUTION:**\n",
        "- **Write a code that creates a 20x20 numpy array of random values that ranges from -1000 to 1000 and obtain the maximum, minimum, and mean values** "
      ]
    },
    {
      "cell_type": "code",
      "metadata": {
        "id": "445Vi21GMYS7"
      },
      "source": [
        "x = np.random.randint(-1000, 1000, (20, 20))\n",
        "print(x)\n",
        "print('The maximum value is: {} and the minimum value is:{}'.format(x.min(), x.max()))"
      ],
      "execution_count": null,
      "outputs": []
    },
    {
      "cell_type": "code",
      "metadata": {
        "id": "tIVL0uEr4xsC"
      },
      "source": [
        ""
      ],
      "execution_count": null,
      "outputs": []
    },
    {
      "cell_type": "markdown",
      "metadata": {
        "id": "s1p4WaNB4yFf"
      },
      "source": [
        "**MINI CHALLENGE #5 SOLUTION:**\n",
        "- **Given the X and Y values below, obtain the distance between them**\n",
        "\n",
        "\n",
        "```\n",
        "X = [3, 20, 30]\n",
        "Y = [4, 6, 7]\n",
        "```\n",
        "\n",
        "\n"
      ]
    },
    {
      "cell_type": "code",
      "metadata": {
        "id": "_GJmf2Pl4yFi"
      },
      "source": [
        "X = np.array([3, 20, 30])\n",
        "Y = np.array([4, 6, 7])\n",
        "Z = np.sqrt(X**2 + Y**2)\n",
        "Z"
      ],
      "execution_count": null,
      "outputs": []
    },
    {
      "cell_type": "markdown",
      "metadata": {
        "id": "EZ9i2CLm6Iuf"
      },
      "source": [
        "**MINI CHALLENGE #6 SOLUTION:**\n",
        "- **In the following matrix, replace the last row with -1**\n",
        "- **Multiply the 2x2 matrix in the upper right corner by 2**\n",
        "\n",
        "\n",
        "\n",
        "```\n",
        "X = [2 30 20 -2 -4]\n",
        "    [3 4  40 -3 -2]\n",
        "    [-3 4 -6 90 10]\n",
        "    [25 45 34 22 12]\n",
        "    [13 24 22 32 37]\n",
        "```\n",
        "\n",
        "\n"
      ]
    },
    {
      "cell_type": "code",
      "metadata": {
        "id": "qB7S_wIx6Hsm"
      },
      "source": [
        "X = np.array([[2, 30, 20, -2, -4],\n",
        "    [3, 4,  40, -3, -2],\n",
        "    [-3, 4, -6, 90, 10],\n",
        "    [25, 45, 34, 22, 12],\n",
        "    [13, 24, 22, 32, 37]])\n"
      ],
      "execution_count": null,
      "outputs": []
    },
    {
      "cell_type": "code",
      "metadata": {
        "id": "y98hmGRe7Qtl"
      },
      "source": [
        "X[4] = 0\n",
        "X"
      ],
      "execution_count": null,
      "outputs": []
    },
    {
      "cell_type": "code",
      "metadata": {
        "id": "6pLZ5lF87UFs"
      },
      "source": [
        "X[:2, 3:]  = X[:2, 3:] * 2"
      ],
      "execution_count": null,
      "outputs": []
    },
    {
      "cell_type": "code",
      "metadata": {
        "id": "WsqjANlB8Kva"
      },
      "source": [
        "X"
      ],
      "execution_count": null,
      "outputs": []
    },
    {
      "cell_type": "markdown",
      "metadata": {
        "id": "2oikl6JS9YUs"
      },
      "source": [
        "**MINI CHALLENGE #7 SOLUTION:**\n",
        "- **In the following matrix, replace negative elements by 0 and replace odd elements with 25**\n",
        "\n",
        "\n",
        "```\n",
        "X = [2 30 20 -2 -4]\n",
        "    [3 4  40 -3 -2]\n",
        "    [-3 4 -6 90 10]\n",
        "    [25 45 34 22 12]\n",
        "    [13 24 22 32 37]\n",
        "```\n"
      ]
    },
    {
      "cell_type": "code",
      "metadata": {
        "id": "h105KzGr9YUu"
      },
      "source": [
        "X = np.array([[2, 30, 20, -2, -4],\n",
        "    [3, 4,  40, -3, -2],\n",
        "    [-3, 4, -6, 90, 10],\n",
        "    [25, 45, 34, 22, 12],\n",
        "    [13, 24, 22, 32, 37]])\n",
        "\n",
        "X[X%2==1] = 25\n",
        "X[X<0] = 0\n",
        "X"
      ],
      "execution_count": null,
      "outputs": []
    }
  ]
}