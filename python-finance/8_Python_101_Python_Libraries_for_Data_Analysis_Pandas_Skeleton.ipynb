{
  "nbformat": 4,
  "nbformat_minor": 0,
  "metadata": {
    "colab": {
      "name": "8. Python 101 - Python Libraries for Data Analysis - Pandas Skeleton.ipynb",
      "provenance": [],
      "collapsed_sections": []
    },
    "kernelspec": {
      "name": "python3",
      "display_name": "Python 3"
    }
  },
  "cells": [
    {
      "cell_type": "markdown",
      "metadata": {
        "id": "1ivPDcc7p8lD"
      },
      "source": [
        "# 1. PANDAS BASICS"
      ]
    },
    {
      "cell_type": "code",
      "metadata": {
        "id": "4YdCraz8p_XF"
      },
      "source": [
        "# Pandas is a data manipulation and analysis tool that is built on Numpy.\n",
        "# Pandas uses a data structure known as DataFrame (think of it as Microsoft excel in Python). \n",
        "# DataFrames empower programmers to store and manipulate data in a tabular fashion (rows and columns).\n",
        "# Series Vs. DataFrame? Series is considered a single column of a DataFrame."
      ],
      "execution_count": null,
      "outputs": []
    },
    {
      "cell_type": "code",
      "metadata": {
        "id": "6H2808pkqKIR"
      },
      "source": [
        "import pandas as pd\n",
        "import numpy as np"
      ],
      "execution_count": 2,
      "outputs": []
    },
    {
      "cell_type": "code",
      "metadata": {
        "id": "jHc9-dmUqX48",
        "outputId": "86808e32-2b12-4bd0-d973-2718657a4123",
        "colab": {
          "base_uri": "https://localhost:8080/"
        }
      },
      "source": [
        "# Let's define two lists as shown below:\n",
        "\n",
        "my_list = ['AAPL', 'AMZN', 'T']\n",
        "my_list"
      ],
      "execution_count": 2,
      "outputs": [
        {
          "output_type": "execute_result",
          "data": {
            "text/plain": [
              "['AAPL', 'AMZN', 'T']"
            ]
          },
          "metadata": {
            "tags": []
          },
          "execution_count": 2
        }
      ]
    },
    {
      "cell_type": "code",
      "metadata": {
        "id": "MU5GA6-EsjJt",
        "outputId": "d55d81e2-9c79-45fe-e5a1-de349ead1524",
        "colab": {
          "base_uri": "https://localhost:8080/"
        }
      },
      "source": [
        "label = ['stock#1', 'stock#2', 'stock#3']\n",
        "label"
      ],
      "execution_count": 3,
      "outputs": [
        {
          "output_type": "execute_result",
          "data": {
            "text/plain": [
              "['stock#1', 'stock#2', 'stock#3']"
            ]
          },
          "metadata": {
            "tags": []
          },
          "execution_count": 3
        }
      ]
    },
    {
      "cell_type": "code",
      "metadata": {
        "id": "flWWE-6YqX7Z",
        "outputId": "3215c6b7-856a-43e2-c388-a43e3e2aa2e8",
        "colab": {
          "base_uri": "https://localhost:8080/"
        }
      },
      "source": [
        "type(label)"
      ],
      "execution_count": 4,
      "outputs": [
        {
          "output_type": "execute_result",
          "data": {
            "text/plain": [
              "list"
            ]
          },
          "metadata": {
            "tags": []
          },
          "execution_count": 4
        }
      ]
    },
    {
      "cell_type": "code",
      "metadata": {
        "id": "0mf-BKxQsmKO",
        "outputId": "635bf913-effb-4bee-e46f-224bc6d54f03",
        "colab": {
          "base_uri": "https://localhost:8080/"
        }
      },
      "source": [
        "type(my_list)"
      ],
      "execution_count": 5,
      "outputs": [
        {
          "output_type": "execute_result",
          "data": {
            "text/plain": [
              "list"
            ]
          },
          "metadata": {
            "tags": []
          },
          "execution_count": 5
        }
      ]
    },
    {
      "cell_type": "code",
      "metadata": {
        "id": "U4Fq06XwqX9v"
      },
      "source": [
        "# Let's create a one dimensional Pandas \"series\" \n",
        "# Note that series is formed of data and associated labels \n",
        "x_series = pd.Series(data=my_list, index=label)"
      ],
      "execution_count": 6,
      "outputs": []
    },
    {
      "cell_type": "code",
      "metadata": {
        "id": "YhPzprisqX_8",
        "outputId": "1385dee3-b3bb-4998-d6d0-827895d92149",
        "colab": {
          "base_uri": "https://localhost:8080/"
        }
      },
      "source": [
        "# Let's view the series\n",
        "x_series"
      ],
      "execution_count": 7,
      "outputs": [
        {
          "output_type": "execute_result",
          "data": {
            "text/plain": [
              "stock#1    AAPL\n",
              "stock#2    AMZN\n",
              "stock#3       T\n",
              "dtype: object"
            ]
          },
          "metadata": {
            "tags": []
          },
          "execution_count": 7
        }
      ]
    },
    {
      "cell_type": "code",
      "metadata": {
        "id": "4LPwMO8fsvi1",
        "outputId": "9563827c-fe49-4030-dd42-0e5b08462fe6",
        "colab": {
          "base_uri": "https://localhost:8080/"
        }
      },
      "source": [
        "# Let's obtain the datatype\n",
        "type(x_series)"
      ],
      "execution_count": 8,
      "outputs": [
        {
          "output_type": "execute_result",
          "data": {
            "text/plain": [
              "pandas.core.series.Series"
            ]
          },
          "metadata": {
            "tags": []
          },
          "execution_count": 8
        }
      ]
    },
    {
      "cell_type": "code",
      "metadata": {
        "id": "YnV7pFX0q3_C",
        "outputId": "34d67494-fbbb-477c-b7a1-fe4eef1e3353",
        "colab": {
          "base_uri": "https://localhost:8080/",
          "height": 171
        }
      },
      "source": [
        "# Let's define a two-dimensional Pandas DataFrame\n",
        "# Note that you can create a pandas dataframe from a python dictionary\n",
        "bank_client_df = pd.DataFrame({'Bank Client ID': [111, 222, 333, 444],\n",
        "                               'Bank Client Name': ['Chanel', 'Steve', 'Mitch', 'Ryan'],\n",
        "                               'Net Worth [$]': [3500, 29000, 10000, 2000],\n",
        "                               'Year with Bank': [3, 4, 9, 5]})\n",
        "bank_client_df"
      ],
      "execution_count": 9,
      "outputs": [
        {
          "output_type": "execute_result",
          "data": {
            "text/html": [
              "<div>\n",
              "<style scoped>\n",
              "    .dataframe tbody tr th:only-of-type {\n",
              "        vertical-align: middle;\n",
              "    }\n",
              "\n",
              "    .dataframe tbody tr th {\n",
              "        vertical-align: top;\n",
              "    }\n",
              "\n",
              "    .dataframe thead th {\n",
              "        text-align: right;\n",
              "    }\n",
              "</style>\n",
              "<table border=\"1\" class=\"dataframe\">\n",
              "  <thead>\n",
              "    <tr style=\"text-align: right;\">\n",
              "      <th></th>\n",
              "      <th>Bank Client ID</th>\n",
              "      <th>Bank Client Name</th>\n",
              "      <th>Net Worth [$]</th>\n",
              "      <th>Year with Bank</th>\n",
              "    </tr>\n",
              "  </thead>\n",
              "  <tbody>\n",
              "    <tr>\n",
              "      <th>0</th>\n",
              "      <td>111</td>\n",
              "      <td>Chanel</td>\n",
              "      <td>3500</td>\n",
              "      <td>3</td>\n",
              "    </tr>\n",
              "    <tr>\n",
              "      <th>1</th>\n",
              "      <td>222</td>\n",
              "      <td>Steve</td>\n",
              "      <td>29000</td>\n",
              "      <td>4</td>\n",
              "    </tr>\n",
              "    <tr>\n",
              "      <th>2</th>\n",
              "      <td>333</td>\n",
              "      <td>Mitch</td>\n",
              "      <td>10000</td>\n",
              "      <td>9</td>\n",
              "    </tr>\n",
              "    <tr>\n",
              "      <th>3</th>\n",
              "      <td>444</td>\n",
              "      <td>Ryan</td>\n",
              "      <td>2000</td>\n",
              "      <td>5</td>\n",
              "    </tr>\n",
              "  </tbody>\n",
              "</table>\n",
              "</div>"
            ],
            "text/plain": [
              "   Bank Client ID Bank Client Name  Net Worth [$]  Year with Bank\n",
              "0             111           Chanel           3500               3\n",
              "1             222            Steve          29000               4\n",
              "2             333            Mitch          10000               9\n",
              "3             444             Ryan           2000               5"
            ]
          },
          "metadata": {
            "tags": []
          },
          "execution_count": 9
        }
      ]
    },
    {
      "cell_type": "code",
      "metadata": {
        "id": "9LXSKDSTq4Fb",
        "outputId": "1fd26ded-24c2-49b6-b96a-0be174cddcbc",
        "colab": {
          "base_uri": "https://localhost:8080/"
        }
      },
      "source": [
        "# Let's obtain the data type \n",
        "type(bank_client_df)"
      ],
      "execution_count": 10,
      "outputs": [
        {
          "output_type": "execute_result",
          "data": {
            "text/plain": [
              "pandas.core.frame.DataFrame"
            ]
          },
          "metadata": {
            "tags": []
          },
          "execution_count": 10
        }
      ]
    },
    {
      "cell_type": "code",
      "metadata": {
        "id": "h93nb1trtwhu",
        "outputId": "e5926d22-27dc-4b58-adfe-4698f7563229",
        "colab": {
          "base_uri": "https://localhost:8080/",
          "height": 110
        }
      },
      "source": [
        "# you can only view the first couple of rows using .head()\n",
        "bank_client_df.head(2)"
      ],
      "execution_count": 11,
      "outputs": [
        {
          "output_type": "execute_result",
          "data": {
            "text/html": [
              "<div>\n",
              "<style scoped>\n",
              "    .dataframe tbody tr th:only-of-type {\n",
              "        vertical-align: middle;\n",
              "    }\n",
              "\n",
              "    .dataframe tbody tr th {\n",
              "        vertical-align: top;\n",
              "    }\n",
              "\n",
              "    .dataframe thead th {\n",
              "        text-align: right;\n",
              "    }\n",
              "</style>\n",
              "<table border=\"1\" class=\"dataframe\">\n",
              "  <thead>\n",
              "    <tr style=\"text-align: right;\">\n",
              "      <th></th>\n",
              "      <th>Bank Client ID</th>\n",
              "      <th>Bank Client Name</th>\n",
              "      <th>Net Worth [$]</th>\n",
              "      <th>Year with Bank</th>\n",
              "    </tr>\n",
              "  </thead>\n",
              "  <tbody>\n",
              "    <tr>\n",
              "      <th>0</th>\n",
              "      <td>111</td>\n",
              "      <td>Chanel</td>\n",
              "      <td>3500</td>\n",
              "      <td>3</td>\n",
              "    </tr>\n",
              "    <tr>\n",
              "      <th>1</th>\n",
              "      <td>222</td>\n",
              "      <td>Steve</td>\n",
              "      <td>29000</td>\n",
              "      <td>4</td>\n",
              "    </tr>\n",
              "  </tbody>\n",
              "</table>\n",
              "</div>"
            ],
            "text/plain": [
              "   Bank Client ID Bank Client Name  Net Worth [$]  Year with Bank\n",
              "0             111           Chanel           3500               3\n",
              "1             222            Steve          29000               4"
            ]
          },
          "metadata": {
            "tags": []
          },
          "execution_count": 11
        }
      ]
    },
    {
      "cell_type": "code",
      "metadata": {
        "id": "7kkAAG0Ft2Q1",
        "outputId": "d8ef945c-3177-420b-fe5c-2696a7f27ef2",
        "colab": {
          "base_uri": "https://localhost:8080/",
          "height": 110
        }
      },
      "source": [
        "# you can only view the last couple of rows using .tail()\n",
        "bank_client_df.tail(2)"
      ],
      "execution_count": 12,
      "outputs": [
        {
          "output_type": "execute_result",
          "data": {
            "text/html": [
              "<div>\n",
              "<style scoped>\n",
              "    .dataframe tbody tr th:only-of-type {\n",
              "        vertical-align: middle;\n",
              "    }\n",
              "\n",
              "    .dataframe tbody tr th {\n",
              "        vertical-align: top;\n",
              "    }\n",
              "\n",
              "    .dataframe thead th {\n",
              "        text-align: right;\n",
              "    }\n",
              "</style>\n",
              "<table border=\"1\" class=\"dataframe\">\n",
              "  <thead>\n",
              "    <tr style=\"text-align: right;\">\n",
              "      <th></th>\n",
              "      <th>Bank Client ID</th>\n",
              "      <th>Bank Client Name</th>\n",
              "      <th>Net Worth [$]</th>\n",
              "      <th>Year with Bank</th>\n",
              "    </tr>\n",
              "  </thead>\n",
              "  <tbody>\n",
              "    <tr>\n",
              "      <th>2</th>\n",
              "      <td>333</td>\n",
              "      <td>Mitch</td>\n",
              "      <td>10000</td>\n",
              "      <td>9</td>\n",
              "    </tr>\n",
              "    <tr>\n",
              "      <th>3</th>\n",
              "      <td>444</td>\n",
              "      <td>Ryan</td>\n",
              "      <td>2000</td>\n",
              "      <td>5</td>\n",
              "    </tr>\n",
              "  </tbody>\n",
              "</table>\n",
              "</div>"
            ],
            "text/plain": [
              "   Bank Client ID Bank Client Name  Net Worth [$]  Year with Bank\n",
              "2             333            Mitch          10000               9\n",
              "3             444             Ryan           2000               5"
            ]
          },
          "metadata": {
            "tags": []
          },
          "execution_count": 12
        }
      ]
    },
    {
      "cell_type": "markdown",
      "metadata": {
        "id": "Ro-OAYbsy_EA"
      },
      "source": [
        "**MINI CHALLENGE #1:**\n",
        "- **A porfolio contains a collection of securities such as stocks, bonds and ETFs. Define a dataframe named 'portfolio_df' that holds 3 different stock ticker symbols, number of shares, and price per share (feel free to choose any stocks)**\n",
        "- **Calculate the total value of the porfolio including all stocks**"
      ]
    },
    {
      "cell_type": "code",
      "metadata": {
        "id": "zgAFS4N-1cDg",
        "outputId": "cc78ae58-75ef-4224-bc63-3929a30f25e9",
        "colab": {
          "base_uri": "https://localhost:8080/",
          "height": 141
        }
      },
      "source": [
        "portfolio_df = pd.DataFrame({'Stock Ticker': ['AAPL', 'TSLA', 'INTC'],\n",
        "                             'Number of shares': [1000, 2000, 3000],\n",
        "                             'Price per share': [126.65, 695.00, 47.46]})\n",
        "portfolio_df"
      ],
      "execution_count": 13,
      "outputs": [
        {
          "output_type": "execute_result",
          "data": {
            "text/html": [
              "<div>\n",
              "<style scoped>\n",
              "    .dataframe tbody tr th:only-of-type {\n",
              "        vertical-align: middle;\n",
              "    }\n",
              "\n",
              "    .dataframe tbody tr th {\n",
              "        vertical-align: top;\n",
              "    }\n",
              "\n",
              "    .dataframe thead th {\n",
              "        text-align: right;\n",
              "    }\n",
              "</style>\n",
              "<table border=\"1\" class=\"dataframe\">\n",
              "  <thead>\n",
              "    <tr style=\"text-align: right;\">\n",
              "      <th></th>\n",
              "      <th>Stock Ticker</th>\n",
              "      <th>Number of shares</th>\n",
              "      <th>Price per share</th>\n",
              "    </tr>\n",
              "  </thead>\n",
              "  <tbody>\n",
              "    <tr>\n",
              "      <th>0</th>\n",
              "      <td>AAPL</td>\n",
              "      <td>1000</td>\n",
              "      <td>126.65</td>\n",
              "    </tr>\n",
              "    <tr>\n",
              "      <th>1</th>\n",
              "      <td>TSLA</td>\n",
              "      <td>2000</td>\n",
              "      <td>695.00</td>\n",
              "    </tr>\n",
              "    <tr>\n",
              "      <th>2</th>\n",
              "      <td>INTC</td>\n",
              "      <td>3000</td>\n",
              "      <td>47.46</td>\n",
              "    </tr>\n",
              "  </tbody>\n",
              "</table>\n",
              "</div>"
            ],
            "text/plain": [
              "  Stock Ticker  Number of shares  Price per share\n",
              "0         AAPL              1000           126.65\n",
              "1         TSLA              2000           695.00\n",
              "2         INTC              3000            47.46"
            ]
          },
          "metadata": {
            "tags": []
          },
          "execution_count": 13
        }
      ]
    },
    {
      "cell_type": "code",
      "metadata": {
        "id": "idvE_4vAH1lq"
      },
      "source": [
        "portfolio_df['Total value per ticker'] = portfolio_df['Number of shares'] * portfolio_df['Price per share']"
      ],
      "execution_count": 14,
      "outputs": []
    },
    {
      "cell_type": "code",
      "metadata": {
        "id": "SjMm4vm6ioKz",
        "outputId": "142299ef-7693-4633-adc0-0dbe8b3032cc",
        "colab": {
          "base_uri": "https://localhost:8080/",
          "height": 141
        }
      },
      "source": [
        "portfolio_df"
      ],
      "execution_count": 15,
      "outputs": [
        {
          "output_type": "execute_result",
          "data": {
            "text/html": [
              "<div>\n",
              "<style scoped>\n",
              "    .dataframe tbody tr th:only-of-type {\n",
              "        vertical-align: middle;\n",
              "    }\n",
              "\n",
              "    .dataframe tbody tr th {\n",
              "        vertical-align: top;\n",
              "    }\n",
              "\n",
              "    .dataframe thead th {\n",
              "        text-align: right;\n",
              "    }\n",
              "</style>\n",
              "<table border=\"1\" class=\"dataframe\">\n",
              "  <thead>\n",
              "    <tr style=\"text-align: right;\">\n",
              "      <th></th>\n",
              "      <th>Stock Ticker</th>\n",
              "      <th>Number of shares</th>\n",
              "      <th>Price per share</th>\n",
              "      <th>Total value per ticker</th>\n",
              "    </tr>\n",
              "  </thead>\n",
              "  <tbody>\n",
              "    <tr>\n",
              "      <th>0</th>\n",
              "      <td>AAPL</td>\n",
              "      <td>1000</td>\n",
              "      <td>126.65</td>\n",
              "      <td>126650.0</td>\n",
              "    </tr>\n",
              "    <tr>\n",
              "      <th>1</th>\n",
              "      <td>TSLA</td>\n",
              "      <td>2000</td>\n",
              "      <td>695.00</td>\n",
              "      <td>1390000.0</td>\n",
              "    </tr>\n",
              "    <tr>\n",
              "      <th>2</th>\n",
              "      <td>INTC</td>\n",
              "      <td>3000</td>\n",
              "      <td>47.46</td>\n",
              "      <td>142380.0</td>\n",
              "    </tr>\n",
              "  </tbody>\n",
              "</table>\n",
              "</div>"
            ],
            "text/plain": [
              "  Stock Ticker  Number of shares  Price per share  Total value per ticker\n",
              "0         AAPL              1000           126.65                126650.0\n",
              "1         TSLA              2000           695.00               1390000.0\n",
              "2         INTC              3000            47.46                142380.0"
            ]
          },
          "metadata": {
            "tags": []
          },
          "execution_count": 15
        }
      ]
    },
    {
      "cell_type": "code",
      "metadata": {
        "id": "McfQn1dIi0fd"
      },
      "source": [
        "portfolio_df['All Stocks'] = portfolio_df['Total value per ticker'].sum()"
      ],
      "execution_count": 17,
      "outputs": []
    },
    {
      "cell_type": "code",
      "metadata": {
        "id": "oxTUsGcUkv3M",
        "outputId": "736a2382-8816-46fc-c912-8f5f1ade886c",
        "colab": {
          "base_uri": "https://localhost:8080/",
          "height": 141
        }
      },
      "source": [
        "portfolio_df"
      ],
      "execution_count": 18,
      "outputs": [
        {
          "output_type": "execute_result",
          "data": {
            "text/html": [
              "<div>\n",
              "<style scoped>\n",
              "    .dataframe tbody tr th:only-of-type {\n",
              "        vertical-align: middle;\n",
              "    }\n",
              "\n",
              "    .dataframe tbody tr th {\n",
              "        vertical-align: top;\n",
              "    }\n",
              "\n",
              "    .dataframe thead th {\n",
              "        text-align: right;\n",
              "    }\n",
              "</style>\n",
              "<table border=\"1\" class=\"dataframe\">\n",
              "  <thead>\n",
              "    <tr style=\"text-align: right;\">\n",
              "      <th></th>\n",
              "      <th>Stock Ticker</th>\n",
              "      <th>Number of shares</th>\n",
              "      <th>Price per share</th>\n",
              "      <th>Total value per ticker</th>\n",
              "      <th>All Stocks</th>\n",
              "    </tr>\n",
              "  </thead>\n",
              "  <tbody>\n",
              "    <tr>\n",
              "      <th>0</th>\n",
              "      <td>AAPL</td>\n",
              "      <td>1000</td>\n",
              "      <td>126.65</td>\n",
              "      <td>126650.0</td>\n",
              "      <td>1659030.0</td>\n",
              "    </tr>\n",
              "    <tr>\n",
              "      <th>1</th>\n",
              "      <td>TSLA</td>\n",
              "      <td>2000</td>\n",
              "      <td>695.00</td>\n",
              "      <td>1390000.0</td>\n",
              "      <td>1659030.0</td>\n",
              "    </tr>\n",
              "    <tr>\n",
              "      <th>2</th>\n",
              "      <td>INTC</td>\n",
              "      <td>3000</td>\n",
              "      <td>47.46</td>\n",
              "      <td>142380.0</td>\n",
              "      <td>1659030.0</td>\n",
              "    </tr>\n",
              "  </tbody>\n",
              "</table>\n",
              "</div>"
            ],
            "text/plain": [
              "  Stock Ticker  Number of shares  ...  Total value per ticker  All Stocks\n",
              "0         AAPL              1000  ...                126650.0   1659030.0\n",
              "1         TSLA              2000  ...               1390000.0   1659030.0\n",
              "2         INTC              3000  ...                142380.0   1659030.0\n",
              "\n",
              "[3 rows x 5 columns]"
            ]
          },
          "metadata": {
            "tags": []
          },
          "execution_count": 18
        }
      ]
    },
    {
      "cell_type": "markdown",
      "metadata": {
        "id": "d06IyHT9uffC"
      },
      "source": [
        "# 2. PANDAS WITH CSV AND HTML DATA"
      ]
    },
    {
      "cell_type": "code",
      "metadata": {
        "id": "6C6tjxUCwV8B"
      },
      "source": [
        "# In order to access data on Google Drive, you need to mount the drive to access it's content\n",
        "from google.colab import drive\n",
        "drive.mount('/content/bank_client_information.csv')"
      ],
      "execution_count": null,
      "outputs": []
    },
    {
      "cell_type": "code",
      "metadata": {
        "id": "HtNU8Pdj1BmD"
      },
      "source": [
        "data = pd.read_csv('/content/bank_client_information.csv')"
      ],
      "execution_count": 6,
      "outputs": []
    },
    {
      "cell_type": "code",
      "metadata": {
        "id": "d1IF2iwK4kZ1",
        "outputId": "597543fb-f23e-45ce-f97b-603bd7d149ab",
        "colab": {
          "base_uri": "https://localhost:8080/",
          "height": 141
        }
      },
      "source": [
        "data"
      ],
      "execution_count": 8,
      "outputs": [
        {
          "output_type": "execute_result",
          "data": {
            "text/html": [
              "<div>\n",
              "<style scoped>\n",
              "    .dataframe tbody tr th:only-of-type {\n",
              "        vertical-align: middle;\n",
              "    }\n",
              "\n",
              "    .dataframe tbody tr th {\n",
              "        vertical-align: top;\n",
              "    }\n",
              "\n",
              "    .dataframe thead th {\n",
              "        text-align: right;\n",
              "    }\n",
              "</style>\n",
              "<table border=\"1\" class=\"dataframe\">\n",
              "  <thead>\n",
              "    <tr style=\"text-align: right;\">\n",
              "      <th></th>\n",
              "      <th>First Name</th>\n",
              "      <th>Last Name</th>\n",
              "      <th>Email</th>\n",
              "      <th>Postal Code</th>\n",
              "      <th>Net Worth</th>\n",
              "    </tr>\n",
              "  </thead>\n",
              "  <tbody>\n",
              "    <tr>\n",
              "      <th>0</th>\n",
              "      <td>Joseph</td>\n",
              "      <td>Patton</td>\n",
              "      <td>daafeja@boh.jm</td>\n",
              "      <td>M6U 5U7</td>\n",
              "      <td>$2,629.13</td>\n",
              "    </tr>\n",
              "    <tr>\n",
              "      <th>1</th>\n",
              "      <td>Noah</td>\n",
              "      <td>Moran</td>\n",
              "      <td>guutodi@bigwoc.kw</td>\n",
              "      <td>K2D 4M9</td>\n",
              "      <td>$8,626.96</td>\n",
              "    </tr>\n",
              "    <tr>\n",
              "      <th>2</th>\n",
              "      <td>Nina</td>\n",
              "      <td>Keller</td>\n",
              "      <td>azikez@gahew.mr</td>\n",
              "      <td>S1T 4E6</td>\n",
              "      <td>$9,072.02</td>\n",
              "    </tr>\n",
              "  </tbody>\n",
              "</table>\n",
              "</div>"
            ],
            "text/plain": [
              "  First Name Last Name              Email Postal Code   Net Worth\n",
              "0     Joseph    Patton     daafeja@boh.jm     M6U 5U7  $2,629.13 \n",
              "1       Noah     Moran  guutodi@bigwoc.kw     K2D 4M9  $8,626.96 \n",
              "2       Nina    Keller    azikez@gahew.mr     S1T 4E6  $9,072.02 "
            ]
          },
          "metadata": {
            "tags": []
          },
          "execution_count": 8
        }
      ]
    },
    {
      "cell_type": "code",
      "metadata": {
        "id": "lHB4RP5luJwF"
      },
      "source": [
        "# Pandas is used to read a csv file and store data in a DataFrame\n",
        "bank_df = pd.read_csv('/content/bank_client_information.csv')"
      ],
      "execution_count": 9,
      "outputs": []
    },
    {
      "cell_type": "code",
      "metadata": {
        "id": "OqdhTgIfuoTy",
        "outputId": "5feafb90-091e-4d3e-8628-54823bb592b6",
        "colab": {
          "base_uri": "https://localhost:8080/",
          "height": 141
        }
      },
      "source": [
        "bank_df"
      ],
      "execution_count": 11,
      "outputs": [
        {
          "output_type": "execute_result",
          "data": {
            "text/html": [
              "<div>\n",
              "<style scoped>\n",
              "    .dataframe tbody tr th:only-of-type {\n",
              "        vertical-align: middle;\n",
              "    }\n",
              "\n",
              "    .dataframe tbody tr th {\n",
              "        vertical-align: top;\n",
              "    }\n",
              "\n",
              "    .dataframe thead th {\n",
              "        text-align: right;\n",
              "    }\n",
              "</style>\n",
              "<table border=\"1\" class=\"dataframe\">\n",
              "  <thead>\n",
              "    <tr style=\"text-align: right;\">\n",
              "      <th></th>\n",
              "      <th>First Name</th>\n",
              "      <th>Last Name</th>\n",
              "      <th>Email</th>\n",
              "      <th>Postal Code</th>\n",
              "      <th>Net Worth</th>\n",
              "    </tr>\n",
              "  </thead>\n",
              "  <tbody>\n",
              "    <tr>\n",
              "      <th>0</th>\n",
              "      <td>Joseph</td>\n",
              "      <td>Patton</td>\n",
              "      <td>daafeja@boh.jm</td>\n",
              "      <td>M6U 5U7</td>\n",
              "      <td>$2,629.13</td>\n",
              "    </tr>\n",
              "    <tr>\n",
              "      <th>1</th>\n",
              "      <td>Noah</td>\n",
              "      <td>Moran</td>\n",
              "      <td>guutodi@bigwoc.kw</td>\n",
              "      <td>K2D 4M9</td>\n",
              "      <td>$8,626.96</td>\n",
              "    </tr>\n",
              "    <tr>\n",
              "      <th>2</th>\n",
              "      <td>Nina</td>\n",
              "      <td>Keller</td>\n",
              "      <td>azikez@gahew.mr</td>\n",
              "      <td>S1T 4E6</td>\n",
              "      <td>$9,072.02</td>\n",
              "    </tr>\n",
              "  </tbody>\n",
              "</table>\n",
              "</div>"
            ],
            "text/plain": [
              "  First Name Last Name              Email Postal Code   Net Worth\n",
              "0     Joseph    Patton     daafeja@boh.jm     M6U 5U7  $2,629.13 \n",
              "1       Noah     Moran  guutodi@bigwoc.kw     K2D 4M9  $8,626.96 \n",
              "2       Nina    Keller    azikez@gahew.mr     S1T 4E6  $9,072.02 "
            ]
          },
          "metadata": {
            "tags": []
          },
          "execution_count": 11
        }
      ]
    },
    {
      "cell_type": "code",
      "metadata": {
        "id": "lhwAwJ7BuoXn"
      },
      "source": [
        "# write to a csv file without an index\n",
        "bank_df.to_csv('sample_output.csv', index=False)"
      ],
      "execution_count": 13,
      "outputs": []
    },
    {
      "cell_type": "code",
      "metadata": {
        "id": "f8sECePFL-WC",
        "outputId": "989806ab-ad25-4da5-a465-3d0d39fa6016",
        "colab": {
          "base_uri": "https://localhost:8080/",
          "height": 141
        }
      },
      "source": [
        "sample_df = pd.read_csv('sample_output.csv')\n",
        "sample_df"
      ],
      "execution_count": 14,
      "outputs": [
        {
          "output_type": "execute_result",
          "data": {
            "text/html": [
              "<div>\n",
              "<style scoped>\n",
              "    .dataframe tbody tr th:only-of-type {\n",
              "        vertical-align: middle;\n",
              "    }\n",
              "\n",
              "    .dataframe tbody tr th {\n",
              "        vertical-align: top;\n",
              "    }\n",
              "\n",
              "    .dataframe thead th {\n",
              "        text-align: right;\n",
              "    }\n",
              "</style>\n",
              "<table border=\"1\" class=\"dataframe\">\n",
              "  <thead>\n",
              "    <tr style=\"text-align: right;\">\n",
              "      <th></th>\n",
              "      <th>First Name</th>\n",
              "      <th>Last Name</th>\n",
              "      <th>Email</th>\n",
              "      <th>Postal Code</th>\n",
              "      <th>Net Worth</th>\n",
              "    </tr>\n",
              "  </thead>\n",
              "  <tbody>\n",
              "    <tr>\n",
              "      <th>0</th>\n",
              "      <td>Joseph</td>\n",
              "      <td>Patton</td>\n",
              "      <td>daafeja@boh.jm</td>\n",
              "      <td>M6U 5U7</td>\n",
              "      <td>$2,629.13</td>\n",
              "    </tr>\n",
              "    <tr>\n",
              "      <th>1</th>\n",
              "      <td>Noah</td>\n",
              "      <td>Moran</td>\n",
              "      <td>guutodi@bigwoc.kw</td>\n",
              "      <td>K2D 4M9</td>\n",
              "      <td>$8,626.96</td>\n",
              "    </tr>\n",
              "    <tr>\n",
              "      <th>2</th>\n",
              "      <td>Nina</td>\n",
              "      <td>Keller</td>\n",
              "      <td>azikez@gahew.mr</td>\n",
              "      <td>S1T 4E6</td>\n",
              "      <td>$9,072.02</td>\n",
              "    </tr>\n",
              "  </tbody>\n",
              "</table>\n",
              "</div>"
            ],
            "text/plain": [
              "  First Name Last Name              Email Postal Code   Net Worth\n",
              "0     Joseph    Patton     daafeja@boh.jm     M6U 5U7  $2,629.13 \n",
              "1       Noah     Moran  guutodi@bigwoc.kw     K2D 4M9  $8,626.96 \n",
              "2       Nina    Keller    azikez@gahew.mr     S1T 4E6  $9,072.02 "
            ]
          },
          "metadata": {
            "tags": []
          },
          "execution_count": 14
        }
      ]
    },
    {
      "cell_type": "code",
      "metadata": {
        "id": "Xbhgb5EYxR3o"
      },
      "source": [
        "# write to a csv file with an index\n",
        "bank_df.to_csv('sample2_output.csv', index=True)"
      ],
      "execution_count": 15,
      "outputs": []
    },
    {
      "cell_type": "code",
      "metadata": {
        "id": "9yjPQC8UNKSS",
        "outputId": "a444e47b-5f56-42fa-c5f0-83aee604f4b8",
        "colab": {
          "base_uri": "https://localhost:8080/",
          "height": 141
        }
      },
      "source": [
        "sample2_df = pd.read_csv('sample2_output.csv')\n",
        "sample2_df"
      ],
      "execution_count": 16,
      "outputs": [
        {
          "output_type": "execute_result",
          "data": {
            "text/html": [
              "<div>\n",
              "<style scoped>\n",
              "    .dataframe tbody tr th:only-of-type {\n",
              "        vertical-align: middle;\n",
              "    }\n",
              "\n",
              "    .dataframe tbody tr th {\n",
              "        vertical-align: top;\n",
              "    }\n",
              "\n",
              "    .dataframe thead th {\n",
              "        text-align: right;\n",
              "    }\n",
              "</style>\n",
              "<table border=\"1\" class=\"dataframe\">\n",
              "  <thead>\n",
              "    <tr style=\"text-align: right;\">\n",
              "      <th></th>\n",
              "      <th>Unnamed: 0</th>\n",
              "      <th>First Name</th>\n",
              "      <th>Last Name</th>\n",
              "      <th>Email</th>\n",
              "      <th>Postal Code</th>\n",
              "      <th>Net Worth</th>\n",
              "    </tr>\n",
              "  </thead>\n",
              "  <tbody>\n",
              "    <tr>\n",
              "      <th>0</th>\n",
              "      <td>0</td>\n",
              "      <td>Joseph</td>\n",
              "      <td>Patton</td>\n",
              "      <td>daafeja@boh.jm</td>\n",
              "      <td>M6U 5U7</td>\n",
              "      <td>$2,629.13</td>\n",
              "    </tr>\n",
              "    <tr>\n",
              "      <th>1</th>\n",
              "      <td>1</td>\n",
              "      <td>Noah</td>\n",
              "      <td>Moran</td>\n",
              "      <td>guutodi@bigwoc.kw</td>\n",
              "      <td>K2D 4M9</td>\n",
              "      <td>$8,626.96</td>\n",
              "    </tr>\n",
              "    <tr>\n",
              "      <th>2</th>\n",
              "      <td>2</td>\n",
              "      <td>Nina</td>\n",
              "      <td>Keller</td>\n",
              "      <td>azikez@gahew.mr</td>\n",
              "      <td>S1T 4E6</td>\n",
              "      <td>$9,072.02</td>\n",
              "    </tr>\n",
              "  </tbody>\n",
              "</table>\n",
              "</div>"
            ],
            "text/plain": [
              "   Unnamed: 0 First Name Last Name              Email Postal Code   Net Worth\n",
              "0           0     Joseph    Patton     daafeja@boh.jm     M6U 5U7  $2,629.13 \n",
              "1           1       Noah     Moran  guutodi@bigwoc.kw     K2D 4M9  $8,626.96 \n",
              "2           2       Nina    Keller    azikez@gahew.mr     S1T 4E6  $9,072.02 "
            ]
          },
          "metadata": {
            "tags": []
          },
          "execution_count": 16
        }
      ]
    },
    {
      "cell_type": "code",
      "metadata": {
        "id": "tAJRGqF-uobr"
      },
      "source": [
        "# Read tabular data using read_html\n",
        "house_prices_df = pd.read_html('https://www.livingin-canada.com/house-prices-canada.html')"
      ],
      "execution_count": 17,
      "outputs": []
    },
    {
      "cell_type": "code",
      "metadata": {
        "id": "Al8bvyYEuods",
        "outputId": "7a5b5358-84fd-438e-fa95-a1a04ab55c15",
        "colab": {
          "base_uri": "https://localhost:8080/"
        }
      },
      "source": [
        "house_prices_df"
      ],
      "execution_count": 18,
      "outputs": [
        {
          "output_type": "execute_result",
          "data": {
            "text/plain": [
              "[                                                City  ...                                    12 Month Change\n",
              " 0                                      Vancouver, BC  ...                                           + 2.63 %\n",
              " 1                                       Toronto, Ont  ...                                            +10.2 %\n",
              " 2                                        Ottawa, Ont  ...                                           + 15.4 %\n",
              " 3                                       Calgary, Alb  ...                                            – 1.5 %\n",
              " 4                                      Montreal, Que  ...                                            + 9.3 %\n",
              " 5                                        Halifax, NS  ...                                            + 3.6 %\n",
              " 6                                       Regina, Sask  ...                                            – 3.9 %\n",
              " 7                                    Fredericton, NB  ...                                            – 4.3 %\n",
              " 8  (adsbygoogle = window.adsbygoogle || []).push(...  ...  (adsbygoogle = window.adsbygoogle || []).push(...\n",
              " \n",
              " [9 rows x 3 columns],\n",
              "                                              Province  ...                                    12 Month Change\n",
              " 0                                    British Columbia  ...                                            + 7.6 %\n",
              " 1                                             Ontario  ...                                            – 3.2 %\n",
              " 2                                             Alberta  ...                                            – 7.5 %\n",
              " 3                                              Quebec  ...                                            + 7.6 %\n",
              " 4                                            Manitoba  ...                                            – 1.4 %\n",
              " 5                                        Saskatchewan  ...                                            – 3.8 %\n",
              " 6                                         Nova Scotia  ...                                            + 3.5 %\n",
              " 7                                Prince Edward Island  ...                                            + 3.0 %\n",
              " 8                             Newfoundland / Labrador  ...                                            – 1.6 %\n",
              " 9                                       New Brunswick  ...                                            – 2.2 %\n",
              " 10                                   Canadian Average  ...                                            – 1.3 %\n",
              " 11  (adsbygoogle = window.adsbygoogle || []).push(...  ...  (adsbygoogle = window.adsbygoogle || []).push(...\n",
              " \n",
              " [12 rows x 3 columns]]"
            ]
          },
          "metadata": {
            "tags": []
          },
          "execution_count": 18
        }
      ]
    },
    {
      "cell_type": "code",
      "metadata": {
        "id": "K-abffkEuoZs",
        "outputId": "299f442a-b5d8-4b6f-a374-aa13f877aef6",
        "colab": {
          "base_uri": "https://localhost:8080/",
          "height": 325
        }
      },
      "source": [
        "house_prices_df[0]"
      ],
      "execution_count": 19,
      "outputs": [
        {
          "output_type": "execute_result",
          "data": {
            "text/html": [
              "<div>\n",
              "<style scoped>\n",
              "    .dataframe tbody tr th:only-of-type {\n",
              "        vertical-align: middle;\n",
              "    }\n",
              "\n",
              "    .dataframe tbody tr th {\n",
              "        vertical-align: top;\n",
              "    }\n",
              "\n",
              "    .dataframe thead th {\n",
              "        text-align: right;\n",
              "    }\n",
              "</style>\n",
              "<table border=\"1\" class=\"dataframe\">\n",
              "  <thead>\n",
              "    <tr style=\"text-align: right;\">\n",
              "      <th></th>\n",
              "      <th>City</th>\n",
              "      <th>Average House Price</th>\n",
              "      <th>12 Month Change</th>\n",
              "    </tr>\n",
              "  </thead>\n",
              "  <tbody>\n",
              "    <tr>\n",
              "      <th>0</th>\n",
              "      <td>Vancouver, BC</td>\n",
              "      <td>$1,036,000</td>\n",
              "      <td>+ 2.63 %</td>\n",
              "    </tr>\n",
              "    <tr>\n",
              "      <th>1</th>\n",
              "      <td>Toronto, Ont</td>\n",
              "      <td>$870,000</td>\n",
              "      <td>+10.2 %</td>\n",
              "    </tr>\n",
              "    <tr>\n",
              "      <th>2</th>\n",
              "      <td>Ottawa, Ont</td>\n",
              "      <td>$479,000</td>\n",
              "      <td>+ 15.4 %</td>\n",
              "    </tr>\n",
              "    <tr>\n",
              "      <th>3</th>\n",
              "      <td>Calgary, Alb</td>\n",
              "      <td>$410,000</td>\n",
              "      <td>– 1.5 %</td>\n",
              "    </tr>\n",
              "    <tr>\n",
              "      <th>4</th>\n",
              "      <td>Montreal, Que</td>\n",
              "      <td>$435,000</td>\n",
              "      <td>+ 9.3 %</td>\n",
              "    </tr>\n",
              "    <tr>\n",
              "      <th>5</th>\n",
              "      <td>Halifax, NS</td>\n",
              "      <td>$331,000</td>\n",
              "      <td>+ 3.6 %</td>\n",
              "    </tr>\n",
              "    <tr>\n",
              "      <th>6</th>\n",
              "      <td>Regina, Sask</td>\n",
              "      <td>$254,000</td>\n",
              "      <td>– 3.9 %</td>\n",
              "    </tr>\n",
              "    <tr>\n",
              "      <th>7</th>\n",
              "      <td>Fredericton, NB</td>\n",
              "      <td>$198,000</td>\n",
              "      <td>– 4.3 %</td>\n",
              "    </tr>\n",
              "    <tr>\n",
              "      <th>8</th>\n",
              "      <td>(adsbygoogle = window.adsbygoogle || []).push(...</td>\n",
              "      <td>(adsbygoogle = window.adsbygoogle || []).push(...</td>\n",
              "      <td>(adsbygoogle = window.adsbygoogle || []).push(...</td>\n",
              "    </tr>\n",
              "  </tbody>\n",
              "</table>\n",
              "</div>"
            ],
            "text/plain": [
              "                                                City  ...                                    12 Month Change\n",
              "0                                      Vancouver, BC  ...                                           + 2.63 %\n",
              "1                                       Toronto, Ont  ...                                            +10.2 %\n",
              "2                                        Ottawa, Ont  ...                                           + 15.4 %\n",
              "3                                       Calgary, Alb  ...                                            – 1.5 %\n",
              "4                                      Montreal, Que  ...                                            + 9.3 %\n",
              "5                                        Halifax, NS  ...                                            + 3.6 %\n",
              "6                                       Regina, Sask  ...                                            – 3.9 %\n",
              "7                                    Fredericton, NB  ...                                            – 4.3 %\n",
              "8  (adsbygoogle = window.adsbygoogle || []).push(...  ...  (adsbygoogle = window.adsbygoogle || []).push(...\n",
              "\n",
              "[9 rows x 3 columns]"
            ]
          },
          "metadata": {
            "tags": []
          },
          "execution_count": 19
        }
      ]
    },
    {
      "cell_type": "code",
      "metadata": {
        "id": "5zFPsT1DO4LL",
        "outputId": "3f47e930-6d82-45f9-9feb-9f969aadddf0",
        "colab": {
          "base_uri": "https://localhost:8080/",
          "height": 417
        }
      },
      "source": [
        "house_prices_df[1]"
      ],
      "execution_count": 20,
      "outputs": [
        {
          "output_type": "execute_result",
          "data": {
            "text/html": [
              "<div>\n",
              "<style scoped>\n",
              "    .dataframe tbody tr th:only-of-type {\n",
              "        vertical-align: middle;\n",
              "    }\n",
              "\n",
              "    .dataframe tbody tr th {\n",
              "        vertical-align: top;\n",
              "    }\n",
              "\n",
              "    .dataframe thead th {\n",
              "        text-align: right;\n",
              "    }\n",
              "</style>\n",
              "<table border=\"1\" class=\"dataframe\">\n",
              "  <thead>\n",
              "    <tr style=\"text-align: right;\">\n",
              "      <th></th>\n",
              "      <th>Province</th>\n",
              "      <th>Average House Price</th>\n",
              "      <th>12 Month Change</th>\n",
              "    </tr>\n",
              "  </thead>\n",
              "  <tbody>\n",
              "    <tr>\n",
              "      <th>0</th>\n",
              "      <td>British Columbia</td>\n",
              "      <td>$736,000</td>\n",
              "      <td>+ 7.6 %</td>\n",
              "    </tr>\n",
              "    <tr>\n",
              "      <th>1</th>\n",
              "      <td>Ontario</td>\n",
              "      <td>$594,000</td>\n",
              "      <td>– 3.2 %</td>\n",
              "    </tr>\n",
              "    <tr>\n",
              "      <th>2</th>\n",
              "      <td>Alberta</td>\n",
              "      <td>$353,000</td>\n",
              "      <td>– 7.5 %</td>\n",
              "    </tr>\n",
              "    <tr>\n",
              "      <th>3</th>\n",
              "      <td>Quebec</td>\n",
              "      <td>$340,000</td>\n",
              "      <td>+ 7.6 %</td>\n",
              "    </tr>\n",
              "    <tr>\n",
              "      <th>4</th>\n",
              "      <td>Manitoba</td>\n",
              "      <td>$295,000</td>\n",
              "      <td>– 1.4 %</td>\n",
              "    </tr>\n",
              "    <tr>\n",
              "      <th>5</th>\n",
              "      <td>Saskatchewan</td>\n",
              "      <td>$271,000</td>\n",
              "      <td>– 3.8 %</td>\n",
              "    </tr>\n",
              "    <tr>\n",
              "      <th>6</th>\n",
              "      <td>Nova Scotia</td>\n",
              "      <td>$266,000</td>\n",
              "      <td>+ 3.5 %</td>\n",
              "    </tr>\n",
              "    <tr>\n",
              "      <th>7</th>\n",
              "      <td>Prince Edward Island</td>\n",
              "      <td>$243,000</td>\n",
              "      <td>+ 3.0 %</td>\n",
              "    </tr>\n",
              "    <tr>\n",
              "      <th>8</th>\n",
              "      <td>Newfoundland / Labrador</td>\n",
              "      <td>$236,000</td>\n",
              "      <td>– 1.6 %</td>\n",
              "    </tr>\n",
              "    <tr>\n",
              "      <th>9</th>\n",
              "      <td>New Brunswick</td>\n",
              "      <td>$183,000</td>\n",
              "      <td>– 2.2 %</td>\n",
              "    </tr>\n",
              "    <tr>\n",
              "      <th>10</th>\n",
              "      <td>Canadian Average</td>\n",
              "      <td>$488,000</td>\n",
              "      <td>– 1.3 %</td>\n",
              "    </tr>\n",
              "    <tr>\n",
              "      <th>11</th>\n",
              "      <td>(adsbygoogle = window.adsbygoogle || []).push(...</td>\n",
              "      <td>(adsbygoogle = window.adsbygoogle || []).push(...</td>\n",
              "      <td>(adsbygoogle = window.adsbygoogle || []).push(...</td>\n",
              "    </tr>\n",
              "  </tbody>\n",
              "</table>\n",
              "</div>"
            ],
            "text/plain": [
              "                                             Province  ...                                    12 Month Change\n",
              "0                                    British Columbia  ...                                            + 7.6 %\n",
              "1                                             Ontario  ...                                            – 3.2 %\n",
              "2                                             Alberta  ...                                            – 7.5 %\n",
              "3                                              Quebec  ...                                            + 7.6 %\n",
              "4                                            Manitoba  ...                                            – 1.4 %\n",
              "5                                        Saskatchewan  ...                                            – 3.8 %\n",
              "6                                         Nova Scotia  ...                                            + 3.5 %\n",
              "7                                Prince Edward Island  ...                                            + 3.0 %\n",
              "8                             Newfoundland / Labrador  ...                                            – 1.6 %\n",
              "9                                       New Brunswick  ...                                            – 2.2 %\n",
              "10                                   Canadian Average  ...                                            – 1.3 %\n",
              "11  (adsbygoogle = window.adsbygoogle || []).push(...  ...  (adsbygoogle = window.adsbygoogle || []).push(...\n",
              "\n",
              "[12 rows x 3 columns]"
            ]
          },
          "metadata": {
            "tags": []
          },
          "execution_count": 20
        }
      ]
    },
    {
      "cell_type": "markdown",
      "metadata": {
        "id": "jRtr2lpr2NHr"
      },
      "source": [
        "**MINI CHALLENGE #2:**\n",
        "- **Write a code that uses Pandas to read tabular US retirement data**\n",
        "- **You can use data from here: https://www.ssa.gov/oact/progdata/nra.html** "
      ]
    },
    {
      "cell_type": "code",
      "metadata": {
        "id": "qF-eEa5h27rh",
        "outputId": "e32a142c-a1c4-4c38-a5ac-32e8516c24f9",
        "colab": {
          "base_uri": "https://localhost:8080/"
        }
      },
      "source": [
        "retirement_df = pd.read_html('https://www.ssa.gov/oact/progdata/nra.html')\n",
        "retirement_df"
      ],
      "execution_count": 21,
      "outputs": [
        {
          "output_type": "execute_result",
          "data": {
            "text/plain": [
              "[                                        Year of birth                                                Age\n",
              " 0                                      1937 and prior                                                 65\n",
              " 1                                                1938                                    65 and 2 months\n",
              " 2                                                1939                                    65 and 4 months\n",
              " 3                                                1940                                    65 and 6 months\n",
              " 4                                                1941                                    65 and 8 months\n",
              " 5                                                1942                                   65 and 10 months\n",
              " 6                                             1943-54                                                 66\n",
              " 7                                                1955                                    66 and 2 months\n",
              " 8                                                1956                                    66 and 4 months\n",
              " 9                                                1957                                    66 and 6 months\n",
              " 10                                               1958                                    66 and 8 months\n",
              " 11                                               1959                                   66 and 10 months\n",
              " 12                                     1960 and later                                                 67\n",
              " 13  Notes: 1. Persons born on January 1 of any yea...  Notes: 1. Persons born on January 1 of any yea...]"
            ]
          },
          "metadata": {
            "tags": []
          },
          "execution_count": 21
        }
      ]
    },
    {
      "cell_type": "markdown",
      "metadata": {
        "id": "usUtfW0WuuBb"
      },
      "source": [
        "# 3. PANDAS OPERATIONS"
      ]
    },
    {
      "cell_type": "code",
      "metadata": {
        "id": "wI7pvcR01NbV",
        "outputId": "18c1bd4a-5548-406e-c9ad-4c024a1b74da",
        "colab": {
          "base_uri": "https://localhost:8080/",
          "height": 171
        }
      },
      "source": [
        "# Let's define a dataframe as follows:\n",
        "bank_client_df = pd.DataFrame({'Bank Client ID': [111, 222, 333, 444],\n",
        "                               'Bank Client Name': ['Chanel', 'Steve', 'Mitch', 'Ryan'],\n",
        "                               'Net Worth [$]': [3500, 29000, 10000, 2000],\n",
        "                               'Year with Bank': [3, 4, 9, 5]})\n",
        "bank_client_df"
      ],
      "execution_count": 22,
      "outputs": [
        {
          "output_type": "execute_result",
          "data": {
            "text/html": [
              "<div>\n",
              "<style scoped>\n",
              "    .dataframe tbody tr th:only-of-type {\n",
              "        vertical-align: middle;\n",
              "    }\n",
              "\n",
              "    .dataframe tbody tr th {\n",
              "        vertical-align: top;\n",
              "    }\n",
              "\n",
              "    .dataframe thead th {\n",
              "        text-align: right;\n",
              "    }\n",
              "</style>\n",
              "<table border=\"1\" class=\"dataframe\">\n",
              "  <thead>\n",
              "    <tr style=\"text-align: right;\">\n",
              "      <th></th>\n",
              "      <th>Bank Client ID</th>\n",
              "      <th>Bank Client Name</th>\n",
              "      <th>Net Worth [$]</th>\n",
              "      <th>Year with Bank</th>\n",
              "    </tr>\n",
              "  </thead>\n",
              "  <tbody>\n",
              "    <tr>\n",
              "      <th>0</th>\n",
              "      <td>111</td>\n",
              "      <td>Chanel</td>\n",
              "      <td>3500</td>\n",
              "      <td>3</td>\n",
              "    </tr>\n",
              "    <tr>\n",
              "      <th>1</th>\n",
              "      <td>222</td>\n",
              "      <td>Steve</td>\n",
              "      <td>29000</td>\n",
              "      <td>4</td>\n",
              "    </tr>\n",
              "    <tr>\n",
              "      <th>2</th>\n",
              "      <td>333</td>\n",
              "      <td>Mitch</td>\n",
              "      <td>10000</td>\n",
              "      <td>9</td>\n",
              "    </tr>\n",
              "    <tr>\n",
              "      <th>3</th>\n",
              "      <td>444</td>\n",
              "      <td>Ryan</td>\n",
              "      <td>2000</td>\n",
              "      <td>5</td>\n",
              "    </tr>\n",
              "  </tbody>\n",
              "</table>\n",
              "</div>"
            ],
            "text/plain": [
              "   Bank Client ID Bank Client Name  Net Worth [$]  Year with Bank\n",
              "0             111           Chanel           3500               3\n",
              "1             222            Steve          29000               4\n",
              "2             333            Mitch          10000               9\n",
              "3             444             Ryan           2000               5"
            ]
          },
          "metadata": {
            "tags": []
          },
          "execution_count": 22
        }
      ]
    },
    {
      "cell_type": "code",
      "metadata": {
        "id": "kw_260rpuxzc",
        "outputId": "a4cfd405-a441-4a07-f7fe-87848c3a6803",
        "colab": {
          "base_uri": "https://localhost:8080/",
          "height": 110
        }
      },
      "source": [
        "# Pick certain rows that satisfy a certain criteria \n",
        "df_loyal = bank_client_df[ (bank_client_df['Year with Bank'] >= 5) ] \n",
        "df_loyal"
      ],
      "execution_count": 25,
      "outputs": [
        {
          "output_type": "execute_result",
          "data": {
            "text/html": [
              "<div>\n",
              "<style scoped>\n",
              "    .dataframe tbody tr th:only-of-type {\n",
              "        vertical-align: middle;\n",
              "    }\n",
              "\n",
              "    .dataframe tbody tr th {\n",
              "        vertical-align: top;\n",
              "    }\n",
              "\n",
              "    .dataframe thead th {\n",
              "        text-align: right;\n",
              "    }\n",
              "</style>\n",
              "<table border=\"1\" class=\"dataframe\">\n",
              "  <thead>\n",
              "    <tr style=\"text-align: right;\">\n",
              "      <th></th>\n",
              "      <th>Bank Client ID</th>\n",
              "      <th>Bank Client Name</th>\n",
              "      <th>Net Worth [$]</th>\n",
              "      <th>Year with Bank</th>\n",
              "    </tr>\n",
              "  </thead>\n",
              "  <tbody>\n",
              "    <tr>\n",
              "      <th>2</th>\n",
              "      <td>333</td>\n",
              "      <td>Mitch</td>\n",
              "      <td>10000</td>\n",
              "      <td>9</td>\n",
              "    </tr>\n",
              "    <tr>\n",
              "      <th>3</th>\n",
              "      <td>444</td>\n",
              "      <td>Ryan</td>\n",
              "      <td>2000</td>\n",
              "      <td>5</td>\n",
              "    </tr>\n",
              "  </tbody>\n",
              "</table>\n",
              "</div>"
            ],
            "text/plain": [
              "   Bank Client ID Bank Client Name  Net Worth [$]  Year with Bank\n",
              "2             333            Mitch          10000               9\n",
              "3             444             Ryan           2000               5"
            ]
          },
          "metadata": {
            "tags": []
          },
          "execution_count": 25
        }
      ]
    },
    {
      "cell_type": "code",
      "metadata": {
        "id": "uudZyadKux12",
        "outputId": "ff5e9075-8660-45b0-b903-b17d385ffc53",
        "colab": {
          "base_uri": "https://localhost:8080/",
          "height": 171
        }
      },
      "source": [
        "# Delete a column from a DataFrame\n",
        "del bank_client_df['Bank Client ID']\n",
        "bank_client_df"
      ],
      "execution_count": 26,
      "outputs": [
        {
          "output_type": "execute_result",
          "data": {
            "text/html": [
              "<div>\n",
              "<style scoped>\n",
              "    .dataframe tbody tr th:only-of-type {\n",
              "        vertical-align: middle;\n",
              "    }\n",
              "\n",
              "    .dataframe tbody tr th {\n",
              "        vertical-align: top;\n",
              "    }\n",
              "\n",
              "    .dataframe thead th {\n",
              "        text-align: right;\n",
              "    }\n",
              "</style>\n",
              "<table border=\"1\" class=\"dataframe\">\n",
              "  <thead>\n",
              "    <tr style=\"text-align: right;\">\n",
              "      <th></th>\n",
              "      <th>Bank Client Name</th>\n",
              "      <th>Net Worth [$]</th>\n",
              "      <th>Year with Bank</th>\n",
              "    </tr>\n",
              "  </thead>\n",
              "  <tbody>\n",
              "    <tr>\n",
              "      <th>0</th>\n",
              "      <td>Chanel</td>\n",
              "      <td>3500</td>\n",
              "      <td>3</td>\n",
              "    </tr>\n",
              "    <tr>\n",
              "      <th>1</th>\n",
              "      <td>Steve</td>\n",
              "      <td>29000</td>\n",
              "      <td>4</td>\n",
              "    </tr>\n",
              "    <tr>\n",
              "      <th>2</th>\n",
              "      <td>Mitch</td>\n",
              "      <td>10000</td>\n",
              "      <td>9</td>\n",
              "    </tr>\n",
              "    <tr>\n",
              "      <th>3</th>\n",
              "      <td>Ryan</td>\n",
              "      <td>2000</td>\n",
              "      <td>5</td>\n",
              "    </tr>\n",
              "  </tbody>\n",
              "</table>\n",
              "</div>"
            ],
            "text/plain": [
              "  Bank Client Name  Net Worth [$]  Year with Bank\n",
              "0           Chanel           3500               3\n",
              "1            Steve          29000               4\n",
              "2            Mitch          10000               9\n",
              "3             Ryan           2000               5"
            ]
          },
          "metadata": {
            "tags": []
          },
          "execution_count": 26
        }
      ]
    },
    {
      "cell_type": "markdown",
      "metadata": {
        "id": "M5_PHunK2_UZ"
      },
      "source": [
        "**MINI CHALLENGE #3:**\n",
        "- **Using \"bank_client_df\" DataFrame, leverage pandas operations to only select high networth individuals with minimum $5000** \n",
        "- **What is the combined networth for all customers with 5000+ networth?**"
      ]
    },
    {
      "cell_type": "code",
      "metadata": {
        "id": "wLyH7CnC4Vjj",
        "outputId": "507b4905-6818-47c8-e03a-2ca8090f42b3",
        "colab": {
          "base_uri": "https://localhost:8080/",
          "height": 110
        }
      },
      "source": [
        "high_networth_df = bank_client_df[ (bank_client_df['Net Worth [$]'] >= 5000) ]\n",
        "high_networth_df"
      ],
      "execution_count": 27,
      "outputs": [
        {
          "output_type": "execute_result",
          "data": {
            "text/html": [
              "<div>\n",
              "<style scoped>\n",
              "    .dataframe tbody tr th:only-of-type {\n",
              "        vertical-align: middle;\n",
              "    }\n",
              "\n",
              "    .dataframe tbody tr th {\n",
              "        vertical-align: top;\n",
              "    }\n",
              "\n",
              "    .dataframe thead th {\n",
              "        text-align: right;\n",
              "    }\n",
              "</style>\n",
              "<table border=\"1\" class=\"dataframe\">\n",
              "  <thead>\n",
              "    <tr style=\"text-align: right;\">\n",
              "      <th></th>\n",
              "      <th>Bank Client Name</th>\n",
              "      <th>Net Worth [$]</th>\n",
              "      <th>Year with Bank</th>\n",
              "    </tr>\n",
              "  </thead>\n",
              "  <tbody>\n",
              "    <tr>\n",
              "      <th>1</th>\n",
              "      <td>Steve</td>\n",
              "      <td>29000</td>\n",
              "      <td>4</td>\n",
              "    </tr>\n",
              "    <tr>\n",
              "      <th>2</th>\n",
              "      <td>Mitch</td>\n",
              "      <td>10000</td>\n",
              "      <td>9</td>\n",
              "    </tr>\n",
              "  </tbody>\n",
              "</table>\n",
              "</div>"
            ],
            "text/plain": [
              "  Bank Client Name  Net Worth [$]  Year with Bank\n",
              "1            Steve          29000               4\n",
              "2            Mitch          10000               9"
            ]
          },
          "metadata": {
            "tags": []
          },
          "execution_count": 27
        }
      ]
    },
    {
      "cell_type": "code",
      "metadata": {
        "id": "rr_nhgq-VGfC",
        "outputId": "cfff4f6e-2487-4b98-a34e-e0672c926940",
        "colab": {
          "base_uri": "https://localhost:8080/"
        }
      },
      "source": [
        "combined_networth = high_networth_df['Net Worth [$]'].sum()\n",
        "combined_networth"
      ],
      "execution_count": 29,
      "outputs": [
        {
          "output_type": "execute_result",
          "data": {
            "text/plain": [
              "39000"
            ]
          },
          "metadata": {
            "tags": []
          },
          "execution_count": 29
        }
      ]
    },
    {
      "cell_type": "markdown",
      "metadata": {
        "id": "3-5RHcLDu1wL"
      },
      "source": [
        "# 4. PANDAS WITH FUNCTIONS"
      ]
    },
    {
      "cell_type": "code",
      "metadata": {
        "id": "w6Vs9IxC14kV",
        "outputId": "373719a8-bce3-4233-ddec-bb6717e91e0d",
        "colab": {
          "base_uri": "https://localhost:8080/",
          "height": 171
        }
      },
      "source": [
        "# Let's define a dataframe as follows:\n",
        "bank_client_df = pd.DataFrame({'Bank Client ID': [111, 222, 333, 444],\n",
        "                               'Bank Client Name': ['Chanel', 'Steve', 'Mitch', 'Ryan'],\n",
        "                               'Net Worth [$]': [3500, 29000, 10000, 2000],\n",
        "                               'Year with Bank': [3, 4, 9, 5]})\n",
        "bank_client_df"
      ],
      "execution_count": 30,
      "outputs": [
        {
          "output_type": "execute_result",
          "data": {
            "text/html": [
              "<div>\n",
              "<style scoped>\n",
              "    .dataframe tbody tr th:only-of-type {\n",
              "        vertical-align: middle;\n",
              "    }\n",
              "\n",
              "    .dataframe tbody tr th {\n",
              "        vertical-align: top;\n",
              "    }\n",
              "\n",
              "    .dataframe thead th {\n",
              "        text-align: right;\n",
              "    }\n",
              "</style>\n",
              "<table border=\"1\" class=\"dataframe\">\n",
              "  <thead>\n",
              "    <tr style=\"text-align: right;\">\n",
              "      <th></th>\n",
              "      <th>Bank Client ID</th>\n",
              "      <th>Bank Client Name</th>\n",
              "      <th>Net Worth [$]</th>\n",
              "      <th>Year with Bank</th>\n",
              "    </tr>\n",
              "  </thead>\n",
              "  <tbody>\n",
              "    <tr>\n",
              "      <th>0</th>\n",
              "      <td>111</td>\n",
              "      <td>Chanel</td>\n",
              "      <td>3500</td>\n",
              "      <td>3</td>\n",
              "    </tr>\n",
              "    <tr>\n",
              "      <th>1</th>\n",
              "      <td>222</td>\n",
              "      <td>Steve</td>\n",
              "      <td>29000</td>\n",
              "      <td>4</td>\n",
              "    </tr>\n",
              "    <tr>\n",
              "      <th>2</th>\n",
              "      <td>333</td>\n",
              "      <td>Mitch</td>\n",
              "      <td>10000</td>\n",
              "      <td>9</td>\n",
              "    </tr>\n",
              "    <tr>\n",
              "      <th>3</th>\n",
              "      <td>444</td>\n",
              "      <td>Ryan</td>\n",
              "      <td>2000</td>\n",
              "      <td>5</td>\n",
              "    </tr>\n",
              "  </tbody>\n",
              "</table>\n",
              "</div>"
            ],
            "text/plain": [
              "   Bank Client ID Bank Client Name  Net Worth [$]  Year with Bank\n",
              "0             111           Chanel           3500               3\n",
              "1             222            Steve          29000               4\n",
              "2             333            Mitch          10000               9\n",
              "3             444             Ryan           2000               5"
            ]
          },
          "metadata": {
            "tags": []
          },
          "execution_count": 30
        }
      ]
    },
    {
      "cell_type": "code",
      "metadata": {
        "id": "X8HedZiGux37"
      },
      "source": [
        "# Define a function that increases all clients networth (stocks) by a fixed value of 10% (for simplicity sake) \n",
        "def networth_update(balance):\n",
        "  return balance * 1.1"
      ],
      "execution_count": 33,
      "outputs": []
    },
    {
      "cell_type": "code",
      "metadata": {
        "id": "H15eem3Qu67H",
        "outputId": "43ce18b9-2d41-4673-e3cd-42f46bc0863a",
        "colab": {
          "base_uri": "https://localhost:8080/"
        }
      },
      "source": [
        "# You can apply a function to the DataFrame \n",
        "bank_client_df['Net Worth [$]'].apply(networth_update)"
      ],
      "execution_count": 34,
      "outputs": [
        {
          "output_type": "execute_result",
          "data": {
            "text/plain": [
              "0     3850.0\n",
              "1    31900.0\n",
              "2    11000.0\n",
              "3     2200.0\n",
              "Name: Net Worth [$], dtype: float64"
            ]
          },
          "metadata": {
            "tags": []
          },
          "execution_count": 34
        }
      ]
    },
    {
      "cell_type": "code",
      "metadata": {
        "id": "WsObpnkou69Q",
        "outputId": "98264ddb-ef28-4f1b-e296-c8cf0324b9fe",
        "colab": {
          "base_uri": "https://localhost:8080/"
        }
      },
      "source": [
        "bank_client_df['Bank Client Name'].apply(len)"
      ],
      "execution_count": 35,
      "outputs": [
        {
          "output_type": "execute_result",
          "data": {
            "text/plain": [
              "0    6\n",
              "1    5\n",
              "2    5\n",
              "3    4\n",
              "Name: Bank Client Name, dtype: int64"
            ]
          },
          "metadata": {
            "tags": []
          },
          "execution_count": 35
        }
      ]
    },
    {
      "cell_type": "code",
      "metadata": {
        "id": "E52xRMulu6_I",
        "outputId": "4c910fbd-4f95-41e4-ffbc-121a41fbc634",
        "colab": {
          "base_uri": "https://localhost:8080/"
        }
      },
      "source": [
        "bank_client_df['Year with Bank'].sum()"
      ],
      "execution_count": 37,
      "outputs": [
        {
          "output_type": "execute_result",
          "data": {
            "text/plain": [
              "21"
            ]
          },
          "metadata": {
            "tags": []
          },
          "execution_count": 37
        }
      ]
    },
    {
      "cell_type": "markdown",
      "metadata": {
        "id": "VaXV-VYg4xG0"
      },
      "source": [
        "**MINI CHALLENGE #4:**\n",
        "- **Define a function that doubles stock prices and adds $100**\n",
        "- **Apply the function to the DataFrame**\n",
        "- **Calculate the updated total networth of all clients combined**"
      ]
    },
    {
      "cell_type": "code",
      "metadata": {
        "id": "_Mdmsr-pk_Qu",
        "outputId": "30f71991-7bab-4f57-c4ab-86dc59a5a554",
        "colab": {
          "base_uri": "https://localhost:8080/",
          "height": 141
        }
      },
      "source": [
        "portfolio_df = pd.DataFrame({'Stock Ticker': ['AAPL', 'TSLA', 'INTC'],\n",
        "                             'Number of shares': [1000, 2000, 3000],\n",
        "                             'Price per share': [126.65, 695.00, 47.46]})\n",
        "portfolio_df"
      ],
      "execution_count": 39,
      "outputs": [
        {
          "output_type": "execute_result",
          "data": {
            "text/html": [
              "<div>\n",
              "<style scoped>\n",
              "    .dataframe tbody tr th:only-of-type {\n",
              "        vertical-align: middle;\n",
              "    }\n",
              "\n",
              "    .dataframe tbody tr th {\n",
              "        vertical-align: top;\n",
              "    }\n",
              "\n",
              "    .dataframe thead th {\n",
              "        text-align: right;\n",
              "    }\n",
              "</style>\n",
              "<table border=\"1\" class=\"dataframe\">\n",
              "  <thead>\n",
              "    <tr style=\"text-align: right;\">\n",
              "      <th></th>\n",
              "      <th>Stock Ticker</th>\n",
              "      <th>Number of shares</th>\n",
              "      <th>Price per share</th>\n",
              "    </tr>\n",
              "  </thead>\n",
              "  <tbody>\n",
              "    <tr>\n",
              "      <th>0</th>\n",
              "      <td>AAPL</td>\n",
              "      <td>1000</td>\n",
              "      <td>126.65</td>\n",
              "    </tr>\n",
              "    <tr>\n",
              "      <th>1</th>\n",
              "      <td>TSLA</td>\n",
              "      <td>2000</td>\n",
              "      <td>695.00</td>\n",
              "    </tr>\n",
              "    <tr>\n",
              "      <th>2</th>\n",
              "      <td>INTC</td>\n",
              "      <td>3000</td>\n",
              "      <td>47.46</td>\n",
              "    </tr>\n",
              "  </tbody>\n",
              "</table>\n",
              "</div>"
            ],
            "text/plain": [
              "  Stock Ticker  Number of shares  Price per share\n",
              "0         AAPL              1000           126.65\n",
              "1         TSLA              2000           695.00\n",
              "2         INTC              3000            47.46"
            ]
          },
          "metadata": {
            "tags": []
          },
          "execution_count": 39
        }
      ]
    },
    {
      "cell_type": "code",
      "metadata": {
        "id": "xqWCYc0n6V-d"
      },
      "source": [
        "def double_stock_price(price_per_share):\n",
        "  # return np.square(price_per_share) + 100\n",
        "  return price_per_share * 2 + 100"
      ],
      "execution_count": 44,
      "outputs": []
    },
    {
      "cell_type": "code",
      "metadata": {
        "id": "dW5exU8voFud"
      },
      "source": [
        "portfolio_df['Double Stock Prices'] = portfolio_df['Price per share'].apply(double_stock_price)"
      ],
      "execution_count": 45,
      "outputs": []
    },
    {
      "cell_type": "code",
      "metadata": {
        "id": "F0ctpy1eoFsd",
        "outputId": "93263915-8768-4b09-cc3e-f2b0cf0c9f6d",
        "colab": {
          "base_uri": "https://localhost:8080/",
          "height": 141
        }
      },
      "source": [
        "portfolio_df"
      ],
      "execution_count": 46,
      "outputs": [
        {
          "output_type": "execute_result",
          "data": {
            "text/html": [
              "<div>\n",
              "<style scoped>\n",
              "    .dataframe tbody tr th:only-of-type {\n",
              "        vertical-align: middle;\n",
              "    }\n",
              "\n",
              "    .dataframe tbody tr th {\n",
              "        vertical-align: top;\n",
              "    }\n",
              "\n",
              "    .dataframe thead th {\n",
              "        text-align: right;\n",
              "    }\n",
              "</style>\n",
              "<table border=\"1\" class=\"dataframe\">\n",
              "  <thead>\n",
              "    <tr style=\"text-align: right;\">\n",
              "      <th></th>\n",
              "      <th>Stock Ticker</th>\n",
              "      <th>Number of shares</th>\n",
              "      <th>Price per share</th>\n",
              "      <th>Double Stock Prices</th>\n",
              "    </tr>\n",
              "  </thead>\n",
              "  <tbody>\n",
              "    <tr>\n",
              "      <th>0</th>\n",
              "      <td>AAPL</td>\n",
              "      <td>1000</td>\n",
              "      <td>126.65</td>\n",
              "      <td>353.30</td>\n",
              "    </tr>\n",
              "    <tr>\n",
              "      <th>1</th>\n",
              "      <td>TSLA</td>\n",
              "      <td>2000</td>\n",
              "      <td>695.00</td>\n",
              "      <td>1490.00</td>\n",
              "    </tr>\n",
              "    <tr>\n",
              "      <th>2</th>\n",
              "      <td>INTC</td>\n",
              "      <td>3000</td>\n",
              "      <td>47.46</td>\n",
              "      <td>194.92</td>\n",
              "    </tr>\n",
              "  </tbody>\n",
              "</table>\n",
              "</div>"
            ],
            "text/plain": [
              "  Stock Ticker  Number of shares  Price per share  Double Stock Prices\n",
              "0         AAPL              1000           126.65               353.30\n",
              "1         TSLA              2000           695.00              1490.00\n",
              "2         INTC              3000            47.46               194.92"
            ]
          },
          "metadata": {
            "tags": []
          },
          "execution_count": 46
        }
      ]
    },
    {
      "cell_type": "code",
      "metadata": {
        "id": "CEBxdOd9oFqA",
        "outputId": "a3a11feb-ae4c-497c-cbcb-3f8975808f6c",
        "colab": {
          "base_uri": "https://localhost:8080/"
        }
      },
      "source": [
        "total_networth_all_clients = portfolio_df['Double Stock Prices'].sum()\n",
        "total_networth_all_clients"
      ],
      "execution_count": 47,
      "outputs": [
        {
          "output_type": "execute_result",
          "data": {
            "text/plain": [
              "2038.22"
            ]
          },
          "metadata": {
            "tags": []
          },
          "execution_count": 47
        }
      ]
    },
    {
      "cell_type": "markdown",
      "metadata": {
        "id": "LKDuJ94RvB85"
      },
      "source": [
        "# 5. SORTING AND ORDERING"
      ]
    },
    {
      "cell_type": "code",
      "metadata": {
        "id": "f-aRTmn9u7DA",
        "outputId": "ab260867-4678-44fd-b0c1-ca378bb2fcdd",
        "colab": {
          "base_uri": "https://localhost:8080/",
          "height": 171
        }
      },
      "source": [
        "# Let's define a dataframe as follows:\n",
        "bank_client_df = pd.DataFrame({'Bank Client ID': [111, 222, 333, 444],\n",
        "                               'Bank Client Name': ['Chanel', 'Steve', 'Mitch', 'Ryan'],\n",
        "                               'Net Worth [$]': [3500, 29000, 10000, 2000],\n",
        "                               'Year with Bank': [3, 4, 9, 5]})\n",
        "bank_client_df"
      ],
      "execution_count": 48,
      "outputs": [
        {
          "output_type": "execute_result",
          "data": {
            "text/html": [
              "<div>\n",
              "<style scoped>\n",
              "    .dataframe tbody tr th:only-of-type {\n",
              "        vertical-align: middle;\n",
              "    }\n",
              "\n",
              "    .dataframe tbody tr th {\n",
              "        vertical-align: top;\n",
              "    }\n",
              "\n",
              "    .dataframe thead th {\n",
              "        text-align: right;\n",
              "    }\n",
              "</style>\n",
              "<table border=\"1\" class=\"dataframe\">\n",
              "  <thead>\n",
              "    <tr style=\"text-align: right;\">\n",
              "      <th></th>\n",
              "      <th>Bank Client ID</th>\n",
              "      <th>Bank Client Name</th>\n",
              "      <th>Net Worth [$]</th>\n",
              "      <th>Year with Bank</th>\n",
              "    </tr>\n",
              "  </thead>\n",
              "  <tbody>\n",
              "    <tr>\n",
              "      <th>0</th>\n",
              "      <td>111</td>\n",
              "      <td>Chanel</td>\n",
              "      <td>3500</td>\n",
              "      <td>3</td>\n",
              "    </tr>\n",
              "    <tr>\n",
              "      <th>1</th>\n",
              "      <td>222</td>\n",
              "      <td>Steve</td>\n",
              "      <td>29000</td>\n",
              "      <td>4</td>\n",
              "    </tr>\n",
              "    <tr>\n",
              "      <th>2</th>\n",
              "      <td>333</td>\n",
              "      <td>Mitch</td>\n",
              "      <td>10000</td>\n",
              "      <td>9</td>\n",
              "    </tr>\n",
              "    <tr>\n",
              "      <th>3</th>\n",
              "      <td>444</td>\n",
              "      <td>Ryan</td>\n",
              "      <td>2000</td>\n",
              "      <td>5</td>\n",
              "    </tr>\n",
              "  </tbody>\n",
              "</table>\n",
              "</div>"
            ],
            "text/plain": [
              "   Bank Client ID Bank Client Name  Net Worth [$]  Year with Bank\n",
              "0             111           Chanel           3500               3\n",
              "1             222            Steve          29000               4\n",
              "2             333            Mitch          10000               9\n",
              "3             444             Ryan           2000               5"
            ]
          },
          "metadata": {
            "tags": []
          },
          "execution_count": 48
        }
      ]
    },
    {
      "cell_type": "code",
      "metadata": {
        "id": "DaglhPNevFYC",
        "outputId": "28fbf656-826b-4519-c0be-bd5102a7d4fa",
        "colab": {
          "base_uri": "https://localhost:8080/",
          "height": 171
        }
      },
      "source": [
        "# You can sort the values in the dataframe according to number of years with bank\n",
        "bank_client_df.sort_values('Year with Bank')"
      ],
      "execution_count": 49,
      "outputs": [
        {
          "output_type": "execute_result",
          "data": {
            "text/html": [
              "<div>\n",
              "<style scoped>\n",
              "    .dataframe tbody tr th:only-of-type {\n",
              "        vertical-align: middle;\n",
              "    }\n",
              "\n",
              "    .dataframe tbody tr th {\n",
              "        vertical-align: top;\n",
              "    }\n",
              "\n",
              "    .dataframe thead th {\n",
              "        text-align: right;\n",
              "    }\n",
              "</style>\n",
              "<table border=\"1\" class=\"dataframe\">\n",
              "  <thead>\n",
              "    <tr style=\"text-align: right;\">\n",
              "      <th></th>\n",
              "      <th>Bank Client ID</th>\n",
              "      <th>Bank Client Name</th>\n",
              "      <th>Net Worth [$]</th>\n",
              "      <th>Year with Bank</th>\n",
              "    </tr>\n",
              "  </thead>\n",
              "  <tbody>\n",
              "    <tr>\n",
              "      <th>0</th>\n",
              "      <td>111</td>\n",
              "      <td>Chanel</td>\n",
              "      <td>3500</td>\n",
              "      <td>3</td>\n",
              "    </tr>\n",
              "    <tr>\n",
              "      <th>1</th>\n",
              "      <td>222</td>\n",
              "      <td>Steve</td>\n",
              "      <td>29000</td>\n",
              "      <td>4</td>\n",
              "    </tr>\n",
              "    <tr>\n",
              "      <th>3</th>\n",
              "      <td>444</td>\n",
              "      <td>Ryan</td>\n",
              "      <td>2000</td>\n",
              "      <td>5</td>\n",
              "    </tr>\n",
              "    <tr>\n",
              "      <th>2</th>\n",
              "      <td>333</td>\n",
              "      <td>Mitch</td>\n",
              "      <td>10000</td>\n",
              "      <td>9</td>\n",
              "    </tr>\n",
              "  </tbody>\n",
              "</table>\n",
              "</div>"
            ],
            "text/plain": [
              "   Bank Client ID Bank Client Name  Net Worth [$]  Year with Bank\n",
              "0             111           Chanel           3500               3\n",
              "1             222            Steve          29000               4\n",
              "3             444             Ryan           2000               5\n",
              "2             333            Mitch          10000               9"
            ]
          },
          "metadata": {
            "tags": []
          },
          "execution_count": 49
        }
      ]
    },
    {
      "cell_type": "code",
      "metadata": {
        "id": "AjzLtDlevFaW",
        "outputId": "f5948245-4c06-4800-e01b-6a3aae16f2cb",
        "colab": {
          "base_uri": "https://localhost:8080/",
          "height": 171
        }
      },
      "source": [
        "# Note that nothing changed in memory! you have to make sure that inplace is set to True\n",
        "bank_client_df"
      ],
      "execution_count": 50,
      "outputs": [
        {
          "output_type": "execute_result",
          "data": {
            "text/html": [
              "<div>\n",
              "<style scoped>\n",
              "    .dataframe tbody tr th:only-of-type {\n",
              "        vertical-align: middle;\n",
              "    }\n",
              "\n",
              "    .dataframe tbody tr th {\n",
              "        vertical-align: top;\n",
              "    }\n",
              "\n",
              "    .dataframe thead th {\n",
              "        text-align: right;\n",
              "    }\n",
              "</style>\n",
              "<table border=\"1\" class=\"dataframe\">\n",
              "  <thead>\n",
              "    <tr style=\"text-align: right;\">\n",
              "      <th></th>\n",
              "      <th>Bank Client ID</th>\n",
              "      <th>Bank Client Name</th>\n",
              "      <th>Net Worth [$]</th>\n",
              "      <th>Year with Bank</th>\n",
              "    </tr>\n",
              "  </thead>\n",
              "  <tbody>\n",
              "    <tr>\n",
              "      <th>0</th>\n",
              "      <td>111</td>\n",
              "      <td>Chanel</td>\n",
              "      <td>3500</td>\n",
              "      <td>3</td>\n",
              "    </tr>\n",
              "    <tr>\n",
              "      <th>1</th>\n",
              "      <td>222</td>\n",
              "      <td>Steve</td>\n",
              "      <td>29000</td>\n",
              "      <td>4</td>\n",
              "    </tr>\n",
              "    <tr>\n",
              "      <th>2</th>\n",
              "      <td>333</td>\n",
              "      <td>Mitch</td>\n",
              "      <td>10000</td>\n",
              "      <td>9</td>\n",
              "    </tr>\n",
              "    <tr>\n",
              "      <th>3</th>\n",
              "      <td>444</td>\n",
              "      <td>Ryan</td>\n",
              "      <td>2000</td>\n",
              "      <td>5</td>\n",
              "    </tr>\n",
              "  </tbody>\n",
              "</table>\n",
              "</div>"
            ],
            "text/plain": [
              "   Bank Client ID Bank Client Name  Net Worth [$]  Year with Bank\n",
              "0             111           Chanel           3500               3\n",
              "1             222            Steve          29000               4\n",
              "2             333            Mitch          10000               9\n",
              "3             444             Ryan           2000               5"
            ]
          },
          "metadata": {
            "tags": []
          },
          "execution_count": 50
        }
      ]
    },
    {
      "cell_type": "code",
      "metadata": {
        "id": "Pgt25eXmvFce"
      },
      "source": [
        "# Set inplace = True to ensure that change has taken place in memory \n",
        "bank_client_df.sort_values(by=['Year with Bank'], inplace=True)"
      ],
      "execution_count": 51,
      "outputs": []
    },
    {
      "cell_type": "code",
      "metadata": {
        "id": "jEw2Gw_hu7Fo",
        "outputId": "76c1152b-d9c9-4f1b-f0d6-7d7c7deccb3e",
        "colab": {
          "base_uri": "https://localhost:8080/",
          "height": 171
        }
      },
      "source": [
        "# Note that now the change (ordering) took place \n",
        "bank_client_df"
      ],
      "execution_count": 52,
      "outputs": [
        {
          "output_type": "execute_result",
          "data": {
            "text/html": [
              "<div>\n",
              "<style scoped>\n",
              "    .dataframe tbody tr th:only-of-type {\n",
              "        vertical-align: middle;\n",
              "    }\n",
              "\n",
              "    .dataframe tbody tr th {\n",
              "        vertical-align: top;\n",
              "    }\n",
              "\n",
              "    .dataframe thead th {\n",
              "        text-align: right;\n",
              "    }\n",
              "</style>\n",
              "<table border=\"1\" class=\"dataframe\">\n",
              "  <thead>\n",
              "    <tr style=\"text-align: right;\">\n",
              "      <th></th>\n",
              "      <th>Bank Client ID</th>\n",
              "      <th>Bank Client Name</th>\n",
              "      <th>Net Worth [$]</th>\n",
              "      <th>Year with Bank</th>\n",
              "    </tr>\n",
              "  </thead>\n",
              "  <tbody>\n",
              "    <tr>\n",
              "      <th>0</th>\n",
              "      <td>111</td>\n",
              "      <td>Chanel</td>\n",
              "      <td>3500</td>\n",
              "      <td>3</td>\n",
              "    </tr>\n",
              "    <tr>\n",
              "      <th>1</th>\n",
              "      <td>222</td>\n",
              "      <td>Steve</td>\n",
              "      <td>29000</td>\n",
              "      <td>4</td>\n",
              "    </tr>\n",
              "    <tr>\n",
              "      <th>3</th>\n",
              "      <td>444</td>\n",
              "      <td>Ryan</td>\n",
              "      <td>2000</td>\n",
              "      <td>5</td>\n",
              "    </tr>\n",
              "    <tr>\n",
              "      <th>2</th>\n",
              "      <td>333</td>\n",
              "      <td>Mitch</td>\n",
              "      <td>10000</td>\n",
              "      <td>9</td>\n",
              "    </tr>\n",
              "  </tbody>\n",
              "</table>\n",
              "</div>"
            ],
            "text/plain": [
              "   Bank Client ID Bank Client Name  Net Worth [$]  Year with Bank\n",
              "0             111           Chanel           3500               3\n",
              "1             222            Steve          29000               4\n",
              "3             444             Ryan           2000               5\n",
              "2             333            Mitch          10000               9"
            ]
          },
          "metadata": {
            "tags": []
          },
          "execution_count": 52
        }
      ]
    },
    {
      "cell_type": "markdown",
      "metadata": {
        "id": "7bV_Yaq46ZTg"
      },
      "source": [
        "**MINI CHALLENGE #5:**\n",
        "- **Sort customers by networth instead of years with bank. Make sure to update values in-memory.**"
      ]
    },
    {
      "cell_type": "code",
      "metadata": {
        "id": "BYCD1yGi6q2M"
      },
      "source": [
        "bank_client_df.sort_values(by=['Net Worth [$]'], inplace=True)"
      ],
      "execution_count": 53,
      "outputs": []
    },
    {
      "cell_type": "code",
      "metadata": {
        "id": "3Tp_IdSKvdXe",
        "outputId": "390ee7b1-2f91-44bd-fcdf-815766ee4104",
        "colab": {
          "base_uri": "https://localhost:8080/",
          "height": 171
        }
      },
      "source": [
        "bank_client_df"
      ],
      "execution_count": 54,
      "outputs": [
        {
          "output_type": "execute_result",
          "data": {
            "text/html": [
              "<div>\n",
              "<style scoped>\n",
              "    .dataframe tbody tr th:only-of-type {\n",
              "        vertical-align: middle;\n",
              "    }\n",
              "\n",
              "    .dataframe tbody tr th {\n",
              "        vertical-align: top;\n",
              "    }\n",
              "\n",
              "    .dataframe thead th {\n",
              "        text-align: right;\n",
              "    }\n",
              "</style>\n",
              "<table border=\"1\" class=\"dataframe\">\n",
              "  <thead>\n",
              "    <tr style=\"text-align: right;\">\n",
              "      <th></th>\n",
              "      <th>Bank Client ID</th>\n",
              "      <th>Bank Client Name</th>\n",
              "      <th>Net Worth [$]</th>\n",
              "      <th>Year with Bank</th>\n",
              "    </tr>\n",
              "  </thead>\n",
              "  <tbody>\n",
              "    <tr>\n",
              "      <th>3</th>\n",
              "      <td>444</td>\n",
              "      <td>Ryan</td>\n",
              "      <td>2000</td>\n",
              "      <td>5</td>\n",
              "    </tr>\n",
              "    <tr>\n",
              "      <th>0</th>\n",
              "      <td>111</td>\n",
              "      <td>Chanel</td>\n",
              "      <td>3500</td>\n",
              "      <td>3</td>\n",
              "    </tr>\n",
              "    <tr>\n",
              "      <th>2</th>\n",
              "      <td>333</td>\n",
              "      <td>Mitch</td>\n",
              "      <td>10000</td>\n",
              "      <td>9</td>\n",
              "    </tr>\n",
              "    <tr>\n",
              "      <th>1</th>\n",
              "      <td>222</td>\n",
              "      <td>Steve</td>\n",
              "      <td>29000</td>\n",
              "      <td>4</td>\n",
              "    </tr>\n",
              "  </tbody>\n",
              "</table>\n",
              "</div>"
            ],
            "text/plain": [
              "   Bank Client ID Bank Client Name  Net Worth [$]  Year with Bank\n",
              "3             444             Ryan           2000               5\n",
              "0             111           Chanel           3500               3\n",
              "2             333            Mitch          10000               9\n",
              "1             222            Steve          29000               4"
            ]
          },
          "metadata": {
            "tags": []
          },
          "execution_count": 54
        }
      ]
    },
    {
      "cell_type": "markdown",
      "metadata": {
        "id": "XAix4DVfvKGe"
      },
      "source": [
        "# 6. CONCATENATING AND MERGING WITH PANDAS"
      ]
    },
    {
      "cell_type": "markdown",
      "metadata": {
        "id": "eMBioTTMvWXI"
      },
      "source": [
        "Check this out: https://pandas.pydata.org/pandas-docs/stable/user_guide/merging.html"
      ]
    },
    {
      "cell_type": "code",
      "metadata": {
        "id": "b1zfk3Euu7Bx"
      },
      "source": [
        "df1 = pd.DataFrame({'A': ['A0', 'A1', 'A2', 'A3'],\n",
        "                    'B': ['B0', 'B1', 'B2', 'B3'],\n",
        "                    'C': ['C0', 'C1', 'C2', 'C3'],\n",
        "                    'D': ['D0', 'D1', 'D2', 'D3']},\n",
        "                    index=[0, 1, 2, 3])"
      ],
      "execution_count": 3,
      "outputs": []
    },
    {
      "cell_type": "code",
      "metadata": {
        "id": "MfimJ_PPvQIA",
        "outputId": "882d3312-6dbf-4945-aef4-fb90e17e0ddc",
        "colab": {
          "base_uri": "https://localhost:8080/",
          "height": 171
        }
      },
      "source": [
        "df1"
      ],
      "execution_count": 4,
      "outputs": [
        {
          "output_type": "execute_result",
          "data": {
            "text/html": [
              "<div>\n",
              "<style scoped>\n",
              "    .dataframe tbody tr th:only-of-type {\n",
              "        vertical-align: middle;\n",
              "    }\n",
              "\n",
              "    .dataframe tbody tr th {\n",
              "        vertical-align: top;\n",
              "    }\n",
              "\n",
              "    .dataframe thead th {\n",
              "        text-align: right;\n",
              "    }\n",
              "</style>\n",
              "<table border=\"1\" class=\"dataframe\">\n",
              "  <thead>\n",
              "    <tr style=\"text-align: right;\">\n",
              "      <th></th>\n",
              "      <th>A</th>\n",
              "      <th>B</th>\n",
              "      <th>C</th>\n",
              "      <th>D</th>\n",
              "    </tr>\n",
              "  </thead>\n",
              "  <tbody>\n",
              "    <tr>\n",
              "      <th>0</th>\n",
              "      <td>A0</td>\n",
              "      <td>B0</td>\n",
              "      <td>C0</td>\n",
              "      <td>D0</td>\n",
              "    </tr>\n",
              "    <tr>\n",
              "      <th>1</th>\n",
              "      <td>A1</td>\n",
              "      <td>B1</td>\n",
              "      <td>C1</td>\n",
              "      <td>D1</td>\n",
              "    </tr>\n",
              "    <tr>\n",
              "      <th>2</th>\n",
              "      <td>A2</td>\n",
              "      <td>B2</td>\n",
              "      <td>C2</td>\n",
              "      <td>D2</td>\n",
              "    </tr>\n",
              "    <tr>\n",
              "      <th>3</th>\n",
              "      <td>A3</td>\n",
              "      <td>B3</td>\n",
              "      <td>C3</td>\n",
              "      <td>D3</td>\n",
              "    </tr>\n",
              "  </tbody>\n",
              "</table>\n",
              "</div>"
            ],
            "text/plain": [
              "    A   B   C   D\n",
              "0  A0  B0  C0  D0\n",
              "1  A1  B1  C1  D1\n",
              "2  A2  B2  C2  D2\n",
              "3  A3  B3  C3  D3"
            ]
          },
          "metadata": {
            "tags": []
          },
          "execution_count": 4
        }
      ]
    },
    {
      "cell_type": "code",
      "metadata": {
        "id": "dKyIG2MjvQKN"
      },
      "source": [
        "df2 = pd.DataFrame({'A': ['A4', 'A5', 'A6', 'A7'],\n",
        "                    'B': ['B4', 'B5', 'B6', 'B7'],\n",
        "                    'C': ['C4', 'C5', 'C6', 'C7'],\n",
        "                    'D': ['D4', 'D5', 'D6', 'D7']},\n",
        "                    index=[4, 5, 6, 7])"
      ],
      "execution_count": 5,
      "outputs": []
    },
    {
      "cell_type": "code",
      "metadata": {
        "id": "wNuUFBsqvQMU",
        "outputId": "e2ad657b-bc2d-40f7-b3f7-4adc7ebe4079",
        "colab": {
          "base_uri": "https://localhost:8080/",
          "height": 171
        }
      },
      "source": [
        "df2"
      ],
      "execution_count": 6,
      "outputs": [
        {
          "output_type": "execute_result",
          "data": {
            "text/html": [
              "<div>\n",
              "<style scoped>\n",
              "    .dataframe tbody tr th:only-of-type {\n",
              "        vertical-align: middle;\n",
              "    }\n",
              "\n",
              "    .dataframe tbody tr th {\n",
              "        vertical-align: top;\n",
              "    }\n",
              "\n",
              "    .dataframe thead th {\n",
              "        text-align: right;\n",
              "    }\n",
              "</style>\n",
              "<table border=\"1\" class=\"dataframe\">\n",
              "  <thead>\n",
              "    <tr style=\"text-align: right;\">\n",
              "      <th></th>\n",
              "      <th>A</th>\n",
              "      <th>B</th>\n",
              "      <th>C</th>\n",
              "      <th>D</th>\n",
              "    </tr>\n",
              "  </thead>\n",
              "  <tbody>\n",
              "    <tr>\n",
              "      <th>4</th>\n",
              "      <td>A4</td>\n",
              "      <td>B4</td>\n",
              "      <td>C4</td>\n",
              "      <td>D4</td>\n",
              "    </tr>\n",
              "    <tr>\n",
              "      <th>5</th>\n",
              "      <td>A5</td>\n",
              "      <td>B5</td>\n",
              "      <td>C5</td>\n",
              "      <td>D5</td>\n",
              "    </tr>\n",
              "    <tr>\n",
              "      <th>6</th>\n",
              "      <td>A6</td>\n",
              "      <td>B6</td>\n",
              "      <td>C6</td>\n",
              "      <td>D6</td>\n",
              "    </tr>\n",
              "    <tr>\n",
              "      <th>7</th>\n",
              "      <td>A7</td>\n",
              "      <td>B7</td>\n",
              "      <td>C7</td>\n",
              "      <td>D7</td>\n",
              "    </tr>\n",
              "  </tbody>\n",
              "</table>\n",
              "</div>"
            ],
            "text/plain": [
              "    A   B   C   D\n",
              "4  A4  B4  C4  D4\n",
              "5  A5  B5  C5  D5\n",
              "6  A6  B6  C6  D6\n",
              "7  A7  B7  C7  D7"
            ]
          },
          "metadata": {
            "tags": []
          },
          "execution_count": 6
        }
      ]
    },
    {
      "cell_type": "code",
      "metadata": {
        "id": "BTmgXXvzvcKq"
      },
      "source": [
        "df3 = pd.DataFrame({'A': ['A8', 'A9', 'A10', 'A11'],\n",
        "                    'B': ['B8', 'B9', 'B10', 'B11'],\n",
        "                    'C': ['C8', 'C9', 'C10', 'C11'],\n",
        "                    'D': ['D8', 'D9', 'D10', 'D11']},\n",
        "                    index=[8, 9, 10, 11])"
      ],
      "execution_count": 7,
      "outputs": []
    },
    {
      "cell_type": "code",
      "metadata": {
        "id": "wI10aNahvcM1",
        "outputId": "111245f1-cbd5-492b-b3bf-02ec815cedba",
        "colab": {
          "base_uri": "https://localhost:8080/",
          "height": 171
        }
      },
      "source": [
        "df3"
      ],
      "execution_count": 8,
      "outputs": [
        {
          "output_type": "execute_result",
          "data": {
            "text/html": [
              "<div>\n",
              "<style scoped>\n",
              "    .dataframe tbody tr th:only-of-type {\n",
              "        vertical-align: middle;\n",
              "    }\n",
              "\n",
              "    .dataframe tbody tr th {\n",
              "        vertical-align: top;\n",
              "    }\n",
              "\n",
              "    .dataframe thead th {\n",
              "        text-align: right;\n",
              "    }\n",
              "</style>\n",
              "<table border=\"1\" class=\"dataframe\">\n",
              "  <thead>\n",
              "    <tr style=\"text-align: right;\">\n",
              "      <th></th>\n",
              "      <th>A</th>\n",
              "      <th>B</th>\n",
              "      <th>C</th>\n",
              "      <th>D</th>\n",
              "    </tr>\n",
              "  </thead>\n",
              "  <tbody>\n",
              "    <tr>\n",
              "      <th>8</th>\n",
              "      <td>A8</td>\n",
              "      <td>B8</td>\n",
              "      <td>C8</td>\n",
              "      <td>D8</td>\n",
              "    </tr>\n",
              "    <tr>\n",
              "      <th>9</th>\n",
              "      <td>A9</td>\n",
              "      <td>B9</td>\n",
              "      <td>C9</td>\n",
              "      <td>D9</td>\n",
              "    </tr>\n",
              "    <tr>\n",
              "      <th>10</th>\n",
              "      <td>A10</td>\n",
              "      <td>B10</td>\n",
              "      <td>C10</td>\n",
              "      <td>D10</td>\n",
              "    </tr>\n",
              "    <tr>\n",
              "      <th>11</th>\n",
              "      <td>A11</td>\n",
              "      <td>B11</td>\n",
              "      <td>C11</td>\n",
              "      <td>D11</td>\n",
              "    </tr>\n",
              "  </tbody>\n",
              "</table>\n",
              "</div>"
            ],
            "text/plain": [
              "      A    B    C    D\n",
              "8    A8   B8   C8   D8\n",
              "9    A9   B9   C9   D9\n",
              "10  A10  B10  C10  D10\n",
              "11  A11  B11  C11  D11"
            ]
          },
          "metadata": {
            "tags": []
          },
          "execution_count": 8
        }
      ]
    },
    {
      "cell_type": "code",
      "metadata": {
        "id": "ljXyrXSjvcPG",
        "outputId": "e9c511eb-0501-414d-ff0c-245e0dd87577",
        "colab": {
          "base_uri": "https://localhost:8080/",
          "height": 417
        }
      },
      "source": [
        "pd.concat([df1, df2, df3])"
      ],
      "execution_count": 9,
      "outputs": [
        {
          "output_type": "execute_result",
          "data": {
            "text/html": [
              "<div>\n",
              "<style scoped>\n",
              "    .dataframe tbody tr th:only-of-type {\n",
              "        vertical-align: middle;\n",
              "    }\n",
              "\n",
              "    .dataframe tbody tr th {\n",
              "        vertical-align: top;\n",
              "    }\n",
              "\n",
              "    .dataframe thead th {\n",
              "        text-align: right;\n",
              "    }\n",
              "</style>\n",
              "<table border=\"1\" class=\"dataframe\">\n",
              "  <thead>\n",
              "    <tr style=\"text-align: right;\">\n",
              "      <th></th>\n",
              "      <th>A</th>\n",
              "      <th>B</th>\n",
              "      <th>C</th>\n",
              "      <th>D</th>\n",
              "    </tr>\n",
              "  </thead>\n",
              "  <tbody>\n",
              "    <tr>\n",
              "      <th>0</th>\n",
              "      <td>A0</td>\n",
              "      <td>B0</td>\n",
              "      <td>C0</td>\n",
              "      <td>D0</td>\n",
              "    </tr>\n",
              "    <tr>\n",
              "      <th>1</th>\n",
              "      <td>A1</td>\n",
              "      <td>B1</td>\n",
              "      <td>C1</td>\n",
              "      <td>D1</td>\n",
              "    </tr>\n",
              "    <tr>\n",
              "      <th>2</th>\n",
              "      <td>A2</td>\n",
              "      <td>B2</td>\n",
              "      <td>C2</td>\n",
              "      <td>D2</td>\n",
              "    </tr>\n",
              "    <tr>\n",
              "      <th>3</th>\n",
              "      <td>A3</td>\n",
              "      <td>B3</td>\n",
              "      <td>C3</td>\n",
              "      <td>D3</td>\n",
              "    </tr>\n",
              "    <tr>\n",
              "      <th>4</th>\n",
              "      <td>A4</td>\n",
              "      <td>B4</td>\n",
              "      <td>C4</td>\n",
              "      <td>D4</td>\n",
              "    </tr>\n",
              "    <tr>\n",
              "      <th>5</th>\n",
              "      <td>A5</td>\n",
              "      <td>B5</td>\n",
              "      <td>C5</td>\n",
              "      <td>D5</td>\n",
              "    </tr>\n",
              "    <tr>\n",
              "      <th>6</th>\n",
              "      <td>A6</td>\n",
              "      <td>B6</td>\n",
              "      <td>C6</td>\n",
              "      <td>D6</td>\n",
              "    </tr>\n",
              "    <tr>\n",
              "      <th>7</th>\n",
              "      <td>A7</td>\n",
              "      <td>B7</td>\n",
              "      <td>C7</td>\n",
              "      <td>D7</td>\n",
              "    </tr>\n",
              "    <tr>\n",
              "      <th>8</th>\n",
              "      <td>A8</td>\n",
              "      <td>B8</td>\n",
              "      <td>C8</td>\n",
              "      <td>D8</td>\n",
              "    </tr>\n",
              "    <tr>\n",
              "      <th>9</th>\n",
              "      <td>A9</td>\n",
              "      <td>B9</td>\n",
              "      <td>C9</td>\n",
              "      <td>D9</td>\n",
              "    </tr>\n",
              "    <tr>\n",
              "      <th>10</th>\n",
              "      <td>A10</td>\n",
              "      <td>B10</td>\n",
              "      <td>C10</td>\n",
              "      <td>D10</td>\n",
              "    </tr>\n",
              "    <tr>\n",
              "      <th>11</th>\n",
              "      <td>A11</td>\n",
              "      <td>B11</td>\n",
              "      <td>C11</td>\n",
              "      <td>D11</td>\n",
              "    </tr>\n",
              "  </tbody>\n",
              "</table>\n",
              "</div>"
            ],
            "text/plain": [
              "      A    B    C    D\n",
              "0    A0   B0   C0   D0\n",
              "1    A1   B1   C1   D1\n",
              "2    A2   B2   C2   D2\n",
              "3    A3   B3   C3   D3\n",
              "4    A4   B4   C4   D4\n",
              "5    A5   B5   C5   D5\n",
              "6    A6   B6   C6   D6\n",
              "7    A7   B7   C7   D7\n",
              "8    A8   B8   C8   D8\n",
              "9    A9   B9   C9   D9\n",
              "10  A10  B10  C10  D10\n",
              "11  A11  B11  C11  D11"
            ]
          },
          "metadata": {
            "tags": []
          },
          "execution_count": 9
        }
      ]
    },
    {
      "cell_type": "code",
      "metadata": {
        "id": "4_KBD8YGvcRV",
        "outputId": "c5bed447-e5ff-45a5-8562-0ce92bbac857",
        "colab": {
          "base_uri": "https://localhost:8080/"
        }
      },
      "source": [
        "# Creating a dataframe from a dictionary\n",
        "# Let's define a dataframe with a list of bank clients with IDs = 1, 2, 3, 4, 5 \n",
        "\n",
        "raw_data = {'Bank Client ID': ['1', '2', '3', '4', '5'],\n",
        "            'First Name': ['Nancy', 'Alex', 'Shep', 'Max', 'Allen'],\n",
        "            'Last Name': ['Rob', 'Ali', 'George', 'Mitch', 'Steve']}\n",
        "raw_data"
      ],
      "execution_count": 58,
      "outputs": [
        {
          "output_type": "execute_result",
          "data": {
            "text/plain": [
              "{'Bank Client ID': ['1', '2', '3', '4', '5'],\n",
              " 'First Name': ['Nancy', 'Alex', 'Shep', 'Max', 'Allen'],\n",
              " 'Last Name': ['Rob', 'Ali', 'George', 'Mitch', 'Steve']}"
            ]
          },
          "metadata": {
            "tags": []
          },
          "execution_count": 58
        }
      ]
    },
    {
      "cell_type": "code",
      "metadata": {
        "id": "bVVjCOCAwubr",
        "outputId": "46403ee2-20cc-4c8c-c689-306f63b30946",
        "colab": {
          "base_uri": "https://localhost:8080/",
          "height": 202
        }
      },
      "source": [
        "bank_df_1 = pd.DataFrame(raw_data, columns=['Bank Client ID', 'First Name', 'Last Name'])\n",
        "bank_df_1"
      ],
      "execution_count": 59,
      "outputs": [
        {
          "output_type": "execute_result",
          "data": {
            "text/html": [
              "<div>\n",
              "<style scoped>\n",
              "    .dataframe tbody tr th:only-of-type {\n",
              "        vertical-align: middle;\n",
              "    }\n",
              "\n",
              "    .dataframe tbody tr th {\n",
              "        vertical-align: top;\n",
              "    }\n",
              "\n",
              "    .dataframe thead th {\n",
              "        text-align: right;\n",
              "    }\n",
              "</style>\n",
              "<table border=\"1\" class=\"dataframe\">\n",
              "  <thead>\n",
              "    <tr style=\"text-align: right;\">\n",
              "      <th></th>\n",
              "      <th>Bank Client ID</th>\n",
              "      <th>First Name</th>\n",
              "      <th>Last Name</th>\n",
              "    </tr>\n",
              "  </thead>\n",
              "  <tbody>\n",
              "    <tr>\n",
              "      <th>0</th>\n",
              "      <td>1</td>\n",
              "      <td>Nancy</td>\n",
              "      <td>Rob</td>\n",
              "    </tr>\n",
              "    <tr>\n",
              "      <th>1</th>\n",
              "      <td>2</td>\n",
              "      <td>Alex</td>\n",
              "      <td>Ali</td>\n",
              "    </tr>\n",
              "    <tr>\n",
              "      <th>2</th>\n",
              "      <td>3</td>\n",
              "      <td>Shep</td>\n",
              "      <td>George</td>\n",
              "    </tr>\n",
              "    <tr>\n",
              "      <th>3</th>\n",
              "      <td>4</td>\n",
              "      <td>Max</td>\n",
              "      <td>Mitch</td>\n",
              "    </tr>\n",
              "    <tr>\n",
              "      <th>4</th>\n",
              "      <td>5</td>\n",
              "      <td>Allen</td>\n",
              "      <td>Steve</td>\n",
              "    </tr>\n",
              "  </tbody>\n",
              "</table>\n",
              "</div>"
            ],
            "text/plain": [
              "  Bank Client ID First Name Last Name\n",
              "0              1      Nancy       Rob\n",
              "1              2       Alex       Ali\n",
              "2              3       Shep    George\n",
              "3              4        Max     Mitch\n",
              "4              5      Allen     Steve"
            ]
          },
          "metadata": {
            "tags": []
          },
          "execution_count": 59
        }
      ]
    },
    {
      "cell_type": "code",
      "metadata": {
        "id": "wq_TBWkvvgNE",
        "outputId": "cfad3360-f1c9-4e98-871b-1cc71fe49bb7",
        "colab": {
          "base_uri": "https://localhost:8080/"
        }
      },
      "source": [
        "# Let's define another dataframe for a separate list of clients (IDs = 6, 7, 8, 9, 10)\n",
        "raw_data_2 = {'Bank Client ID': ['6', '7', '8', '9', '10'],\n",
        "            'First Name': ['Bill', 'Dina', 'Sarah', 'Heather', 'Holly'],\n",
        "            'Last Name': ['Novak', 'Mo', 'Larsen', 'Iron', 'Sailer']}\n",
        "raw_data_2"
      ],
      "execution_count": 60,
      "outputs": [
        {
          "output_type": "execute_result",
          "data": {
            "text/plain": [
              "{'Bank Client ID': ['6', '7', '8', '9', '10'],\n",
              " 'First Name': ['Bill', 'Dina', 'Sarah', 'Heather', 'Holly'],\n",
              " 'Last Name': ['Novak', 'Mo', 'Larsen', 'Iron', 'Sailer']}"
            ]
          },
          "metadata": {
            "tags": []
          },
          "execution_count": 60
        }
      ]
    },
    {
      "cell_type": "code",
      "metadata": {
        "id": "8ZAYvhwld5Ny",
        "outputId": "a5def410-81e7-430b-f4be-651a8e3bb7e4",
        "colab": {
          "base_uri": "https://localhost:8080/",
          "height": 202
        }
      },
      "source": [
        "bank_df_2 = pd.DataFrame(raw_data_2, columns=['Bank Client ID', 'First Name', 'Last Name'])\n",
        "bank_df_2"
      ],
      "execution_count": 61,
      "outputs": [
        {
          "output_type": "execute_result",
          "data": {
            "text/html": [
              "<div>\n",
              "<style scoped>\n",
              "    .dataframe tbody tr th:only-of-type {\n",
              "        vertical-align: middle;\n",
              "    }\n",
              "\n",
              "    .dataframe tbody tr th {\n",
              "        vertical-align: top;\n",
              "    }\n",
              "\n",
              "    .dataframe thead th {\n",
              "        text-align: right;\n",
              "    }\n",
              "</style>\n",
              "<table border=\"1\" class=\"dataframe\">\n",
              "  <thead>\n",
              "    <tr style=\"text-align: right;\">\n",
              "      <th></th>\n",
              "      <th>Bank Client ID</th>\n",
              "      <th>First Name</th>\n",
              "      <th>Last Name</th>\n",
              "    </tr>\n",
              "  </thead>\n",
              "  <tbody>\n",
              "    <tr>\n",
              "      <th>0</th>\n",
              "      <td>6</td>\n",
              "      <td>Bill</td>\n",
              "      <td>Novak</td>\n",
              "    </tr>\n",
              "    <tr>\n",
              "      <th>1</th>\n",
              "      <td>7</td>\n",
              "      <td>Dina</td>\n",
              "      <td>Mo</td>\n",
              "    </tr>\n",
              "    <tr>\n",
              "      <th>2</th>\n",
              "      <td>8</td>\n",
              "      <td>Sarah</td>\n",
              "      <td>Larsen</td>\n",
              "    </tr>\n",
              "    <tr>\n",
              "      <th>3</th>\n",
              "      <td>9</td>\n",
              "      <td>Heather</td>\n",
              "      <td>Iron</td>\n",
              "    </tr>\n",
              "    <tr>\n",
              "      <th>4</th>\n",
              "      <td>10</td>\n",
              "      <td>Holly</td>\n",
              "      <td>Sailer</td>\n",
              "    </tr>\n",
              "  </tbody>\n",
              "</table>\n",
              "</div>"
            ],
            "text/plain": [
              "  Bank Client ID First Name Last Name\n",
              "0              6       Bill     Novak\n",
              "1              7       Dina        Mo\n",
              "2              8      Sarah    Larsen\n",
              "3              9    Heather      Iron\n",
              "4             10      Holly    Sailer"
            ]
          },
          "metadata": {
            "tags": []
          },
          "execution_count": 61
        }
      ]
    },
    {
      "cell_type": "code",
      "metadata": {
        "id": "zRgyJPjivgPZ",
        "outputId": "5906413a-cbcd-4d53-cd47-d83842945f74",
        "colab": {
          "base_uri": "https://localhost:8080/",
          "height": 355
        }
      },
      "source": [
        "# Let's assume we obtained additional information (Annual Salary) about our bank customers \n",
        "# Note that data obtained is for all clients with IDs 1 to 10\n",
        "salary_data = {'Bank Client ID': ['1', '2', '3', '4', '5', '6', '7', '8', '9', '10'],\n",
        "               'Annual Salary [$/y]': [25000, 35000, 45000, 50000, 55000, 65000, 70000, 75000, 85000, 95000]}\n",
        "\n",
        "bank_df_salary = pd.DataFrame(salary_data, columns=['Bank Client ID', 'Annual Salary [$/y]'])\n",
        "bank_df_salary"
      ],
      "execution_count": 62,
      "outputs": [
        {
          "output_type": "execute_result",
          "data": {
            "text/html": [
              "<div>\n",
              "<style scoped>\n",
              "    .dataframe tbody tr th:only-of-type {\n",
              "        vertical-align: middle;\n",
              "    }\n",
              "\n",
              "    .dataframe tbody tr th {\n",
              "        vertical-align: top;\n",
              "    }\n",
              "\n",
              "    .dataframe thead th {\n",
              "        text-align: right;\n",
              "    }\n",
              "</style>\n",
              "<table border=\"1\" class=\"dataframe\">\n",
              "  <thead>\n",
              "    <tr style=\"text-align: right;\">\n",
              "      <th></th>\n",
              "      <th>Bank Client ID</th>\n",
              "      <th>Annual Salary [$/y]</th>\n",
              "    </tr>\n",
              "  </thead>\n",
              "  <tbody>\n",
              "    <tr>\n",
              "      <th>0</th>\n",
              "      <td>1</td>\n",
              "      <td>25000</td>\n",
              "    </tr>\n",
              "    <tr>\n",
              "      <th>1</th>\n",
              "      <td>2</td>\n",
              "      <td>35000</td>\n",
              "    </tr>\n",
              "    <tr>\n",
              "      <th>2</th>\n",
              "      <td>3</td>\n",
              "      <td>45000</td>\n",
              "    </tr>\n",
              "    <tr>\n",
              "      <th>3</th>\n",
              "      <td>4</td>\n",
              "      <td>50000</td>\n",
              "    </tr>\n",
              "    <tr>\n",
              "      <th>4</th>\n",
              "      <td>5</td>\n",
              "      <td>55000</td>\n",
              "    </tr>\n",
              "    <tr>\n",
              "      <th>5</th>\n",
              "      <td>6</td>\n",
              "      <td>65000</td>\n",
              "    </tr>\n",
              "    <tr>\n",
              "      <th>6</th>\n",
              "      <td>7</td>\n",
              "      <td>70000</td>\n",
              "    </tr>\n",
              "    <tr>\n",
              "      <th>7</th>\n",
              "      <td>8</td>\n",
              "      <td>75000</td>\n",
              "    </tr>\n",
              "    <tr>\n",
              "      <th>8</th>\n",
              "      <td>9</td>\n",
              "      <td>85000</td>\n",
              "    </tr>\n",
              "    <tr>\n",
              "      <th>9</th>\n",
              "      <td>10</td>\n",
              "      <td>95000</td>\n",
              "    </tr>\n",
              "  </tbody>\n",
              "</table>\n",
              "</div>"
            ],
            "text/plain": [
              "  Bank Client ID  Annual Salary [$/y]\n",
              "0              1                25000\n",
              "1              2                35000\n",
              "2              3                45000\n",
              "3              4                50000\n",
              "4              5                55000\n",
              "5              6                65000\n",
              "6              7                70000\n",
              "7              8                75000\n",
              "8              9                85000\n",
              "9             10                95000"
            ]
          },
          "metadata": {
            "tags": []
          },
          "execution_count": 62
        }
      ]
    },
    {
      "cell_type": "code",
      "metadata": {
        "id": "i2X65wc0vidf",
        "outputId": "38036865-dc5e-4cba-be0f-f7bd4a92543d",
        "colab": {
          "base_uri": "https://localhost:8080/",
          "height": 355
        }
      },
      "source": [
        "# Let's concatenate both dataframes #1 and #2\n",
        "# Note that we now have client IDs from 1 to 10\n",
        "bank_df_all = pd.concat([bank_df_1, bank_df_2])\n",
        "bank_df_all"
      ],
      "execution_count": 63,
      "outputs": [
        {
          "output_type": "execute_result",
          "data": {
            "text/html": [
              "<div>\n",
              "<style scoped>\n",
              "    .dataframe tbody tr th:only-of-type {\n",
              "        vertical-align: middle;\n",
              "    }\n",
              "\n",
              "    .dataframe tbody tr th {\n",
              "        vertical-align: top;\n",
              "    }\n",
              "\n",
              "    .dataframe thead th {\n",
              "        text-align: right;\n",
              "    }\n",
              "</style>\n",
              "<table border=\"1\" class=\"dataframe\">\n",
              "  <thead>\n",
              "    <tr style=\"text-align: right;\">\n",
              "      <th></th>\n",
              "      <th>Bank Client ID</th>\n",
              "      <th>First Name</th>\n",
              "      <th>Last Name</th>\n",
              "    </tr>\n",
              "  </thead>\n",
              "  <tbody>\n",
              "    <tr>\n",
              "      <th>0</th>\n",
              "      <td>1</td>\n",
              "      <td>Nancy</td>\n",
              "      <td>Rob</td>\n",
              "    </tr>\n",
              "    <tr>\n",
              "      <th>1</th>\n",
              "      <td>2</td>\n",
              "      <td>Alex</td>\n",
              "      <td>Ali</td>\n",
              "    </tr>\n",
              "    <tr>\n",
              "      <th>2</th>\n",
              "      <td>3</td>\n",
              "      <td>Shep</td>\n",
              "      <td>George</td>\n",
              "    </tr>\n",
              "    <tr>\n",
              "      <th>3</th>\n",
              "      <td>4</td>\n",
              "      <td>Max</td>\n",
              "      <td>Mitch</td>\n",
              "    </tr>\n",
              "    <tr>\n",
              "      <th>4</th>\n",
              "      <td>5</td>\n",
              "      <td>Allen</td>\n",
              "      <td>Steve</td>\n",
              "    </tr>\n",
              "    <tr>\n",
              "      <th>0</th>\n",
              "      <td>6</td>\n",
              "      <td>Bill</td>\n",
              "      <td>Novak</td>\n",
              "    </tr>\n",
              "    <tr>\n",
              "      <th>1</th>\n",
              "      <td>7</td>\n",
              "      <td>Dina</td>\n",
              "      <td>Mo</td>\n",
              "    </tr>\n",
              "    <tr>\n",
              "      <th>2</th>\n",
              "      <td>8</td>\n",
              "      <td>Sarah</td>\n",
              "      <td>Larsen</td>\n",
              "    </tr>\n",
              "    <tr>\n",
              "      <th>3</th>\n",
              "      <td>9</td>\n",
              "      <td>Heather</td>\n",
              "      <td>Iron</td>\n",
              "    </tr>\n",
              "    <tr>\n",
              "      <th>4</th>\n",
              "      <td>10</td>\n",
              "      <td>Holly</td>\n",
              "      <td>Sailer</td>\n",
              "    </tr>\n",
              "  </tbody>\n",
              "</table>\n",
              "</div>"
            ],
            "text/plain": [
              "  Bank Client ID First Name Last Name\n",
              "0              1      Nancy       Rob\n",
              "1              2       Alex       Ali\n",
              "2              3       Shep    George\n",
              "3              4        Max     Mitch\n",
              "4              5      Allen     Steve\n",
              "0              6       Bill     Novak\n",
              "1              7       Dina        Mo\n",
              "2              8      Sarah    Larsen\n",
              "3              9    Heather      Iron\n",
              "4             10      Holly    Sailer"
            ]
          },
          "metadata": {
            "tags": []
          },
          "execution_count": 63
        }
      ]
    },
    {
      "cell_type": "code",
      "metadata": {
        "id": "9bgjH8mkvQOY"
      },
      "source": [
        "# Let's merge all data on 'Bank Client ID'\n",
        "bank_df_all = pd.merge(bank_df_all, bank_df_salary, on='Bank Client ID')"
      ],
      "execution_count": 64,
      "outputs": []
    },
    {
      "cell_type": "code",
      "metadata": {
        "id": "5g5tCggp9gce",
        "outputId": "33ba7251-feaf-4e01-9cc1-a8c93d108ce9",
        "colab": {
          "base_uri": "https://localhost:8080/",
          "height": 355
        }
      },
      "source": [
        "bank_df_all"
      ],
      "execution_count": 65,
      "outputs": [
        {
          "output_type": "execute_result",
          "data": {
            "text/html": [
              "<div>\n",
              "<style scoped>\n",
              "    .dataframe tbody tr th:only-of-type {\n",
              "        vertical-align: middle;\n",
              "    }\n",
              "\n",
              "    .dataframe tbody tr th {\n",
              "        vertical-align: top;\n",
              "    }\n",
              "\n",
              "    .dataframe thead th {\n",
              "        text-align: right;\n",
              "    }\n",
              "</style>\n",
              "<table border=\"1\" class=\"dataframe\">\n",
              "  <thead>\n",
              "    <tr style=\"text-align: right;\">\n",
              "      <th></th>\n",
              "      <th>Bank Client ID</th>\n",
              "      <th>First Name</th>\n",
              "      <th>Last Name</th>\n",
              "      <th>Annual Salary [$/y]</th>\n",
              "    </tr>\n",
              "  </thead>\n",
              "  <tbody>\n",
              "    <tr>\n",
              "      <th>0</th>\n",
              "      <td>1</td>\n",
              "      <td>Nancy</td>\n",
              "      <td>Rob</td>\n",
              "      <td>25000</td>\n",
              "    </tr>\n",
              "    <tr>\n",
              "      <th>1</th>\n",
              "      <td>2</td>\n",
              "      <td>Alex</td>\n",
              "      <td>Ali</td>\n",
              "      <td>35000</td>\n",
              "    </tr>\n",
              "    <tr>\n",
              "      <th>2</th>\n",
              "      <td>3</td>\n",
              "      <td>Shep</td>\n",
              "      <td>George</td>\n",
              "      <td>45000</td>\n",
              "    </tr>\n",
              "    <tr>\n",
              "      <th>3</th>\n",
              "      <td>4</td>\n",
              "      <td>Max</td>\n",
              "      <td>Mitch</td>\n",
              "      <td>50000</td>\n",
              "    </tr>\n",
              "    <tr>\n",
              "      <th>4</th>\n",
              "      <td>5</td>\n",
              "      <td>Allen</td>\n",
              "      <td>Steve</td>\n",
              "      <td>55000</td>\n",
              "    </tr>\n",
              "    <tr>\n",
              "      <th>5</th>\n",
              "      <td>6</td>\n",
              "      <td>Bill</td>\n",
              "      <td>Novak</td>\n",
              "      <td>65000</td>\n",
              "    </tr>\n",
              "    <tr>\n",
              "      <th>6</th>\n",
              "      <td>7</td>\n",
              "      <td>Dina</td>\n",
              "      <td>Mo</td>\n",
              "      <td>70000</td>\n",
              "    </tr>\n",
              "    <tr>\n",
              "      <th>7</th>\n",
              "      <td>8</td>\n",
              "      <td>Sarah</td>\n",
              "      <td>Larsen</td>\n",
              "      <td>75000</td>\n",
              "    </tr>\n",
              "    <tr>\n",
              "      <th>8</th>\n",
              "      <td>9</td>\n",
              "      <td>Heather</td>\n",
              "      <td>Iron</td>\n",
              "      <td>85000</td>\n",
              "    </tr>\n",
              "    <tr>\n",
              "      <th>9</th>\n",
              "      <td>10</td>\n",
              "      <td>Holly</td>\n",
              "      <td>Sailer</td>\n",
              "      <td>95000</td>\n",
              "    </tr>\n",
              "  </tbody>\n",
              "</table>\n",
              "</div>"
            ],
            "text/plain": [
              "  Bank Client ID First Name Last Name  Annual Salary [$/y]\n",
              "0              1      Nancy       Rob                25000\n",
              "1              2       Alex       Ali                35000\n",
              "2              3       Shep    George                45000\n",
              "3              4        Max     Mitch                50000\n",
              "4              5      Allen     Steve                55000\n",
              "5              6       Bill     Novak                65000\n",
              "6              7       Dina        Mo                70000\n",
              "7              8      Sarah    Larsen                75000\n",
              "8              9    Heather      Iron                85000\n",
              "9             10      Holly    Sailer                95000"
            ]
          },
          "metadata": {
            "tags": []
          },
          "execution_count": 65
        }
      ]
    },
    {
      "cell_type": "markdown",
      "metadata": {
        "id": "Wm5PRpCM-2pK"
      },
      "source": [
        "**MINI CHALLENGE #6:**\n",
        "- **Let's assume that you became a new client to the bank**\n",
        "- **Define a new DataFrame that contains your information such as client ID (choose 11), first name, last name, and annual salary.**\n",
        "- **Add this new dataframe to the original dataframe \"bank_df_all\".** "
      ]
    },
    {
      "cell_type": "code",
      "metadata": {
        "id": "WpoFZeCt_g0c",
        "outputId": "d4ec228d-4311-42a6-818e-276ba666beaf",
        "colab": {
          "base_uri": "https://localhost:8080/"
        }
      },
      "source": [
        "my_data = {'Bank Client ID': [11],\n",
        "           'First Name': ['John'],\n",
        "           'Last Name': ['Snow'],\n",
        "           'Annual Salary [$/y]': [120000]}\n",
        "my_data"
      ],
      "execution_count": 66,
      "outputs": [
        {
          "output_type": "execute_result",
          "data": {
            "text/plain": [
              "{'Annual Salary [$/y]': [120000],\n",
              " 'Bank Client ID': [11],\n",
              " 'First Name': ['John'],\n",
              " 'Last Name': ['Snow']}"
            ]
          },
          "metadata": {
            "tags": []
          },
          "execution_count": 66
        }
      ]
    },
    {
      "cell_type": "code",
      "metadata": {
        "id": "WcmoZpFt0-fW",
        "outputId": "6cb34587-c2f3-41af-c719-3275bf43eca0",
        "colab": {
          "base_uri": "https://localhost:8080/",
          "height": 79
        }
      },
      "source": [
        "my_df = pd.DataFrame(my_data, columns=['Bank Client ID', 'First Name', 'Last Name', 'Annual Salary [$/y]'])\n",
        "my_df"
      ],
      "execution_count": 67,
      "outputs": [
        {
          "output_type": "execute_result",
          "data": {
            "text/html": [
              "<div>\n",
              "<style scoped>\n",
              "    .dataframe tbody tr th:only-of-type {\n",
              "        vertical-align: middle;\n",
              "    }\n",
              "\n",
              "    .dataframe tbody tr th {\n",
              "        vertical-align: top;\n",
              "    }\n",
              "\n",
              "    .dataframe thead th {\n",
              "        text-align: right;\n",
              "    }\n",
              "</style>\n",
              "<table border=\"1\" class=\"dataframe\">\n",
              "  <thead>\n",
              "    <tr style=\"text-align: right;\">\n",
              "      <th></th>\n",
              "      <th>Bank Client ID</th>\n",
              "      <th>First Name</th>\n",
              "      <th>Last Name</th>\n",
              "      <th>Annual Salary [$/y]</th>\n",
              "    </tr>\n",
              "  </thead>\n",
              "  <tbody>\n",
              "    <tr>\n",
              "      <th>0</th>\n",
              "      <td>11</td>\n",
              "      <td>John</td>\n",
              "      <td>Snow</td>\n",
              "      <td>120000</td>\n",
              "    </tr>\n",
              "  </tbody>\n",
              "</table>\n",
              "</div>"
            ],
            "text/plain": [
              "   Bank Client ID First Name Last Name  Annual Salary [$/y]\n",
              "0              11       John      Snow               120000"
            ]
          },
          "metadata": {
            "tags": []
          },
          "execution_count": 67
        }
      ]
    },
    {
      "cell_type": "code",
      "metadata": {
        "id": "XQiP3NFy1Jbi",
        "outputId": "ed7b3ff0-bf67-4aaa-fbdf-247bbd8de58c",
        "colab": {
          "base_uri": "https://localhost:8080/",
          "height": 386
        }
      },
      "source": [
        "bank_df_all = pd.concat([bank_df_all, my_df])\n",
        "bank_df_all"
      ],
      "execution_count": 68,
      "outputs": [
        {
          "output_type": "execute_result",
          "data": {
            "text/html": [
              "<div>\n",
              "<style scoped>\n",
              "    .dataframe tbody tr th:only-of-type {\n",
              "        vertical-align: middle;\n",
              "    }\n",
              "\n",
              "    .dataframe tbody tr th {\n",
              "        vertical-align: top;\n",
              "    }\n",
              "\n",
              "    .dataframe thead th {\n",
              "        text-align: right;\n",
              "    }\n",
              "</style>\n",
              "<table border=\"1\" class=\"dataframe\">\n",
              "  <thead>\n",
              "    <tr style=\"text-align: right;\">\n",
              "      <th></th>\n",
              "      <th>Bank Client ID</th>\n",
              "      <th>First Name</th>\n",
              "      <th>Last Name</th>\n",
              "      <th>Annual Salary [$/y]</th>\n",
              "    </tr>\n",
              "  </thead>\n",
              "  <tbody>\n",
              "    <tr>\n",
              "      <th>0</th>\n",
              "      <td>1</td>\n",
              "      <td>Nancy</td>\n",
              "      <td>Rob</td>\n",
              "      <td>25000</td>\n",
              "    </tr>\n",
              "    <tr>\n",
              "      <th>1</th>\n",
              "      <td>2</td>\n",
              "      <td>Alex</td>\n",
              "      <td>Ali</td>\n",
              "      <td>35000</td>\n",
              "    </tr>\n",
              "    <tr>\n",
              "      <th>2</th>\n",
              "      <td>3</td>\n",
              "      <td>Shep</td>\n",
              "      <td>George</td>\n",
              "      <td>45000</td>\n",
              "    </tr>\n",
              "    <tr>\n",
              "      <th>3</th>\n",
              "      <td>4</td>\n",
              "      <td>Max</td>\n",
              "      <td>Mitch</td>\n",
              "      <td>50000</td>\n",
              "    </tr>\n",
              "    <tr>\n",
              "      <th>4</th>\n",
              "      <td>5</td>\n",
              "      <td>Allen</td>\n",
              "      <td>Steve</td>\n",
              "      <td>55000</td>\n",
              "    </tr>\n",
              "    <tr>\n",
              "      <th>5</th>\n",
              "      <td>6</td>\n",
              "      <td>Bill</td>\n",
              "      <td>Novak</td>\n",
              "      <td>65000</td>\n",
              "    </tr>\n",
              "    <tr>\n",
              "      <th>6</th>\n",
              "      <td>7</td>\n",
              "      <td>Dina</td>\n",
              "      <td>Mo</td>\n",
              "      <td>70000</td>\n",
              "    </tr>\n",
              "    <tr>\n",
              "      <th>7</th>\n",
              "      <td>8</td>\n",
              "      <td>Sarah</td>\n",
              "      <td>Larsen</td>\n",
              "      <td>75000</td>\n",
              "    </tr>\n",
              "    <tr>\n",
              "      <th>8</th>\n",
              "      <td>9</td>\n",
              "      <td>Heather</td>\n",
              "      <td>Iron</td>\n",
              "      <td>85000</td>\n",
              "    </tr>\n",
              "    <tr>\n",
              "      <th>9</th>\n",
              "      <td>10</td>\n",
              "      <td>Holly</td>\n",
              "      <td>Sailer</td>\n",
              "      <td>95000</td>\n",
              "    </tr>\n",
              "    <tr>\n",
              "      <th>0</th>\n",
              "      <td>11</td>\n",
              "      <td>John</td>\n",
              "      <td>Snow</td>\n",
              "      <td>120000</td>\n",
              "    </tr>\n",
              "  </tbody>\n",
              "</table>\n",
              "</div>"
            ],
            "text/plain": [
              "  Bank Client ID First Name Last Name  Annual Salary [$/y]\n",
              "0              1      Nancy       Rob                25000\n",
              "1              2       Alex       Ali                35000\n",
              "2              3       Shep    George                45000\n",
              "3              4        Max     Mitch                50000\n",
              "4              5      Allen     Steve                55000\n",
              "5              6       Bill     Novak                65000\n",
              "6              7       Dina        Mo                70000\n",
              "7              8      Sarah    Larsen                75000\n",
              "8              9    Heather      Iron                85000\n",
              "9             10      Holly    Sailer                95000\n",
              "0             11       John      Snow               120000"
            ]
          },
          "metadata": {
            "tags": []
          },
          "execution_count": 68
        }
      ]
    },
    {
      "cell_type": "markdown",
      "metadata": {
        "id": "i1gJS3K7vlxd"
      },
      "source": [
        "# EXCELLENT JOB!"
      ]
    },
    {
      "cell_type": "markdown",
      "metadata": {
        "id": "MF2SdJZ_vn4z"
      },
      "source": [
        "# MINI CHALLENGE SOLUTIONS"
      ]
    },
    {
      "cell_type": "markdown",
      "metadata": {
        "id": "Y6fUsXPv1Wom"
      },
      "source": [
        "**MINI CHALLENGE #1 SOLUTION:**\n",
        "- **A porfolio contains a collection of securities such as stocks, bonds and ETFs. Define a dataframe named 'portfolio_df' that holds 3 different stock ticker symbols, number of shares, and price per share (feel free to choose any stocks)**\n",
        "- **Calculate the total value of the porfolio including all stocks**"
      ]
    },
    {
      "cell_type": "code",
      "metadata": {
        "id": "8pftwyY81Wos"
      },
      "source": [
        "portfolio_df = pd.DataFrame({'stock ticker symbols':['AAPL', 'AMZN', 'T'],\n",
        "                             'price per share [$]':[3500, 200, 40], \n",
        "                             'Number of stocks':[3, 4, 9]})\n",
        "portfolio_df"
      ],
      "execution_count": null,
      "outputs": []
    },
    {
      "cell_type": "code",
      "metadata": {
        "id": "zTgj_BoE1Woy"
      },
      "source": [
        "stocks_dollar_value = portfolio_df['price per share [$]'] * portfolio_df['Number of stocks']\n",
        "print(stocks_dollar_value)\n",
        "print('Total portfolio value = {}'.format(stocks_dollar_value.sum()))"
      ],
      "execution_count": null,
      "outputs": []
    },
    {
      "cell_type": "markdown",
      "metadata": {
        "id": "5YQ1rFW723fN"
      },
      "source": [
        "**MINI CHALLENGE #2 SOLUTION:**\n",
        "- **Write a code that uses Pandas to read tabular US retirement data**\n",
        "- **You can use data from here: https://www.ssa.gov/oact/progdata/nra.html** "
      ]
    },
    {
      "cell_type": "code",
      "metadata": {
        "id": "mmWTN7yD23fQ"
      },
      "source": [
        "# Read tabular data using read_html\n",
        "retirement_age_df = pd.read_html('https://www.ssa.gov/oact/progdata/nra.html')\n",
        "retirement_age_df"
      ],
      "execution_count": null,
      "outputs": []
    },
    {
      "cell_type": "markdown",
      "metadata": {
        "id": "qN1gAggk4QvE"
      },
      "source": [
        "**MINI CHALLENGE #3 SOLUTION:**\n",
        "- **Using \"bank_client_df\" DataFrame, leverage pandas operations to only select high networth individuals with minimum $5000** \n",
        "- **What is the combined networth for all customers with 5000+ networth?**"
      ]
    },
    {
      "cell_type": "code",
      "metadata": {
        "id": "CSN32b-o4QvG"
      },
      "source": [
        "df_high_networth = bank_client_df[ (bank_client_df['Net worth [$]'] >= 5000) ]\n",
        "df_high_networth"
      ],
      "execution_count": null,
      "outputs": []
    },
    {
      "cell_type": "code",
      "metadata": {
        "id": "8x2FQdmp4QvN"
      },
      "source": [
        "df_high_networth['Net worth [$]'].sum()"
      ],
      "execution_count": null,
      "outputs": []
    },
    {
      "cell_type": "code",
      "metadata": {
        "id": "zubS-MOi6O-y"
      },
      "source": [
        ""
      ],
      "execution_count": null,
      "outputs": []
    },
    {
      "cell_type": "markdown",
      "metadata": {
        "id": "T3xpj-hW6PYi"
      },
      "source": [
        "**MINI CHALLENGE #4 SOLUTION:**\n",
        "- **Define a function that doubles stock prices and adds $100**\n",
        "- **Apply the function to the DataFrame**\n",
        "- **Calculate the updated total networth of all clients combined**"
      ]
    },
    {
      "cell_type": "code",
      "metadata": {
        "id": "S8O56b_W6PYk"
      },
      "source": [
        "def networth_update(balance):\n",
        "    return balance * 2 + 100 # assume that stock prices increased by 10%"
      ],
      "execution_count": null,
      "outputs": []
    },
    {
      "cell_type": "code",
      "metadata": {
        "id": "r2crG2yx6PYt"
      },
      "source": [
        "# You can apply a function to the DataFrame \n",
        "results = bank_client_df['Net worth [$]'].apply(networth_update)\n",
        "results"
      ],
      "execution_count": null,
      "outputs": []
    },
    {
      "cell_type": "code",
      "metadata": {
        "id": "SAzpFD5Y6PY1"
      },
      "source": [
        "results.sum()"
      ],
      "execution_count": null,
      "outputs": []
    },
    {
      "cell_type": "markdown",
      "metadata": {
        "id": "Trx36mNb62JX"
      },
      "source": [
        "**MINI CHALLENGE #5 SOLUTION:**\n",
        "- **Sort customers by networth instead of years with bank. Make sure to update values in-memory.**"
      ]
    },
    {
      "cell_type": "code",
      "metadata": {
        "id": "b4nvA-VQ62Ja"
      },
      "source": [
        "# You can sort the values in the dataframe according to number of years with bank\n",
        "bank_client_df.sort_values(by = 'Net worth [$]', inplace = True) \n",
        "bank_client_df"
      ],
      "execution_count": null,
      "outputs": []
    },
    {
      "cell_type": "markdown",
      "metadata": {
        "id": "i83R6Kvb_cGZ"
      },
      "source": [
        "**MINI CHALLENGE #6 SOLUTION:**\n",
        "- **Let's assume that you became a new client to the bank**\n",
        "- **Define a new DataFrame that contains your information such as client ID (choose 11), first name, last name, and annual salary.**\n",
        "- **Add this new dataframe to the original dataframe \"bank_df_all\".** "
      ]
    },
    {
      "cell_type": "code",
      "metadata": {
        "id": "YmxlF6op_cGc"
      },
      "source": [
        "new_client = {\n",
        "        'Bank Client ID': ['11'],\n",
        "        'First Name': ['Ry'], \n",
        "        'Last Name': ['Aly'],\n",
        "        'Annual Salary [$/year]' : [1000]}\n",
        "new_client_df = pd.DataFrame(new_client, columns = ['Bank Client ID', 'First Name', 'Last Name', 'Annual Salary [$/year]'])\n",
        "new_client_df"
      ],
      "execution_count": null,
      "outputs": []
    },
    {
      "cell_type": "code",
      "metadata": {
        "id": "dhOKOcVR_cGl"
      },
      "source": [
        "new_df = pd.concat([bank_df_all, new_client_df], axis = 0)\n",
        "new_df"
      ],
      "execution_count": null,
      "outputs": []
    }
  ]
}